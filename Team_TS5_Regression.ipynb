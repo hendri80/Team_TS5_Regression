{
 "cells": [
  {
   "cell_type": "markdown",
   "metadata": {
    "colab_type": "text",
    "id": "view-in-github"
   },
   "source": [
    "<a href=\"https://colab.research.google.com/github/bino-m/Team_TS5_Regression/blob/main/Team_TS5_Regression.ipynb\" target=\"_parent\"><img src=\"https://colab.research.google.com/assets/colab-badge.svg\" alt=\"Open In Colab\"/></a>"
   ]
  },
  {
   "cell_type": "markdown",
   "metadata": {
    "id": "NSx0hDFKxxdg"
   },
   "source": [
    "# EDSA Apple Price Challenge\n",
    "#### Team TS5 Regression"
   ]
  },
  {
   "cell_type": "markdown",
   "metadata": {},
   "source": [
    "<div align=\"center\" style=\"width: 600px; font-size: 80%; text-align: center; margin: 0 auto\">\n",
    "<img src=\"https://raw.githubusercontent.com/CPNMorgan/sharing-github/main/Goldenapples.jpg\"\n",
    "     alt=\"Titanic\"\n",
    "     style=\"float: center; padding-bottom=0.5em\"\n",
    "     width=600px/>\n",
    "\n",
    "</div>"
   ]
  },
  {
   "cell_type": "markdown",
   "metadata": {},
   "source": [
    "#  Table of Contents"
   ]
  },
  {
   "cell_type": "markdown",
   "metadata": {},
   "source": [
    "1. <a href =\"#1.-Challenge-description\">Challenge description</a>\n",
    "2. <a href =\"#2.-Outline\">Outline</a>\n",
    "3. <a href =\"#3.-Introduction\">Introduction</a>\n",
    "4. <a href =\"#4.-Importing-Libraries\">Importing Libraries</a>\n",
    "5. <a href =\"#5.-Importing-data\">Importing data</a>    \n",
    "6. <a href =\"#6.-Data-Cleaning\">Data Cleaning</a>\n",
    "7. <a href =\"#7.-Summary-Statistics\">Summary Statistics</a>\n",
    "8. <a href =\"#8.-Dummy-Variable-Encoding\">Dummy Variable Encoding</a>\n",
    "9. <a href =\"#9.-Feature-selection\">Feature selection</a>\n",
    "10. <a href =\"#10.-Linear-model\">Linear model</a>\n",
    "11. <a href =\"#11.Ridge-Regression\">Ridge Regression</a>\n",
    "12. <a href =\"#12.-Assessing-the-predictive-accuracy-of-the-Ridge-model\">Assessing the predictive accuracy of the Ridge model</a>\n",
    "13. <a href =\"#13.-Lasso-Regression\">Lasso Regression</a>\n",
    "14. <a href =\"#14.-Assessment-of-predictive-accuracy\">Assessment of predictive accuracy</a>\n",
    "15. <a href =\"#15.-Decision-Trees\">Decision Trees</a>\n",
    "16. <a href =\"#16.-Random-Forest\">Random Forest</a>\n",
    "17. <a href =\"#17.-Feature-Importance\">Feature Importance</a>\n",
    "18. <a href =\"#18.-Log-Transformation\">Log Transformation</a>\n",
    "19. <a href =\"#19.-Comparing-models-when-outliers-are-removed\">Comparing models when outliers are removed</a>\n",
    "20. <a href =\"#20.-Model-Evaluation\">Model Evaluation</a>\n",
    "21. <a href =\"#21.Best-Model-Validation\">Best Model Validation</a>\n",
    "22. <a href =\"#22.-Predicting-on-the-Test-Data\">Predicting on the Test Data</a>\n",
    "23. <a href =\"#23.-Predictions-and-Submission-file\">Predictions and Submission file</a>\n",
    "24. <a href =\"#24.-Conclusion\">Conclusion</a>"
   ]
  },
  {
   "cell_type": "markdown",
   "metadata": {
    "id": "sBiQi4zLxxdr"
   },
   "source": [
    "# 1. Challenge description\n",
    "\n",
    "Imagine you are in the Fresh Produce Industry. How much stock do you have on hand? Not too little that you run out of stock when customers want to buy more. And not too much that food waste occurs. How do you set your prices? Yields from farms fluctuate by season. Should your prices then also fluctuate by season?\n",
    "\n",
    "  Providing an accurate and robust solution to this challenge has immense economic potential, with users of the system being able to accurately determine how much stock to have on hand and what price to set the Golden Delicious Apples to.\n",
    "  \n",
    "  With this context, we are challenged to construct a regression algorithm, by EDSA, capable of accurately predicting how much a kilogram of Golden Delicious Apples will cost, given certain parameters.\n"
   ]
  },
  {
   "cell_type": "markdown",
   "metadata": {
    "id": "L6JolBa8xxdt"
   },
   "source": [
    "# 2. Outline"
   ]
  },
  {
   "cell_type": "markdown",
   "metadata": {
    "id": "9sPdAGKcxxdt"
   },
   "source": [
    "# 3. Introduction"
   ]
  },
  {
   "cell_type": "markdown",
   "metadata": {
    "id": "UoKRPgw3xxdu"
   },
   "source": [
    "In this report, the aim is to construct a regression algorithm, capable of accurately predicting how much a kilogram of Golden Delicious Apples will cost, given certain parameters. \n",
    "\n",
    "  To achieve this, we will Goal perform a pre-modeling/modeling of work, exploratory data, and investigate the importance of data preprocessing, feature exploration, and feature engineering on model performace.\n",
    "  \n",
    "  Python libraries used:\n",
    "* Numpy\n",
    "* Pandas\n",
    "* Sci-kit learn\n",
    "* Matplotlib\n",
    "* Almost entire workflow is covered by these four libraries"
   ]
  },
  {
   "cell_type": "markdown",
   "metadata": {
    "id": "qaraBm-Xxxdv"
   },
   "source": [
    "# 4. Importing Libraries\n",
    "\n",
    "We will be importing a few python libraries."
   ]
  },
  {
   "cell_type": "code",
   "execution_count": 1,
   "metadata": {
    "id": "k0RjYBVfxxdw"
   },
   "outputs": [],
   "source": [
    "import seaborn as sns\n",
    "import matplotlib.pyplot as plt\n",
    "#%matplotlib inline\n",
    "from scipy import stats\n",
    "import math\n",
    "import pickle\n",
    "import pandas as pd\n",
    "import numpy as np"
   ]
  },
  {
   "cell_type": "markdown",
   "metadata": {
    "id": "Rmw0Y_voxxdx"
   },
   "source": [
    "We will be loading our data as a Pandas Dataframe. For this challenge we will be using `EDSA Apple Price Challenge` dataset."
   ]
  },
  {
   "cell_type": "markdown",
   "metadata": {},
   "source": [
    "# 5. Importing data"
   ]
  },
  {
   "cell_type": "code",
   "execution_count": 2,
   "metadata": {
    "id": "iPmf3wUvxxdy"
   },
   "outputs": [],
   "source": [
    "train = pd.read_csv(r'https://raw.githubusercontent.com/CPNMorgan/sharing-github/main/df-train_set.csv')"
   ]
  },
  {
   "cell_type": "code",
   "execution_count": 5,
   "metadata": {
    "id": "iVGWGioUxxdy",
    "outputId": "80dad6f8-5e73-4194-d1e6-ff40ad13893e"
   },
   "outputs": [
    {
     "data": {
      "text/html": [
       "<div>\n",
       "<style scoped>\n",
       "    .dataframe tbody tr th:only-of-type {\n",
       "        vertical-align: middle;\n",
       "    }\n",
       "\n",
       "    .dataframe tbody tr th {\n",
       "        vertical-align: top;\n",
       "    }\n",
       "\n",
       "    .dataframe thead th {\n",
       "        text-align: right;\n",
       "    }\n",
       "</style>\n",
       "<table border=\"1\" class=\"dataframe\">\n",
       "  <thead>\n",
       "    <tr style=\"text-align: right;\">\n",
       "      <th></th>\n",
       "      <th>Province</th>\n",
       "      <th>Container</th>\n",
       "      <th>Size_Grade</th>\n",
       "      <th>Weight_Kg</th>\n",
       "      <th>Commodities</th>\n",
       "      <th>Date</th>\n",
       "      <th>Low_Price</th>\n",
       "      <th>High_Price</th>\n",
       "      <th>Sales_Total</th>\n",
       "      <th>Total_Qty_Sold</th>\n",
       "      <th>Total_Kg_Sold</th>\n",
       "      <th>Stock_On_Hand</th>\n",
       "      <th>avg_price_per_kg</th>\n",
       "    </tr>\n",
       "  </thead>\n",
       "  <tbody>\n",
       "    <tr>\n",
       "      <th>0</th>\n",
       "      <td>CAPE</td>\n",
       "      <td>EC120</td>\n",
       "      <td>1L</td>\n",
       "      <td>12.0</td>\n",
       "      <td>APPLE GRANNY SMITH</td>\n",
       "      <td>2020-03-10</td>\n",
       "      <td>108.0</td>\n",
       "      <td>112.0</td>\n",
       "      <td>3236.0</td>\n",
       "      <td>29</td>\n",
       "      <td>348.0</td>\n",
       "      <td>0</td>\n",
       "      <td>9.30</td>\n",
       "    </tr>\n",
       "    <tr>\n",
       "      <th>1</th>\n",
       "      <td>CAPE</td>\n",
       "      <td>M4183</td>\n",
       "      <td>1L</td>\n",
       "      <td>18.3</td>\n",
       "      <td>APPLE GOLDEN DELICIOUS</td>\n",
       "      <td>2020-09-09</td>\n",
       "      <td>150.0</td>\n",
       "      <td>170.0</td>\n",
       "      <td>51710.0</td>\n",
       "      <td>332</td>\n",
       "      <td>6075.6</td>\n",
       "      <td>822</td>\n",
       "      <td>8.51</td>\n",
       "    </tr>\n",
       "    <tr>\n",
       "      <th>2</th>\n",
       "      <td>GAUTENG</td>\n",
       "      <td>AT200</td>\n",
       "      <td>1L</td>\n",
       "      <td>20.0</td>\n",
       "      <td>AVOCADO PINKERTON</td>\n",
       "      <td>2020-05-05</td>\n",
       "      <td>70.0</td>\n",
       "      <td>80.0</td>\n",
       "      <td>4860.0</td>\n",
       "      <td>66</td>\n",
       "      <td>1320.0</td>\n",
       "      <td>50</td>\n",
       "      <td>3.68</td>\n",
       "    </tr>\n",
       "    <tr>\n",
       "      <th>3</th>\n",
       "      <td>TRANSVAAL</td>\n",
       "      <td>BJ090</td>\n",
       "      <td>1L</td>\n",
       "      <td>9.0</td>\n",
       "      <td>TOMATOES-LONG LIFE</td>\n",
       "      <td>2020-01-20</td>\n",
       "      <td>60.0</td>\n",
       "      <td>60.0</td>\n",
       "      <td>600.0</td>\n",
       "      <td>10</td>\n",
       "      <td>90.0</td>\n",
       "      <td>0</td>\n",
       "      <td>6.67</td>\n",
       "    </tr>\n",
       "    <tr>\n",
       "      <th>4</th>\n",
       "      <td>WESTERN FREESTATE</td>\n",
       "      <td>PP100</td>\n",
       "      <td>1R</td>\n",
       "      <td>10.0</td>\n",
       "      <td>POTATO SIFRA (WASHED)</td>\n",
       "      <td>2020-07-14</td>\n",
       "      <td>40.0</td>\n",
       "      <td>45.0</td>\n",
       "      <td>41530.0</td>\n",
       "      <td>927</td>\n",
       "      <td>9270.0</td>\n",
       "      <td>393</td>\n",
       "      <td>4.48</td>\n",
       "    </tr>\n",
       "  </tbody>\n",
       "</table>\n",
       "</div>"
      ],
      "text/plain": [
       "            Province Container Size_Grade  Weight_Kg             Commodities  \\\n",
       "0               CAPE     EC120         1L       12.0      APPLE GRANNY SMITH   \n",
       "1               CAPE     M4183         1L       18.3  APPLE GOLDEN DELICIOUS   \n",
       "2            GAUTENG     AT200         1L       20.0       AVOCADO PINKERTON   \n",
       "3          TRANSVAAL     BJ090         1L        9.0      TOMATOES-LONG LIFE   \n",
       "4  WESTERN FREESTATE     PP100         1R       10.0   POTATO SIFRA (WASHED)   \n",
       "\n",
       "         Date  Low_Price  High_Price  Sales_Total  Total_Qty_Sold  \\\n",
       "0  2020-03-10      108.0       112.0       3236.0              29   \n",
       "1  2020-09-09      150.0       170.0      51710.0             332   \n",
       "2  2020-05-05       70.0        80.0       4860.0              66   \n",
       "3  2020-01-20       60.0        60.0        600.0              10   \n",
       "4  2020-07-14       40.0        45.0      41530.0             927   \n",
       "\n",
       "   Total_Kg_Sold  Stock_On_Hand  avg_price_per_kg  \n",
       "0          348.0              0              9.30  \n",
       "1         6075.6            822              8.51  \n",
       "2         1320.0             50              3.68  \n",
       "3           90.0              0              6.67  \n",
       "4         9270.0            393              4.48  "
      ]
     },
     "execution_count": 5,
     "metadata": {},
     "output_type": "execute_result"
    }
   ],
   "source": [
    "train.head()"
   ]
  },
  {
   "cell_type": "markdown",
   "metadata": {
    "id": "ZHM_zfRbxxd0"
   },
   "source": [
    "We look at the top rows of our data in order to see the features as well as the types of data we are working with.\n",
    "\n"
   ]
  },
  {
   "cell_type": "markdown",
   "metadata": {
    "id": "JitPhbeoxxd1"
   },
   "source": [
    "# 6. Data Cleaning\n",
    "\n",
    "If we want to build some relationship between variables that are likely to indicate the average price per kg of Golden Delicious Apples, we really only want to consider the sales which involved Golden Delicious Apples to build this relationship:"
   ]
  },
  {
   "cell_type": "code",
   "execution_count": 6,
   "metadata": {
    "id": "AxgXku3gxxd2",
    "outputId": "bdf54bb7-4e72-4feb-fdd1-d2b6434a83ef"
   },
   "outputs": [
    {
     "data": {
      "text/html": [
       "<div>\n",
       "<style scoped>\n",
       "    .dataframe tbody tr th:only-of-type {\n",
       "        vertical-align: middle;\n",
       "    }\n",
       "\n",
       "    .dataframe tbody tr th {\n",
       "        vertical-align: top;\n",
       "    }\n",
       "\n",
       "    .dataframe thead th {\n",
       "        text-align: right;\n",
       "    }\n",
       "</style>\n",
       "<table border=\"1\" class=\"dataframe\">\n",
       "  <thead>\n",
       "    <tr style=\"text-align: right;\">\n",
       "      <th></th>\n",
       "      <th>Province</th>\n",
       "      <th>Container</th>\n",
       "      <th>Size_Grade</th>\n",
       "      <th>Weight_Kg</th>\n",
       "      <th>Commodities</th>\n",
       "      <th>Date</th>\n",
       "      <th>Low_Price</th>\n",
       "      <th>High_Price</th>\n",
       "      <th>Sales_Total</th>\n",
       "      <th>Total_Qty_Sold</th>\n",
       "      <th>Total_Kg_Sold</th>\n",
       "      <th>Stock_On_Hand</th>\n",
       "      <th>avg_price_per_kg</th>\n",
       "    </tr>\n",
       "  </thead>\n",
       "  <tbody>\n",
       "    <tr>\n",
       "      <th>1</th>\n",
       "      <td>CAPE</td>\n",
       "      <td>M4183</td>\n",
       "      <td>1L</td>\n",
       "      <td>18.3</td>\n",
       "      <td>APPLE GOLDEN DELICIOUS</td>\n",
       "      <td>2020-09-09</td>\n",
       "      <td>150.0</td>\n",
       "      <td>170.0</td>\n",
       "      <td>51710.0</td>\n",
       "      <td>332</td>\n",
       "      <td>6075.6</td>\n",
       "      <td>822</td>\n",
       "      <td>8.51</td>\n",
       "    </tr>\n",
       "    <tr>\n",
       "      <th>7</th>\n",
       "      <td>CAPE</td>\n",
       "      <td>JG110</td>\n",
       "      <td>2M</td>\n",
       "      <td>11.0</td>\n",
       "      <td>APPLE GOLDEN DELICIOUS</td>\n",
       "      <td>2020-04-14</td>\n",
       "      <td>50.0</td>\n",
       "      <td>50.0</td>\n",
       "      <td>16000.0</td>\n",
       "      <td>320</td>\n",
       "      <td>3520.0</td>\n",
       "      <td>0</td>\n",
       "      <td>4.55</td>\n",
       "    </tr>\n",
       "    <tr>\n",
       "      <th>24</th>\n",
       "      <td>W.CAPE-BERGRIVER ETC</td>\n",
       "      <td>JE090</td>\n",
       "      <td>2S</td>\n",
       "      <td>9.0</td>\n",
       "      <td>APPLE GOLDEN DELICIOUS</td>\n",
       "      <td>2020-04-16</td>\n",
       "      <td>55.0</td>\n",
       "      <td>55.0</td>\n",
       "      <td>990.0</td>\n",
       "      <td>18</td>\n",
       "      <td>162.0</td>\n",
       "      <td>1506</td>\n",
       "      <td>6.11</td>\n",
       "    </tr>\n",
       "    <tr>\n",
       "      <th>40</th>\n",
       "      <td>CAPE</td>\n",
       "      <td>M4183</td>\n",
       "      <td>1S</td>\n",
       "      <td>18.3</td>\n",
       "      <td>APPLE GOLDEN DELICIOUS</td>\n",
       "      <td>2020-05-04</td>\n",
       "      <td>80.0</td>\n",
       "      <td>120.0</td>\n",
       "      <td>32020.0</td>\n",
       "      <td>388</td>\n",
       "      <td>7100.4</td>\n",
       "      <td>443</td>\n",
       "      <td>4.51</td>\n",
       "    </tr>\n",
       "    <tr>\n",
       "      <th>69</th>\n",
       "      <td>EASTERN CAPE</td>\n",
       "      <td>IA400</td>\n",
       "      <td>1S</td>\n",
       "      <td>400.0</td>\n",
       "      <td>APPLE GOLDEN DELICIOUS</td>\n",
       "      <td>2020-09-28</td>\n",
       "      <td>1800.0</td>\n",
       "      <td>1800.0</td>\n",
       "      <td>1800.0</td>\n",
       "      <td>1</td>\n",
       "      <td>400.0</td>\n",
       "      <td>2</td>\n",
       "      <td>4.50</td>\n",
       "    </tr>\n",
       "  </tbody>\n",
       "</table>\n",
       "</div>"
      ],
      "text/plain": [
       "                Province Container Size_Grade  Weight_Kg  \\\n",
       "1                   CAPE     M4183         1L       18.3   \n",
       "7                   CAPE     JG110         2M       11.0   \n",
       "24  W.CAPE-BERGRIVER ETC     JE090         2S        9.0   \n",
       "40                  CAPE     M4183         1S       18.3   \n",
       "69          EASTERN CAPE     IA400         1S      400.0   \n",
       "\n",
       "               Commodities        Date  Low_Price  High_Price  Sales_Total  \\\n",
       "1   APPLE GOLDEN DELICIOUS  2020-09-09      150.0       170.0      51710.0   \n",
       "7   APPLE GOLDEN DELICIOUS  2020-04-14       50.0        50.0      16000.0   \n",
       "24  APPLE GOLDEN DELICIOUS  2020-04-16       55.0        55.0        990.0   \n",
       "40  APPLE GOLDEN DELICIOUS  2020-05-04       80.0       120.0      32020.0   \n",
       "69  APPLE GOLDEN DELICIOUS  2020-09-28     1800.0      1800.0       1800.0   \n",
       "\n",
       "    Total_Qty_Sold  Total_Kg_Sold  Stock_On_Hand  avg_price_per_kg  \n",
       "1              332         6075.6            822              8.51  \n",
       "7              320         3520.0              0              4.55  \n",
       "24              18          162.0           1506              6.11  \n",
       "40             388         7100.4            443              4.51  \n",
       "69               1          400.0              2              4.50  "
      ]
     },
     "execution_count": 6,
     "metadata": {},
     "output_type": "execute_result"
    }
   ],
   "source": [
    "train_data = train.copy()\n",
    "train_data = train_data[train_data['Commodities']=='APPLE GOLDEN DELICIOUS']\n",
    "train_data.head()"
   ]
  },
  {
   "cell_type": "code",
   "execution_count": 7,
   "metadata": {
    "id": "QuLs4Nkxxxd2",
    "outputId": "5206281a-b185-4d5c-ba26-9d40fea07811"
   },
   "outputs": [
    {
     "data": {
      "text/plain": [
       "(1952, 13)"
      ]
     },
     "execution_count": 7,
     "metadata": {},
     "output_type": "execute_result"
    }
   ],
   "source": [
    "train_data.shape"
   ]
  },
  {
   "cell_type": "markdown",
   "metadata": {
    "id": "KjPIMa0Axxd3"
   },
   "source": [
    "The shape command shows us we have 1952 rows and 13 columns.\n",
    "\n",
    "Let's check if we have any unique values in our columns."
   ]
  },
  {
   "cell_type": "code",
   "execution_count": 8,
   "metadata": {
    "id": "qoEn9wEIxxd4",
    "outputId": "ca46f32f-a8ac-440a-a5f3-a6751d9d56e7"
   },
   "outputs": [
    {
     "data": {
      "text/plain": [
       "Province               7\n",
       "Container             11\n",
       "Size_Grade            10\n",
       "Weight_Kg              9\n",
       "Commodities            1\n",
       "Date                 147\n",
       "Low_Price             94\n",
       "High_Price            88\n",
       "Sales_Total         1324\n",
       "Total_Qty_Sold       505\n",
       "Total_Kg_Sold        850\n",
       "Stock_On_Hand        735\n",
       "avg_price_per_kg     601\n",
       "dtype: int64"
      ]
     },
     "execution_count": 8,
     "metadata": {},
     "output_type": "execute_result"
    }
   ],
   "source": [
    "train_data.nunique()"
   ]
  },
  {
   "cell_type": "markdown",
   "metadata": {
    "id": "fT1YLZ28xxd4"
   },
   "source": [
    "We do not need columns with cardinality of 1. We can remove the column with an iterator."
   ]
  },
  {
   "cell_type": "code",
   "execution_count": 9,
   "metadata": {
    "id": "AqwljBXPxxd5"
   },
   "outputs": [],
   "source": [
    "train_data = train_data.drop('Commodities', axis=1) "
   ]
  },
  {
   "cell_type": "markdown",
   "metadata": {
    "id": "fkRK2xjbxxd5"
   },
   "source": [
    "# 7. Summary Statistics\n",
    "\n",
    "Let's explore the data types and the summary statistics of our variables.\n",
    "\n",
    "We'll start by looking at the data types and number of entries of each column."
   ]
  },
  {
   "cell_type": "code",
   "execution_count": 10,
   "metadata": {
    "id": "atbsMG3Gxxd6",
    "outputId": "fa042bc2-b2b3-4e33-8eb0-951ff3a3ce9a"
   },
   "outputs": [
    {
     "name": "stdout",
     "output_type": "stream",
     "text": [
      "<class 'pandas.core.frame.DataFrame'>\n",
      "Int64Index: 1952 entries, 1 to 64310\n",
      "Data columns (total 12 columns):\n",
      "Province            1952 non-null object\n",
      "Container           1952 non-null object\n",
      "Size_Grade          1952 non-null object\n",
      "Weight_Kg           1952 non-null float64\n",
      "Date                1952 non-null object\n",
      "Low_Price           1952 non-null float64\n",
      "High_Price          1952 non-null float64\n",
      "Sales_Total         1952 non-null float64\n",
      "Total_Qty_Sold      1952 non-null int64\n",
      "Total_Kg_Sold       1952 non-null float64\n",
      "Stock_On_Hand       1952 non-null int64\n",
      "avg_price_per_kg    1952 non-null float64\n",
      "dtypes: float64(6), int64(2), object(4)\n",
      "memory usage: 198.2+ KB\n"
     ]
    }
   ],
   "source": [
    "# Checking basis information about column types and null values\n",
    "train_data.info()"
   ]
  },
  {
   "cell_type": "markdown",
   "metadata": {
    "id": "NpSvj4-Nxxd7"
   },
   "source": [
    "The info command confirms our categorial and numerial features. We have 1952 samples in our dataset. Data is organized in 12 columns. From this, we can see that there are no null values in our data."
   ]
  },
  {
   "cell_type": "markdown",
   "metadata": {
    "id": "venpSOvhxxd7"
   },
   "source": [
    "Now let's look at a table showcasing the summary statistics of the numeric data."
   ]
  },
  {
   "cell_type": "code",
   "execution_count": 11,
   "metadata": {
    "id": "lp66WhLkxxd8",
    "outputId": "a54f39ed-9e50-4dfd-b1b4-416a5b57b4fd"
   },
   "outputs": [
    {
     "data": {
      "text/html": [
       "<div>\n",
       "<style scoped>\n",
       "    .dataframe tbody tr th:only-of-type {\n",
       "        vertical-align: middle;\n",
       "    }\n",
       "\n",
       "    .dataframe tbody tr th {\n",
       "        vertical-align: top;\n",
       "    }\n",
       "\n",
       "    .dataframe thead th {\n",
       "        text-align: right;\n",
       "    }\n",
       "</style>\n",
       "<table border=\"1\" class=\"dataframe\">\n",
       "  <thead>\n",
       "    <tr style=\"text-align: right;\">\n",
       "      <th></th>\n",
       "      <th>Weight_Kg</th>\n",
       "      <th>Low_Price</th>\n",
       "      <th>High_Price</th>\n",
       "      <th>Sales_Total</th>\n",
       "      <th>Total_Qty_Sold</th>\n",
       "      <th>Total_Kg_Sold</th>\n",
       "      <th>Stock_On_Hand</th>\n",
       "      <th>avg_price_per_kg</th>\n",
       "    </tr>\n",
       "  </thead>\n",
       "  <tbody>\n",
       "    <tr>\n",
       "      <th>count</th>\n",
       "      <td>1952.000000</td>\n",
       "      <td>1952.000000</td>\n",
       "      <td>1952.000000</td>\n",
       "      <td>1952.000000</td>\n",
       "      <td>1952.000000</td>\n",
       "      <td>1952.000000</td>\n",
       "      <td>1952.000000</td>\n",
       "      <td>1952.000000</td>\n",
       "    </tr>\n",
       "    <tr>\n",
       "      <th>mean</th>\n",
       "      <td>40.460912</td>\n",
       "      <td>174.307377</td>\n",
       "      <td>215.648053</td>\n",
       "      <td>20053.533811</td>\n",
       "      <td>174.510758</td>\n",
       "      <td>2960.176332</td>\n",
       "      <td>408.393955</td>\n",
       "      <td>6.778893</td>\n",
       "    </tr>\n",
       "    <tr>\n",
       "      <th>std</th>\n",
       "      <td>99.655169</td>\n",
       "      <td>373.553578</td>\n",
       "      <td>433.546159</td>\n",
       "      <td>39005.069445</td>\n",
       "      <td>308.810797</td>\n",
       "      <td>6097.416527</td>\n",
       "      <td>724.450582</td>\n",
       "      <td>2.248744</td>\n",
       "    </tr>\n",
       "    <tr>\n",
       "      <th>min</th>\n",
       "      <td>3.000000</td>\n",
       "      <td>2.000000</td>\n",
       "      <td>5.000000</td>\n",
       "      <td>5.000000</td>\n",
       "      <td>1.000000</td>\n",
       "      <td>3.000000</td>\n",
       "      <td>0.000000</td>\n",
       "      <td>0.250000</td>\n",
       "    </tr>\n",
       "    <tr>\n",
       "      <th>25%</th>\n",
       "      <td>9.000000</td>\n",
       "      <td>50.000000</td>\n",
       "      <td>60.000000</td>\n",
       "      <td>1325.000000</td>\n",
       "      <td>12.000000</td>\n",
       "      <td>219.600000</td>\n",
       "      <td>9.000000</td>\n",
       "      <td>5.460000</td>\n",
       "    </tr>\n",
       "    <tr>\n",
       "      <th>50%</th>\n",
       "      <td>12.000000</td>\n",
       "      <td>80.000000</td>\n",
       "      <td>108.000000</td>\n",
       "      <td>5495.000000</td>\n",
       "      <td>64.000000</td>\n",
       "      <td>853.500000</td>\n",
       "      <td>126.500000</td>\n",
       "      <td>6.670000</td>\n",
       "    </tr>\n",
       "    <tr>\n",
       "      <th>75%</th>\n",
       "      <td>18.300000</td>\n",
       "      <td>127.250000</td>\n",
       "      <td>160.000000</td>\n",
       "      <td>21082.500000</td>\n",
       "      <td>200.000000</td>\n",
       "      <td>3093.525000</td>\n",
       "      <td>468.000000</td>\n",
       "      <td>8.280000</td>\n",
       "    </tr>\n",
       "    <tr>\n",
       "      <th>max</th>\n",
       "      <td>400.000000</td>\n",
       "      <td>2300.000000</td>\n",
       "      <td>3300.000000</td>\n",
       "      <td>369464.000000</td>\n",
       "      <td>4237.000000</td>\n",
       "      <td>74000.000000</td>\n",
       "      <td>6400.000000</td>\n",
       "      <td>21.240000</td>\n",
       "    </tr>\n",
       "  </tbody>\n",
       "</table>\n",
       "</div>"
      ],
      "text/plain": [
       "         Weight_Kg    Low_Price   High_Price    Sales_Total  Total_Qty_Sold  \\\n",
       "count  1952.000000  1952.000000  1952.000000    1952.000000     1952.000000   \n",
       "mean     40.460912   174.307377   215.648053   20053.533811      174.510758   \n",
       "std      99.655169   373.553578   433.546159   39005.069445      308.810797   \n",
       "min       3.000000     2.000000     5.000000       5.000000        1.000000   \n",
       "25%       9.000000    50.000000    60.000000    1325.000000       12.000000   \n",
       "50%      12.000000    80.000000   108.000000    5495.000000       64.000000   \n",
       "75%      18.300000   127.250000   160.000000   21082.500000      200.000000   \n",
       "max     400.000000  2300.000000  3300.000000  369464.000000     4237.000000   \n",
       "\n",
       "       Total_Kg_Sold  Stock_On_Hand  avg_price_per_kg  \n",
       "count    1952.000000    1952.000000       1952.000000  \n",
       "mean     2960.176332     408.393955          6.778893  \n",
       "std      6097.416527     724.450582          2.248744  \n",
       "min         3.000000       0.000000          0.250000  \n",
       "25%       219.600000       9.000000          5.460000  \n",
       "50%       853.500000     126.500000          6.670000  \n",
       "75%      3093.525000     468.000000          8.280000  \n",
       "max     74000.000000    6400.000000         21.240000  "
      ]
     },
     "execution_count": 11,
     "metadata": {},
     "output_type": "execute_result"
    }
   ],
   "source": [
    "train_data.describe()"
   ]
  },
  {
   "cell_type": "markdown",
   "metadata": {
    "id": "MuYCwDWTxxd8"
   },
   "source": [
    "Let's check for outliers in our numeric data. We'll do this using the kurtosis method. A value > 3 indicates a high presence of outliers in our data, whereas a value < 3 indicates a lack thereof."
   ]
  },
  {
   "cell_type": "code",
   "execution_count": 12,
   "metadata": {
    "id": "Z0BTcFKQxxd9",
    "outputId": "aab08148-5f7d-4aa0-8c26-47f2ed142c0c"
   },
   "outputs": [
    {
     "data": {
      "text/plain": [
       "Weight_Kg            9.109698\n",
       "Low_Price           17.073369\n",
       "High_Price          13.630768\n",
       "Sales_Total         24.200524\n",
       "Total_Qty_Sold      32.338123\n",
       "Total_Kg_Sold       45.153801\n",
       "Stock_On_Hand       14.671224\n",
       "avg_price_per_kg     1.042921\n",
       "dtype: float64"
      ]
     },
     "execution_count": 12,
     "metadata": {},
     "output_type": "execute_result"
    }
   ],
   "source": [
    "train_data.kurtosis()"
   ]
  },
  {
   "cell_type": "markdown",
   "metadata": {
    "id": "r_FBWDFrxxd9"
   },
   "source": [
    "We will not be removing outliers yet. Removing outliers will definitely improve linear models, however we might loose valuable data when working with more complex models. We will investigate this later in the notebook."
   ]
  },
  {
   "cell_type": "code",
   "execution_count": 13,
   "metadata": {
    "id": "r-8PB5gAxxd-",
    "outputId": "f59de8d6-cbe9-4cf6-d116-743ee6ae30f3"
   },
   "outputs": [
    {
     "data": {
      "image/png": "[encoded data removed]",
      "text/plain": [
       "<Figure size 432x288 with 1 Axes>"
      ]
     },
     "metadata": {
      "needs_background": "light"
     },
     "output_type": "display_data"
    }
   ],
   "source": [
    "_ = sns.boxplot(data=train_data, y='Stock_On_Hand', showfliers=False)"
   ]
  },
  {
   "cell_type": "code",
   "execution_count": 14,
   "metadata": {
    "id": "SUMEVVwXxxd-",
    "outputId": "8e2f9688-adf7-47e5-b40e-37ad08378e75"
   },
   "outputs": [
    {
     "data": {
      "image/png": "[encoded data removed]",
      "text/plain": [
       "<Figure size 432x288 with 1 Axes>"
      ]
     },
     "metadata": {
      "needs_background": "light"
     },
     "output_type": "display_data"
    }
   ],
   "source": [
    "_ = sns.distplot(train_data['avg_price_per_kg'], kde=True)"
   ]
  },
  {
   "cell_type": "markdown",
   "metadata": {
    "id": "gk5-O7Zjxxd_"
   },
   "source": [
    "Now, let's check how the variables are correlated with one another."
   ]
  },
  {
   "cell_type": "code",
   "execution_count": 15,
   "metadata": {
    "id": "UgJ04flyxxeA",
    "outputId": "7d01c5a7-3c61-4be6-e92c-805235e24207"
   },
   "outputs": [
    {
     "data": {
      "image/png": "[encoded data removed]",
      "text/plain": [
       "<Figure size 432x288 with 2 Axes>"
      ]
     },
     "metadata": {
      "needs_background": "light"
     },
     "output_type": "display_data"
    }
   ],
   "source": [
    "# Checking correlation\n",
    "corr_mat = train_data.corr()\n",
    "_ = sns.heatmap(corr_mat, annot=True, cmap=sns.cm.rocket_r)"
   ]
  },
  {
   "cell_type": "markdown",
   "metadata": {
    "id": "3j0MNMhJxxeA"
   },
   "source": [
    "There seems to be a high correlation between predictor variables ` Weight_Kg`, `Low_Price` and `High_Price`. This is as expected since the price will be related to the weight of the apples.\n",
    "\n",
    "There is also a strong correlation between predictor variables `Sales_Total`, `Total_Qty_Sold` and `Total_Kg_Sold`. Again, we expect this because the more kg apples you sell the larger your profits will be."
   ]
  },
  {
   "cell_type": "markdown",
   "metadata": {
    "id": "PRDl3kLQxxeB"
   },
   "source": [
    "Now, let's take a look at the categorical data."
   ]
  },
  {
   "cell_type": "code",
   "execution_count": 16,
   "metadata": {
    "id": "UXnWyGLTxxeE",
    "outputId": "d826b0c5-efa1-488d-c2b0-fe286c41ac47"
   },
   "outputs": [
    {
     "data": {
      "text/html": [
       "<div>\n",
       "<style scoped>\n",
       "    .dataframe tbody tr th:only-of-type {\n",
       "        vertical-align: middle;\n",
       "    }\n",
       "\n",
       "    .dataframe tbody tr th {\n",
       "        vertical-align: top;\n",
       "    }\n",
       "\n",
       "    .dataframe thead th {\n",
       "        text-align: right;\n",
       "    }\n",
       "</style>\n",
       "<table border=\"1\" class=\"dataframe\">\n",
       "  <thead>\n",
       "    <tr style=\"text-align: right;\">\n",
       "      <th></th>\n",
       "      <th>Province</th>\n",
       "      <th>Container</th>\n",
       "      <th>Size_Grade</th>\n",
       "      <th>Date</th>\n",
       "    </tr>\n",
       "  </thead>\n",
       "  <tbody>\n",
       "    <tr>\n",
       "      <th>count</th>\n",
       "      <td>1952</td>\n",
       "      <td>1952</td>\n",
       "      <td>1952</td>\n",
       "      <td>1952</td>\n",
       "    </tr>\n",
       "    <tr>\n",
       "      <th>unique</th>\n",
       "      <td>7</td>\n",
       "      <td>11</td>\n",
       "      <td>10</td>\n",
       "      <td>147</td>\n",
       "    </tr>\n",
       "    <tr>\n",
       "      <th>top</th>\n",
       "      <td>CAPE</td>\n",
       "      <td>M4183</td>\n",
       "      <td>1S</td>\n",
       "      <td>2020-07-20</td>\n",
       "    </tr>\n",
       "    <tr>\n",
       "      <th>freq</th>\n",
       "      <td>1045</td>\n",
       "      <td>588</td>\n",
       "      <td>532</td>\n",
       "      <td>35</td>\n",
       "    </tr>\n",
       "  </tbody>\n",
       "</table>\n",
       "</div>"
      ],
      "text/plain": [
       "       Province Container Size_Grade        Date\n",
       "count      1952      1952       1952        1952\n",
       "unique        7        11         10         147\n",
       "top        CAPE     M4183         1S  2020-07-20\n",
       "freq       1045       588        532          35"
      ]
     },
     "execution_count": 16,
     "metadata": {},
     "output_type": "execute_result"
    }
   ],
   "source": [
    "train_data.describe(include='object')"
   ]
  },
  {
   "cell_type": "markdown",
   "metadata": {
    "id": "CgSQZX1AxxeF"
   },
   "source": [
    "Cape is the province where most properties were sold. We have 11 different container categories, however almost a third of the containers belong to 'M4183' category. By far the most common size grade was 1S."
   ]
  },
  {
   "cell_type": "code",
   "execution_count": 17,
   "metadata": {
    "id": "_0WejB8txxeG",
    "outputId": "69c9125b-702b-4eaf-9d06-beb8871a74d3"
   },
   "outputs": [
    {
     "data": {
      "image/png": "[encoded data removed]",
      "text/plain": [
       "<Figure size 432x288 with 1 Axes>"
      ]
     },
     "metadata": {
      "needs_background": "light"
     },
     "output_type": "display_data"
    }
   ],
   "source": [
    "_ = train_data.groupby('Size_Grade').agg({'avg_price_per_kg':'median'}).sort_values(by='avg_price_per_kg').plot(kind='bar')"
   ]
  },
  {
   "cell_type": "markdown",
   "metadata": {
    "id": "08B4aB2PxxeG"
   },
   "source": [
    "From this graph we see that 1X size grade apples are the most expensive, while 1U is the cheapest."
   ]
  },
  {
   "cell_type": "markdown",
   "metadata": {
    "id": "wJ7sjQONxxeH"
   },
   "source": [
    "Furthermore, checking the skewness of our numeric data will be beneficial."
   ]
  },
  {
   "cell_type": "code",
   "execution_count": 18,
   "metadata": {
    "id": "XGZdZbLMxxeH",
    "outputId": "c02667e4-31a3-4f87-a0d2-6972dab02284"
   },
   "outputs": [
    {
     "data": {
      "text/plain": [
       "Weight_Kg           3.328254\n",
       "Low_Price           4.222672\n",
       "High_Price          3.828819\n",
       "Sales_Total         4.250317\n",
       "Total_Qty_Sold      4.445169\n",
       "Total_Kg_Sold       5.529586\n",
       "Stock_On_Hand       3.391815\n",
       "avg_price_per_kg    0.082452\n",
       "dtype: float64"
      ]
     },
     "execution_count": 18,
     "metadata": {},
     "output_type": "execute_result"
    }
   ],
   "source": [
    "train_data.skew()"
   ]
  },
  {
   "cell_type": "markdown",
   "metadata": {
    "id": "H1E-jNImxxeI"
   },
   "source": [
    "All of the numeric predictors are highly positive skewed."
   ]
  },
  {
   "cell_type": "code",
   "execution_count": null,
   "metadata": {
    "id": "TO7P9RdwxxeI"
   },
   "outputs": [],
   "source": [
    "# Transforming skewed variables distribution\n",
    "#for column in ['Total_Qty_Sold', 'High_Price', 'Sales_Total', 'Stock_On_Hand']:\n",
    "  #train_data[column] = np.log1p(train_data[column])"
   ]
  },
  {
   "cell_type": "code",
   "execution_count": null,
   "metadata": {
    "id": "PJMd4EZOxxeJ",
    "outputId": "48883d3d-f42e-401a-cfa9-e07176bcf837"
   },
   "outputs": [
    {
     "name": "stdout",
     "output_type": "stream",
     "text": [
      "Skewness - Total_Qty_Sold: -0.22828787211649557\n",
      "\n",
      "Skewness - High_Price: 1.4169343397755403\n",
      "\n",
      "Skewness - Sales_Total: -0.37089478867973075\n",
      "\n",
      "Skewness - Stock_On_Hand: -0.6561752152613637\n",
      "\n",
      "Skewness - avg_price_per_kg: 0.29948603446751065\n",
      "\n"
     ]
    }
   ],
   "source": [
    "#Weight_Kg\tLow_Price\tHigh_Price\tSales_Total\tTotal_Qty_Sold\tTotal_Kg_Sold\tStock_On_Hand\tavg_price_per_kg\n",
    "#for column in ['Total_Qty_Sold', 'High_Price', 'Sales_Total', 'Stock_On_Hand', 'avg_price_per_kg']:\n",
    "  #print(f'Skewness - {column}: {train_data[column].skew()}\\n')"
   ]
  },
  {
   "cell_type": "code",
   "execution_count": 20,
   "metadata": {
    "id": "iOA_wPsZxxeJ"
   },
   "outputs": [],
   "source": [
    "# Saving predictors and target in separate objects\n",
    "x = train_data.copy()\n",
    "y = x.pop('avg_price_per_kg')"
   ]
  },
  {
   "cell_type": "code",
   "execution_count": 21,
   "metadata": {
    "id": "P8gHSygWxxeK",
    "outputId": "d91a4a29-c981-47ae-8bcd-808798b6fc23"
   },
   "outputs": [
    {
     "data": {
      "text/plain": [
       "(1952, 11)"
      ]
     },
     "execution_count": 21,
     "metadata": {},
     "output_type": "execute_result"
    }
   ],
   "source": [
    "x.shape"
   ]
  },
  {
   "cell_type": "markdown",
   "metadata": {
    "id": "SeyrbjzMxxeK"
   },
   "source": [
    "# 8. Dummy Variable Encoding\n",
    "\n",
    "All input data for regression model building purposes needs to be numerical. We therefore have to transform the text data (found within columns such as 'Province','Container', 'Size_Grade', 'Commodities' and 'Date') into numbers before we can train our machine learning model.\n",
    "\n",
    "To facilitate this transformation from textual-categorical data to numerical equivalents, we use a pandas method called get_dummies. The text data are categorical variables, and ***get_dummies*** will transform all the categorical text data into numbers by adding a column for each distinct category. The new column has a 1 for observations which were in this category, and a 0 for observations that were not."
   ]
  },
  {
   "cell_type": "code",
   "execution_count": 22,
   "metadata": {
    "id": "rKwcI9YVxxeL",
    "outputId": "df3bc596-4d0e-46d4-ee64-91df343da636"
   },
   "outputs": [
    {
     "data": {
      "text/html": [
       "<div>\n",
       "<style scoped>\n",
       "    .dataframe tbody tr th:only-of-type {\n",
       "        vertical-align: middle;\n",
       "    }\n",
       "\n",
       "    .dataframe tbody tr th {\n",
       "        vertical-align: top;\n",
       "    }\n",
       "\n",
       "    .dataframe thead th {\n",
       "        text-align: right;\n",
       "    }\n",
       "</style>\n",
       "<table border=\"1\" class=\"dataframe\">\n",
       "  <thead>\n",
       "    <tr style=\"text-align: right;\">\n",
       "      <th></th>\n",
       "      <th>Weight_Kg</th>\n",
       "      <th>Low_Price</th>\n",
       "      <th>High_Price</th>\n",
       "      <th>Sales_Total</th>\n",
       "      <th>Total_Qty_Sold</th>\n",
       "      <th>Total_Kg_Sold</th>\n",
       "      <th>Stock_On_Hand</th>\n",
       "      <th>Province_EASTERN CAPE</th>\n",
       "      <th>Province_NATAL</th>\n",
       "      <th>Province_ORANGE FREE STATE</th>\n",
       "      <th>...</th>\n",
       "      <th>Date_2020-09-07</th>\n",
       "      <th>Date_2020-09-09</th>\n",
       "      <th>Date_2020-09-16</th>\n",
       "      <th>Date_2020-09-17</th>\n",
       "      <th>Date_2020-09-19</th>\n",
       "      <th>Date_2020-09-21</th>\n",
       "      <th>Date_2020-09-23</th>\n",
       "      <th>Date_2020-09-28</th>\n",
       "      <th>Date_2020-10-01</th>\n",
       "      <th>Date_2020-10-03</th>\n",
       "    </tr>\n",
       "  </thead>\n",
       "  <tbody>\n",
       "    <tr>\n",
       "      <th>1</th>\n",
       "      <td>18.3</td>\n",
       "      <td>150.0</td>\n",
       "      <td>170.0</td>\n",
       "      <td>51710.0</td>\n",
       "      <td>332</td>\n",
       "      <td>6075.6</td>\n",
       "      <td>822</td>\n",
       "      <td>0</td>\n",
       "      <td>0</td>\n",
       "      <td>0</td>\n",
       "      <td>...</td>\n",
       "      <td>0</td>\n",
       "      <td>1</td>\n",
       "      <td>0</td>\n",
       "      <td>0</td>\n",
       "      <td>0</td>\n",
       "      <td>0</td>\n",
       "      <td>0</td>\n",
       "      <td>0</td>\n",
       "      <td>0</td>\n",
       "      <td>0</td>\n",
       "    </tr>\n",
       "    <tr>\n",
       "      <th>7</th>\n",
       "      <td>11.0</td>\n",
       "      <td>50.0</td>\n",
       "      <td>50.0</td>\n",
       "      <td>16000.0</td>\n",
       "      <td>320</td>\n",
       "      <td>3520.0</td>\n",
       "      <td>0</td>\n",
       "      <td>0</td>\n",
       "      <td>0</td>\n",
       "      <td>0</td>\n",
       "      <td>...</td>\n",
       "      <td>0</td>\n",
       "      <td>0</td>\n",
       "      <td>0</td>\n",
       "      <td>0</td>\n",
       "      <td>0</td>\n",
       "      <td>0</td>\n",
       "      <td>0</td>\n",
       "      <td>0</td>\n",
       "      <td>0</td>\n",
       "      <td>0</td>\n",
       "    </tr>\n",
       "    <tr>\n",
       "      <th>24</th>\n",
       "      <td>9.0</td>\n",
       "      <td>55.0</td>\n",
       "      <td>55.0</td>\n",
       "      <td>990.0</td>\n",
       "      <td>18</td>\n",
       "      <td>162.0</td>\n",
       "      <td>1506</td>\n",
       "      <td>0</td>\n",
       "      <td>0</td>\n",
       "      <td>0</td>\n",
       "      <td>...</td>\n",
       "      <td>0</td>\n",
       "      <td>0</td>\n",
       "      <td>0</td>\n",
       "      <td>0</td>\n",
       "      <td>0</td>\n",
       "      <td>0</td>\n",
       "      <td>0</td>\n",
       "      <td>0</td>\n",
       "      <td>0</td>\n",
       "      <td>0</td>\n",
       "    </tr>\n",
       "    <tr>\n",
       "      <th>40</th>\n",
       "      <td>18.3</td>\n",
       "      <td>80.0</td>\n",
       "      <td>120.0</td>\n",
       "      <td>32020.0</td>\n",
       "      <td>388</td>\n",
       "      <td>7100.4</td>\n",
       "      <td>443</td>\n",
       "      <td>0</td>\n",
       "      <td>0</td>\n",
       "      <td>0</td>\n",
       "      <td>...</td>\n",
       "      <td>0</td>\n",
       "      <td>0</td>\n",
       "      <td>0</td>\n",
       "      <td>0</td>\n",
       "      <td>0</td>\n",
       "      <td>0</td>\n",
       "      <td>0</td>\n",
       "      <td>0</td>\n",
       "      <td>0</td>\n",
       "      <td>0</td>\n",
       "    </tr>\n",
       "    <tr>\n",
       "      <th>69</th>\n",
       "      <td>400.0</td>\n",
       "      <td>1800.0</td>\n",
       "      <td>1800.0</td>\n",
       "      <td>1800.0</td>\n",
       "      <td>1</td>\n",
       "      <td>400.0</td>\n",
       "      <td>2</td>\n",
       "      <td>1</td>\n",
       "      <td>0</td>\n",
       "      <td>0</td>\n",
       "      <td>...</td>\n",
       "      <td>0</td>\n",
       "      <td>0</td>\n",
       "      <td>0</td>\n",
       "      <td>0</td>\n",
       "      <td>0</td>\n",
       "      <td>0</td>\n",
       "      <td>0</td>\n",
       "      <td>1</td>\n",
       "      <td>0</td>\n",
       "      <td>0</td>\n",
       "    </tr>\n",
       "  </tbody>\n",
       "</table>\n",
       "<p>5 rows × 178 columns</p>\n",
       "</div>"
      ],
      "text/plain": [
       "    Weight_Kg  Low_Price  High_Price  Sales_Total  Total_Qty_Sold  \\\n",
       "1        18.3      150.0       170.0      51710.0             332   \n",
       "7        11.0       50.0        50.0      16000.0             320   \n",
       "24        9.0       55.0        55.0        990.0              18   \n",
       "40       18.3       80.0       120.0      32020.0             388   \n",
       "69      400.0     1800.0      1800.0       1800.0               1   \n",
       "\n",
       "    Total_Kg_Sold  Stock_On_Hand  Province_EASTERN CAPE  Province_NATAL  \\\n",
       "1          6075.6            822                      0               0   \n",
       "7          3520.0              0                      0               0   \n",
       "24          162.0           1506                      0               0   \n",
       "40         7100.4            443                      0               0   \n",
       "69          400.0              2                      1               0   \n",
       "\n",
       "    Province_ORANGE FREE STATE  ...  Date_2020-09-07  Date_2020-09-09  \\\n",
       "1                            0  ...                0                1   \n",
       "7                            0  ...                0                0   \n",
       "24                           0  ...                0                0   \n",
       "40                           0  ...                0                0   \n",
       "69                           0  ...                0                0   \n",
       "\n",
       "    Date_2020-09-16  Date_2020-09-17  Date_2020-09-19  Date_2020-09-21  \\\n",
       "1                 0                0                0                0   \n",
       "7                 0                0                0                0   \n",
       "24                0                0                0                0   \n",
       "40                0                0                0                0   \n",
       "69                0                0                0                0   \n",
       "\n",
       "    Date_2020-09-23  Date_2020-09-28  Date_2020-10-01  Date_2020-10-03  \n",
       "1                 0                0                0                0  \n",
       "7                 0                0                0                0  \n",
       "24                0                0                0                0  \n",
       "40                0                0                0                0  \n",
       "69                0                1                0                0  \n",
       "\n",
       "[5 rows x 178 columns]"
      ]
     },
     "execution_count": 22,
     "metadata": {},
     "output_type": "execute_result"
    }
   ],
   "source": [
    "dummy_df = pd.get_dummies(x, drop_first = True)\n",
    "dummy_df.head()"
   ]
  },
  {
   "cell_type": "code",
   "execution_count": 23,
   "metadata": {
    "id": "_0scnNk9xxeM",
    "outputId": "abc2467d-9ad4-4d47-c474-1667005882c4"
   },
   "outputs": [
    {
     "data": {
      "text/plain": [
       "(1952, 178)"
      ]
     },
     "execution_count": 23,
     "metadata": {},
     "output_type": "execute_result"
    }
   ],
   "source": [
    "dummy_df.shape"
   ]
  },
  {
   "cell_type": "code",
   "execution_count": 24,
   "metadata": {
    "id": "SLPbzJLKxxeP",
    "outputId": "156734fc-ab2d-4250-d4a4-fd23dff4bed6"
   },
   "outputs": [
    {
     "data": {
      "text/plain": [
       "Index([], dtype='object')"
      ]
     },
     "execution_count": 24,
     "metadata": {},
     "output_type": "execute_result"
    }
   ],
   "source": [
    "dummy_nonuq = dummy_df.loc[:,dummy_df.nunique() == 1]\n",
    "dummy_nonuq.columns"
   ]
  },
  {
   "cell_type": "markdown",
   "metadata": {
    "id": "F33NsPSLxxeQ"
   },
   "source": [
    "Suddenly we have many more variable columns (178 given the dummy variable encoding). "
   ]
  },
  {
   "cell_type": "markdown",
   "metadata": {
    "id": "TdAD3UjDxxeQ"
   },
   "source": [
    "# 9. Feature selection"
   ]
  },
  {
   "cell_type": "markdown",
   "metadata": {
    "id": "N8C471dMxxeR"
   },
   "source": [
    "Feature selection is a technique where we choose those features in our data that contribute most to the target variable. The classes in the sklearn.feature_selection module can be used for feature selection.\n",
    "\n",
    "Due to dummy variable encoding we have 178 features, however we would like to reduce this number. This will hopefully reduce the chances of our model overfitting on our training data (less redundant data leads to model making decisions based on noise), and not fitting well will test data.\n",
    "\n",
    "We'll use the selection method SelectKBest.\n",
    "\n",
    "SelectKBest uses a scoring function either f_regression or mutual_info_regression (for regression problems) along with a k paramater where this paramater will select the top $k^{th}$ features based on their scores which were generated from the scoring function.\n",
    "\n",
    "F_regression captures linear dependencies, however mutual information can capture any kind of dependencies between variables. Hence, we will use mutual information regression."
   ]
  },
  {
   "cell_type": "code",
   "execution_count": 25,
   "metadata": {
    "id": "yyuPakzIxxeS"
   },
   "outputs": [],
   "source": [
    "from sklearn.feature_selection import mutual_info_regression, SelectKBest"
   ]
  },
  {
   "cell_type": "markdown",
   "metadata": {
    "id": "ioJwuLgYxxeS"
   },
   "source": [
    "We will select k = 40. For us, k could be any number between 1 and 178. We can create a list of k's, and see how the model will perform on the k number of features. But for now, we'll only choose k = 40, and see how the model will perform on all the features compared to the top 40 features."
   ]
  },
  {
   "cell_type": "code",
   "execution_count": 26,
   "metadata": {
    "id": "3hxtCdYkxxeT"
   },
   "outputs": [],
   "source": [
    "# Creating selector\n",
    "select = SelectKBest(score_func = mutual_info_regression, k=40)"
   ]
  },
  {
   "cell_type": "code",
   "execution_count": 27,
   "metadata": {
    "id": "0U47Dyi8xxeT"
   },
   "outputs": [],
   "source": [
    "# Fitting selector\n",
    "X_reg_new = select.fit_transform(dummy_df, y)"
   ]
  },
  {
   "cell_type": "code",
   "execution_count": 28,
   "metadata": {
    "id": "d4KazDRJxxeU",
    "outputId": "a21f5b32-00b7-4090-9762-5862abf493c3"
   },
   "outputs": [
    {
     "data": {
      "text/plain": [
       "(1952, 40)"
      ]
     },
     "execution_count": 28,
     "metadata": {},
     "output_type": "execute_result"
    }
   ],
   "source": [
    "X_reg_new.shape"
   ]
  },
  {
   "cell_type": "code",
   "execution_count": 29,
   "metadata": {
    "id": "otuMXGRNxxeU",
    "outputId": "fcee07f2-4cc2-462e-fa16-8f82478c20e0"
   },
   "outputs": [
    {
     "data": {
      "text/plain": [
       "36"
      ]
     },
     "execution_count": 29,
     "metadata": {},
     "output_type": "execute_result"
    }
   ],
   "source": [
    "np.count_nonzero(select.scores_ > 0.01)"
   ]
  },
  {
   "cell_type": "code",
   "execution_count": 30,
   "metadata": {
    "id": "H3kOUtSRxxeV"
   },
   "outputs": [],
   "source": [
    "# 111 top feature names\n",
    "filter = select.get_support()"
   ]
  },
  {
   "cell_type": "code",
   "execution_count": 31,
   "metadata": {
    "id": "Z27QJV2HxxeV",
    "outputId": "00d8dbb4-3777-44d2-dd55-c33fa89d0693"
   },
   "outputs": [
    {
     "data": {
      "text/plain": [
       "['Weight_Kg',\n",
       " 'Low_Price',\n",
       " 'High_Price',\n",
       " 'Sales_Total',\n",
       " 'Total_Qty_Sold',\n",
       " 'Total_Kg_Sold',\n",
       " 'Stock_On_Hand',\n",
       " 'Province_EASTERN CAPE',\n",
       " 'Province_NATAL',\n",
       " 'Province_TRANSVAAL',\n",
       " 'Province_W.CAPE-BERGRIVER ETC',\n",
       " 'Province_WEST COAST',\n",
       " 'Container_DT063',\n",
       " 'Container_EC120',\n",
       " 'Container_EF120',\n",
       " 'Container_IA400',\n",
       " 'Container_JE090',\n",
       " 'Container_JG110',\n",
       " 'Container_M4183',\n",
       " 'Size_Grade_1M',\n",
       " 'Size_Grade_1S',\n",
       " 'Size_Grade_1X',\n",
       " 'Size_Grade_2L',\n",
       " 'Size_Grade_2M',\n",
       " 'Size_Grade_2S',\n",
       " 'Size_Grade_2U',\n",
       " 'Date_2020-01-02',\n",
       " 'Date_2020-01-24',\n",
       " 'Date_2020-02-21',\n",
       " 'Date_2020-03-17',\n",
       " 'Date_2020-03-31',\n",
       " 'Date_2020-04-16',\n",
       " 'Date_2020-05-05',\n",
       " 'Date_2020-07-13',\n",
       " 'Date_2020-07-29',\n",
       " 'Date_2020-08-03',\n",
       " 'Date_2020-08-12',\n",
       " 'Date_2020-08-13',\n",
       " 'Date_2020-09-17',\n",
       " 'Date_2020-09-28']"
      ]
     },
     "execution_count": 31,
     "metadata": {},
     "output_type": "execute_result"
    }
   ],
   "source": [
    "# create list of top 111 features\n",
    "kbest_features = list(dummy_df.columns[filter])\n",
    "kbest_features"
   ]
  },
  {
   "cell_type": "code",
   "execution_count": 32,
   "metadata": {
    "id": "c72MNqsBxxeW",
    "outputId": "f4191c36-6b74-4409-ee4f-8baab10e4827"
   },
   "outputs": [
    {
     "data": {
      "text/html": [
       "<div>\n",
       "<style scoped>\n",
       "    .dataframe tbody tr th:only-of-type {\n",
       "        vertical-align: middle;\n",
       "    }\n",
       "\n",
       "    .dataframe tbody tr th {\n",
       "        vertical-align: top;\n",
       "    }\n",
       "\n",
       "    .dataframe thead th {\n",
       "        text-align: right;\n",
       "    }\n",
       "</style>\n",
       "<table border=\"1\" class=\"dataframe\">\n",
       "  <thead>\n",
       "    <tr style=\"text-align: right;\">\n",
       "      <th></th>\n",
       "      <th>Weight_Kg</th>\n",
       "      <th>Low_Price</th>\n",
       "      <th>High_Price</th>\n",
       "      <th>Sales_Total</th>\n",
       "      <th>Total_Qty_Sold</th>\n",
       "      <th>Total_Kg_Sold</th>\n",
       "      <th>Stock_On_Hand</th>\n",
       "      <th>Province_EASTERN CAPE</th>\n",
       "      <th>Province_NATAL</th>\n",
       "      <th>Province_TRANSVAAL</th>\n",
       "      <th>...</th>\n",
       "      <th>Date_2020-03-31</th>\n",
       "      <th>Date_2020-04-16</th>\n",
       "      <th>Date_2020-05-05</th>\n",
       "      <th>Date_2020-07-13</th>\n",
       "      <th>Date_2020-07-29</th>\n",
       "      <th>Date_2020-08-03</th>\n",
       "      <th>Date_2020-08-12</th>\n",
       "      <th>Date_2020-08-13</th>\n",
       "      <th>Date_2020-09-17</th>\n",
       "      <th>Date_2020-09-28</th>\n",
       "    </tr>\n",
       "  </thead>\n",
       "  <tbody>\n",
       "    <tr>\n",
       "      <th>0</th>\n",
       "      <td>18.3</td>\n",
       "      <td>150.0</td>\n",
       "      <td>170.0</td>\n",
       "      <td>51710.0</td>\n",
       "      <td>332.0</td>\n",
       "      <td>6075.6</td>\n",
       "      <td>822.0</td>\n",
       "      <td>0.0</td>\n",
       "      <td>0.0</td>\n",
       "      <td>0.0</td>\n",
       "      <td>...</td>\n",
       "      <td>0.0</td>\n",
       "      <td>0.0</td>\n",
       "      <td>0.0</td>\n",
       "      <td>0.0</td>\n",
       "      <td>0.0</td>\n",
       "      <td>0.0</td>\n",
       "      <td>0.0</td>\n",
       "      <td>0.0</td>\n",
       "      <td>0.0</td>\n",
       "      <td>0.0</td>\n",
       "    </tr>\n",
       "    <tr>\n",
       "      <th>1</th>\n",
       "      <td>11.0</td>\n",
       "      <td>50.0</td>\n",
       "      <td>50.0</td>\n",
       "      <td>16000.0</td>\n",
       "      <td>320.0</td>\n",
       "      <td>3520.0</td>\n",
       "      <td>0.0</td>\n",
       "      <td>0.0</td>\n",
       "      <td>0.0</td>\n",
       "      <td>0.0</td>\n",
       "      <td>...</td>\n",
       "      <td>0.0</td>\n",
       "      <td>0.0</td>\n",
       "      <td>0.0</td>\n",
       "      <td>0.0</td>\n",
       "      <td>0.0</td>\n",
       "      <td>0.0</td>\n",
       "      <td>0.0</td>\n",
       "      <td>0.0</td>\n",
       "      <td>0.0</td>\n",
       "      <td>0.0</td>\n",
       "    </tr>\n",
       "    <tr>\n",
       "      <th>2</th>\n",
       "      <td>9.0</td>\n",
       "      <td>55.0</td>\n",
       "      <td>55.0</td>\n",
       "      <td>990.0</td>\n",
       "      <td>18.0</td>\n",
       "      <td>162.0</td>\n",
       "      <td>1506.0</td>\n",
       "      <td>0.0</td>\n",
       "      <td>0.0</td>\n",
       "      <td>0.0</td>\n",
       "      <td>...</td>\n",
       "      <td>0.0</td>\n",
       "      <td>1.0</td>\n",
       "      <td>0.0</td>\n",
       "      <td>0.0</td>\n",
       "      <td>0.0</td>\n",
       "      <td>0.0</td>\n",
       "      <td>0.0</td>\n",
       "      <td>0.0</td>\n",
       "      <td>0.0</td>\n",
       "      <td>0.0</td>\n",
       "    </tr>\n",
       "    <tr>\n",
       "      <th>3</th>\n",
       "      <td>18.3</td>\n",
       "      <td>80.0</td>\n",
       "      <td>120.0</td>\n",
       "      <td>32020.0</td>\n",
       "      <td>388.0</td>\n",
       "      <td>7100.4</td>\n",
       "      <td>443.0</td>\n",
       "      <td>0.0</td>\n",
       "      <td>0.0</td>\n",
       "      <td>0.0</td>\n",
       "      <td>...</td>\n",
       "      <td>0.0</td>\n",
       "      <td>0.0</td>\n",
       "      <td>0.0</td>\n",
       "      <td>0.0</td>\n",
       "      <td>0.0</td>\n",
       "      <td>0.0</td>\n",
       "      <td>0.0</td>\n",
       "      <td>0.0</td>\n",
       "      <td>0.0</td>\n",
       "      <td>0.0</td>\n",
       "    </tr>\n",
       "    <tr>\n",
       "      <th>4</th>\n",
       "      <td>400.0</td>\n",
       "      <td>1800.0</td>\n",
       "      <td>1800.0</td>\n",
       "      <td>1800.0</td>\n",
       "      <td>1.0</td>\n",
       "      <td>400.0</td>\n",
       "      <td>2.0</td>\n",
       "      <td>1.0</td>\n",
       "      <td>0.0</td>\n",
       "      <td>0.0</td>\n",
       "      <td>...</td>\n",
       "      <td>0.0</td>\n",
       "      <td>0.0</td>\n",
       "      <td>0.0</td>\n",
       "      <td>0.0</td>\n",
       "      <td>0.0</td>\n",
       "      <td>0.0</td>\n",
       "      <td>0.0</td>\n",
       "      <td>0.0</td>\n",
       "      <td>0.0</td>\n",
       "      <td>1.0</td>\n",
       "    </tr>\n",
       "  </tbody>\n",
       "</table>\n",
       "<p>5 rows × 40 columns</p>\n",
       "</div>"
      ],
      "text/plain": [
       "   Weight_Kg  Low_Price  High_Price  Sales_Total  Total_Qty_Sold  \\\n",
       "0       18.3      150.0       170.0      51710.0           332.0   \n",
       "1       11.0       50.0        50.0      16000.0           320.0   \n",
       "2        9.0       55.0        55.0        990.0            18.0   \n",
       "3       18.3       80.0       120.0      32020.0           388.0   \n",
       "4      400.0     1800.0      1800.0       1800.0             1.0   \n",
       "\n",
       "   Total_Kg_Sold  Stock_On_Hand  Province_EASTERN CAPE  Province_NATAL  \\\n",
       "0         6075.6          822.0                    0.0             0.0   \n",
       "1         3520.0            0.0                    0.0             0.0   \n",
       "2          162.0         1506.0                    0.0             0.0   \n",
       "3         7100.4          443.0                    0.0             0.0   \n",
       "4          400.0            2.0                    1.0             0.0   \n",
       "\n",
       "   Province_TRANSVAAL  ...  Date_2020-03-31  Date_2020-04-16  Date_2020-05-05  \\\n",
       "0                 0.0  ...              0.0              0.0              0.0   \n",
       "1                 0.0  ...              0.0              0.0              0.0   \n",
       "2                 0.0  ...              0.0              1.0              0.0   \n",
       "3                 0.0  ...              0.0              0.0              0.0   \n",
       "4                 0.0  ...              0.0              0.0              0.0   \n",
       "\n",
       "   Date_2020-07-13  Date_2020-07-29  Date_2020-08-03  Date_2020-08-12  \\\n",
       "0              0.0              0.0              0.0              0.0   \n",
       "1              0.0              0.0              0.0              0.0   \n",
       "2              0.0              0.0              0.0              0.0   \n",
       "3              0.0              0.0              0.0              0.0   \n",
       "4              0.0              0.0              0.0              0.0   \n",
       "\n",
       "   Date_2020-08-13  Date_2020-09-17  Date_2020-09-28  \n",
       "0              0.0              0.0              0.0  \n",
       "1              0.0              0.0              0.0  \n",
       "2              0.0              0.0              0.0  \n",
       "3              0.0              0.0              0.0  \n",
       "4              0.0              0.0              1.0  \n",
       "\n",
       "[5 rows x 40 columns]"
      ]
     },
     "execution_count": 32,
     "metadata": {},
     "output_type": "execute_result"
    }
   ],
   "source": [
    "kbest_df = pd.DataFrame(data=X_reg_new, columns=kbest_features)\n",
    "kbest_df.head()"
   ]
  },
  {
   "cell_type": "markdown",
   "metadata": {
    "id": "tv5X8uKgxxeX"
   },
   "source": [
    "In the following section, let's try building our model using Linear Regression."
   ]
  },
  {
   "cell_type": "markdown",
   "metadata": {
    "id": "ykgT5KvUxxeX"
   },
   "source": [
    "# 10. Linear model"
   ]
  },
  {
   "cell_type": "markdown",
   "metadata": {
    "id": "sX1ieQH9xxeY"
   },
   "source": [
    "#### Importing some modules."
   ]
  },
  {
   "cell_type": "code",
   "execution_count": 33,
   "metadata": {
    "id": "n55rn9IQxxeY"
   },
   "outputs": [],
   "source": [
    "# Regression models\n",
    "from sklearn.linear_model import LinearRegression\n",
    "\n",
    "# Model selection\n",
    "from sklearn.model_selection import train_test_split\n",
    "\n",
    "# Metrics\n",
    "from sklearn.metrics import r2_score\n",
    "from sklearn.metrics import mean_squared_error"
   ]
  },
  {
   "cell_type": "markdown",
   "metadata": {
    "id": "2tL5gvkpxxeY"
   },
   "source": [
    "We'll create two different predictor variable training sets. One set will contain all predictors, and the other will house the kbest features."
   ]
  },
  {
   "cell_type": "code",
   "execution_count": 34,
   "metadata": {
    "id": "gW_tfk2LxxeZ"
   },
   "outputs": [],
   "source": [
    "X_lin_best = kbest_df\n",
    "X_lin_all = dummy_df # wanna check if more columns has influences on predictive power\n",
    "y_lin = y"
   ]
  },
  {
   "cell_type": "code",
   "execution_count": 35,
   "metadata": {
    "id": "1ywLeUfwxxec"
   },
   "outputs": [],
   "source": [
    "# Split the data into train and test sets\n",
    "X_train_all, X_test_all, y_train_all, y_test_all = train_test_split(X_lin_all, y_lin, test_size = 0.2,random_state=42)\n",
    "X_train_best, X_test_best, y_train_best, y_test_best = train_test_split(X_lin_best, y_lin, test_size = 0.2,random_state=42)"
   ]
  },
  {
   "cell_type": "code",
   "execution_count": 36,
   "metadata": {
    "id": "kZWX0bmSxxec"
   },
   "outputs": [],
   "source": [
    "# define model\n",
    "lm_all = LinearRegression(n_jobs=-1)\n",
    "lm_best = LinearRegression(n_jobs=-1)"
   ]
  },
  {
   "cell_type": "code",
   "execution_count": 37,
   "metadata": {
    "id": "2wE0FTb-xxed",
    "outputId": "71604f47-6ebf-428f-ae8e-212454069f09"
   },
   "outputs": [
    {
     "data": {
      "text/plain": [
       "LinearRegression(copy_X=True, fit_intercept=True, n_jobs=-1, normalize=False)"
      ]
     },
     "execution_count": 37,
     "metadata": {},
     "output_type": "execute_result"
    }
   ],
   "source": [
    "# Train the model\n",
    "lm_all.fit(X_train_all, y_train_all)\n",
    "lm_best.fit(X_train_best, y_train_best)"
   ]
  },
  {
   "cell_type": "code",
   "execution_count": 38,
   "metadata": {
    "id": "sqN5JiIlxxee"
   },
   "outputs": [],
   "source": [
    "# Make predictions\n",
    "train_pred_all = lm_all.predict(X_train_all)\n",
    "test_pred_all = lm_all.predict(X_test_all)\n",
    "\n",
    "train_pred_best = lm_best.predict(X_train_best)\n",
    "test_pred_best = lm_best.predict(X_test_best)"
   ]
  },
  {
   "cell_type": "code",
   "execution_count": 39,
   "metadata": {
    "id": "nQp4Z-rDxxee"
   },
   "outputs": [],
   "source": [
    "train_rmse_all = np.sqrt(mean_squared_error(y_train_all, train_pred_all))\n",
    "test_rmse_all = np.sqrt(mean_squared_error(y_test_all, test_pred_all))\n",
    "    \n",
    "train_rmse_best = np.sqrt(mean_squared_error(y_train_best, train_pred_best))\n",
    "test_rmse_best = np.sqrt(mean_squared_error(y_test_best, test_pred_best))"
   ]
  },
  {
   "cell_type": "code",
   "execution_count": 40,
   "metadata": {
    "id": "QYhuIccfxxee",
    "outputId": "cbd2fee1-fafb-4abf-de2e-2617d8462b24"
   },
   "outputs": [
    {
     "data": {
      "text/plain": [
       "{'Train RMSE all features': 1.2139989096502701,\n",
       " 'Test RMSE all features': 1.4105711751620118,\n",
       " 'Train RMSE kbest features': 1.3976248265998432,\n",
       " 'Test RMSE kbest features': 1.4599153900250947}"
      ]
     },
     "execution_count": 40,
     "metadata": {},
     "output_type": "execute_result"
    }
   ],
   "source": [
    "df = {'Train RMSE all features': train_rmse_all,'Test RMSE all features':test_rmse_all,'Train RMSE kbest features': train_rmse_best,'Test RMSE kbest features':test_rmse_best}\n",
    "df"
   ]
  },
  {
   "cell_type": "code",
   "execution_count": 41,
   "metadata": {
    "id": "p-RxrpH0xxef",
    "outputId": "021f6346-03c4-4e9c-fb73-b92b11787785"
   },
   "outputs": [
    {
     "data": {
      "image/png": "[encoded data removed]",
      "text/plain": [
       "<Figure size 432x288 with 1 Axes>"
      ]
     },
     "metadata": {
      "needs_background": "light"
     },
     "output_type": "display_data"
    }
   ],
   "source": [
    "fig, ax = plt.subplots()\n",
    "RMSE = [train_rmse_all, test_rmse_all, train_rmse_best, test_rmse_best]\n",
    "set_features = ['Train RMSE all features', 'Test RMSE all features', 'Train RMSE kbest features','Test RMSE kbest features']\n",
    "\n",
    "ax.barh(set_features, RMSE)\n",
    "ax.set_yticks(set_features)\n",
    "ax.set_yticklabels(set_features)\n",
    "ax.set_xlabel('RMSE')\n",
    "ax.set_title('RMSE values for train and test set with kbest and all features')\n",
    "\n",
    "plt.show()"
   ]
  },
  {
   "cell_type": "code",
   "execution_count": null,
   "metadata": {
    "id": "LsK9HkkIxxeg"
   },
   "outputs": [],
   "source": []
  },
  {
   "cell_type": "markdown",
   "metadata": {
    "id": "0pK2c3UQxxeg"
   },
   "source": [
    "**Metrics used**\n",
    "  - Root Mean Square Error (RMSE) is the standard deviation of the residuals (prediction errors). Residuals are a measure of how far from the regression line data points are; RMSE is a measure of how spread out these residuals are. In other words, it tells you how concentrated the data is around the line of best fit. \n",
    "  "
   ]
  },
  {
   "cell_type": "markdown",
   "metadata": {
    "id": "GShH5o0gxxeg"
   },
   "source": [
    "The RMSE on the train set for all features is lower than that of the kbest features, however the RMSE on the test set is similar for both choices of features. This indicates that the model is slightly overfitting when training on all features. Henceforth, we'll be using the kbest features to train our models in order to minimise overfitting."
   ]
  },
  {
   "cell_type": "markdown",
   "metadata": {
    "id": "K53Rilrfxxeh"
   },
   "source": [
    "In the next section, we will try to improve our linear model by introducing regularisation techniques."
   ]
  },
  {
   "cell_type": "markdown",
   "metadata": {
    "id": "xUDBAJjexxeh"
   },
   "source": [
    "#**Regularisation**"
   ]
  },
  {
   "cell_type": "markdown",
   "metadata": {
    "id": "G9Pl9AQZxxeh"
   },
   "source": [
    "Regularisation is a method used to improve the predictive accuracy of a model while putting constraints on the predictor variables.\n",
    "\n",
    "Recall that the least squares method seeks to minimise the sum of the squares of the residuals:\n",
    "\n",
    "$$RSS = \\sum_{i=1}^n(y_i-\\hat{y}_i)^2$$   \n",
    "\n",
    "which can be written in terms of the predictor variable coefficients, [$b_1, b_2, b_p$], and slope, $a$:   \n",
    "\n",
    "$$RSS = \\sum_{i=1}^n(y_i-(a+\\sum_{j=1}^pb_jx_{ij}))^2$$\n",
    "\n",
    "where _n_ is the number of observations, and _p_ is the number of predictor variables. In the case of **ridge regression**, the regression coefficients are calculated as the values that minimise:\n",
    "\n",
    "$$\\sum_{i=1}^n(y_i-(a+\\sum_{j=1}^pb_jx_{ij}))^2 + \\alpha\\sum_{j=1}^pb_j^2$$\n",
    "\n",
    "which is rewritten simply as:\n",
    "\n",
    "$$\\min_{\\beta} (RSS + \\alpha\\sum_{j=1}^pb_j^2)$$\n",
    "\n",
    "In minimising _RSS_ , we improve the overall fit of the model. In the newly introduced term, $\\alpha\\sum_{j=1}^pb_j^2$, the intention is to penalise those individual coefficients that get too large (those that contribute the most to reducing the fit).\n",
    "\n",
    "In the new term, $\\alpha$ is a tuning parameter which controls the degree to which the regression coefficients are penalised. The effect of this penalty parameter is to create a tradeoff between how much a coefficient contributes to minimising RSS and the size of the coefficient. In other words: _training fit_ vs. _size of coefficients_. \n",
    "\n",
    "In the newly introduced term, we can see that the penalty parameter is applied to the sum of the squares of the coefficients. This means that as we increase the size of the coefficients, the penalty will increase too. And so, this has the effect of _shrinking_ the coefficients towards zero.\n"
   ]
  },
  {
   "cell_type": "markdown",
   "metadata": {
    "id": "ET4IWTF4xxei"
   },
   "source": [
    "Now let's apply ridge regression to our data."
   ]
  },
  {
   "cell_type": "markdown",
   "metadata": {
    "id": "3RGPypyHxxei"
   },
   "source": [
    "# 11.Ridge Regression"
   ]
  },
  {
   "cell_type": "markdown",
   "metadata": {
    "id": "CGscq5oexxej"
   },
   "source": [
    "Before we apply ridge regression, we will need to scale our data.\n",
    "\n",
    "Scaling data is a critical to regularisation as the penalty on particular coefficients in regularisation techniques depends largely on the scale associated with the variables. Regularisation puts constraints on the size of the coefficients related to each variable. Therefore, rescaling is very important for methods with regularisation because the size of the variables affects how much regularisation will be applied to that specific variable. So to make it fair, we need to get all the features on the same scale. "
   ]
  },
  {
   "cell_type": "markdown",
   "metadata": {
    "id": "Eh3-iepjxxej"
   },
   "source": [
    "### Data Scaling"
   ]
  },
  {
   "cell_type": "code",
   "execution_count": 42,
   "metadata": {
    "id": "yzAnT8cJxxej"
   },
   "outputs": [],
   "source": [
    "# Preprocessing\n",
    "from sklearn.preprocessing import StandardScaler"
   ]
  },
  {
   "cell_type": "code",
   "execution_count": 43,
   "metadata": {
    "id": "2LZdzwybxxek"
   },
   "outputs": [],
   "source": [
    "# Split data into predictors and response\n",
    "X_ridge = X_lin_best\n",
    "y_ridge = y_lin"
   ]
  },
  {
   "cell_type": "code",
   "execution_count": 44,
   "metadata": {
    "id": "j7SEOa_ixxek"
   },
   "outputs": [],
   "source": [
    "# Create scaler object\n",
    "scaler = StandardScaler()"
   ]
  },
  {
   "cell_type": "code",
   "execution_count": 45,
   "metadata": {
    "id": "sOBEhXVmxxel"
   },
   "outputs": [],
   "source": [
    "# Create scaled version of the predictors (there is no need to scale the response)\n",
    "X_scaled = scaler.fit_transform(X_ridge)"
   ]
  },
  {
   "cell_type": "code",
   "execution_count": 46,
   "metadata": {
    "id": "W7YNiepxxxel",
    "outputId": "2de8a4ca-20e2-40d1-de6a-f3534ce4faa9"
   },
   "outputs": [
    {
     "data": {
      "text/html": [
       "<div>\n",
       "<style scoped>\n",
       "    .dataframe tbody tr th:only-of-type {\n",
       "        vertical-align: middle;\n",
       "    }\n",
       "\n",
       "    .dataframe tbody tr th {\n",
       "        vertical-align: top;\n",
       "    }\n",
       "\n",
       "    .dataframe thead th {\n",
       "        text-align: right;\n",
       "    }\n",
       "</style>\n",
       "<table border=\"1\" class=\"dataframe\">\n",
       "  <thead>\n",
       "    <tr style=\"text-align: right;\">\n",
       "      <th></th>\n",
       "      <th>Weight_Kg</th>\n",
       "      <th>Low_Price</th>\n",
       "      <th>High_Price</th>\n",
       "      <th>Sales_Total</th>\n",
       "      <th>Total_Qty_Sold</th>\n",
       "      <th>Total_Kg_Sold</th>\n",
       "      <th>Stock_On_Hand</th>\n",
       "      <th>Province_EASTERN CAPE</th>\n",
       "      <th>Province_NATAL</th>\n",
       "      <th>Province_TRANSVAAL</th>\n",
       "      <th>...</th>\n",
       "      <th>Date_2020-03-31</th>\n",
       "      <th>Date_2020-04-16</th>\n",
       "      <th>Date_2020-05-05</th>\n",
       "      <th>Date_2020-07-13</th>\n",
       "      <th>Date_2020-07-29</th>\n",
       "      <th>Date_2020-08-03</th>\n",
       "      <th>Date_2020-08-12</th>\n",
       "      <th>Date_2020-08-13</th>\n",
       "      <th>Date_2020-09-17</th>\n",
       "      <th>Date_2020-09-28</th>\n",
       "    </tr>\n",
       "  </thead>\n",
       "  <tbody>\n",
       "    <tr>\n",
       "      <th>0</th>\n",
       "      <td>-0.222433</td>\n",
       "      <td>-0.065087</td>\n",
       "      <td>-0.105317</td>\n",
       "      <td>0.811807</td>\n",
       "      <td>0.510117</td>\n",
       "      <td>0.511073</td>\n",
       "      <td>0.571070</td>\n",
       "      <td>-0.343488</td>\n",
       "      <td>-0.245547</td>\n",
       "      <td>-0.088</td>\n",
       "      <td>...</td>\n",
       "      <td>-0.093731</td>\n",
       "      <td>-0.078648</td>\n",
       "      <td>-0.075281</td>\n",
       "      <td>-0.084994</td>\n",
       "      <td>-0.104284</td>\n",
       "      <td>-0.090909</td>\n",
       "      <td>-0.081881</td>\n",
       "      <td>-0.093731</td>\n",
       "      <td>-0.078648</td>\n",
       "      <td>-0.084994</td>\n",
       "    </tr>\n",
       "    <tr>\n",
       "      <th>1</th>\n",
       "      <td>-0.295704</td>\n",
       "      <td>-0.332855</td>\n",
       "      <td>-0.382175</td>\n",
       "      <td>-0.103950</td>\n",
       "      <td>0.471248</td>\n",
       "      <td>0.091837</td>\n",
       "      <td>-0.563874</td>\n",
       "      <td>-0.343488</td>\n",
       "      <td>-0.245547</td>\n",
       "      <td>-0.088</td>\n",
       "      <td>...</td>\n",
       "      <td>-0.093731</td>\n",
       "      <td>-0.078648</td>\n",
       "      <td>-0.075281</td>\n",
       "      <td>-0.084994</td>\n",
       "      <td>-0.104284</td>\n",
       "      <td>-0.090909</td>\n",
       "      <td>-0.081881</td>\n",
       "      <td>-0.093731</td>\n",
       "      <td>-0.078648</td>\n",
       "      <td>-0.084994</td>\n",
       "    </tr>\n",
       "    <tr>\n",
       "      <th>2</th>\n",
       "      <td>-0.315779</td>\n",
       "      <td>-0.319467</td>\n",
       "      <td>-0.370639</td>\n",
       "      <td>-0.488870</td>\n",
       "      <td>-0.506948</td>\n",
       "      <td>-0.459029</td>\n",
       "      <td>1.515476</td>\n",
       "      <td>-0.343488</td>\n",
       "      <td>-0.245547</td>\n",
       "      <td>-0.088</td>\n",
       "      <td>...</td>\n",
       "      <td>-0.093731</td>\n",
       "      <td>12.714821</td>\n",
       "      <td>-0.075281</td>\n",
       "      <td>-0.084994</td>\n",
       "      <td>-0.104284</td>\n",
       "      <td>-0.090909</td>\n",
       "      <td>-0.081881</td>\n",
       "      <td>-0.093731</td>\n",
       "      <td>-0.078648</td>\n",
       "      <td>-0.084994</td>\n",
       "    </tr>\n",
       "    <tr>\n",
       "      <th>3</th>\n",
       "      <td>-0.222433</td>\n",
       "      <td>-0.252525</td>\n",
       "      <td>-0.220674</td>\n",
       "      <td>0.306871</td>\n",
       "      <td>0.691504</td>\n",
       "      <td>0.679187</td>\n",
       "      <td>0.047781</td>\n",
       "      <td>-0.343488</td>\n",
       "      <td>-0.245547</td>\n",
       "      <td>-0.088</td>\n",
       "      <td>...</td>\n",
       "      <td>-0.093731</td>\n",
       "      <td>-0.078648</td>\n",
       "      <td>-0.075281</td>\n",
       "      <td>-0.084994</td>\n",
       "      <td>-0.104284</td>\n",
       "      <td>-0.090909</td>\n",
       "      <td>-0.081881</td>\n",
       "      <td>-0.093731</td>\n",
       "      <td>-0.078648</td>\n",
       "      <td>-0.084994</td>\n",
       "    </tr>\n",
       "    <tr>\n",
       "      <th>4</th>\n",
       "      <td>3.608756</td>\n",
       "      <td>4.353082</td>\n",
       "      <td>3.655338</td>\n",
       "      <td>-0.468098</td>\n",
       "      <td>-0.562012</td>\n",
       "      <td>-0.419986</td>\n",
       "      <td>-0.561112</td>\n",
       "      <td>2.911310</td>\n",
       "      <td>-0.245547</td>\n",
       "      <td>-0.088</td>\n",
       "      <td>...</td>\n",
       "      <td>-0.093731</td>\n",
       "      <td>-0.078648</td>\n",
       "      <td>-0.075281</td>\n",
       "      <td>-0.084994</td>\n",
       "      <td>-0.104284</td>\n",
       "      <td>-0.090909</td>\n",
       "      <td>-0.081881</td>\n",
       "      <td>-0.093731</td>\n",
       "      <td>-0.078648</td>\n",
       "      <td>11.765567</td>\n",
       "    </tr>\n",
       "  </tbody>\n",
       "</table>\n",
       "<p>5 rows × 40 columns</p>\n",
       "</div>"
      ],
      "text/plain": [
       "   Weight_Kg  Low_Price  High_Price  Sales_Total  Total_Qty_Sold  \\\n",
       "0  -0.222433  -0.065087   -0.105317     0.811807        0.510117   \n",
       "1  -0.295704  -0.332855   -0.382175    -0.103950        0.471248   \n",
       "2  -0.315779  -0.319467   -0.370639    -0.488870       -0.506948   \n",
       "3  -0.222433  -0.252525   -0.220674     0.306871        0.691504   \n",
       "4   3.608756   4.353082    3.655338    -0.468098       -0.562012   \n",
       "\n",
       "   Total_Kg_Sold  Stock_On_Hand  Province_EASTERN CAPE  Province_NATAL  \\\n",
       "0       0.511073       0.571070              -0.343488       -0.245547   \n",
       "1       0.091837      -0.563874              -0.343488       -0.245547   \n",
       "2      -0.459029       1.515476              -0.343488       -0.245547   \n",
       "3       0.679187       0.047781              -0.343488       -0.245547   \n",
       "4      -0.419986      -0.561112               2.911310       -0.245547   \n",
       "\n",
       "   Province_TRANSVAAL  ...  Date_2020-03-31  Date_2020-04-16  Date_2020-05-05  \\\n",
       "0              -0.088  ...        -0.093731        -0.078648        -0.075281   \n",
       "1              -0.088  ...        -0.093731        -0.078648        -0.075281   \n",
       "2              -0.088  ...        -0.093731        12.714821        -0.075281   \n",
       "3              -0.088  ...        -0.093731        -0.078648        -0.075281   \n",
       "4              -0.088  ...        -0.093731        -0.078648        -0.075281   \n",
       "\n",
       "   Date_2020-07-13  Date_2020-07-29  Date_2020-08-03  Date_2020-08-12  \\\n",
       "0        -0.084994        -0.104284        -0.090909        -0.081881   \n",
       "1        -0.084994        -0.104284        -0.090909        -0.081881   \n",
       "2        -0.084994        -0.104284        -0.090909        -0.081881   \n",
       "3        -0.084994        -0.104284        -0.090909        -0.081881   \n",
       "4        -0.084994        -0.104284        -0.090909        -0.081881   \n",
       "\n",
       "   Date_2020-08-13  Date_2020-09-17  Date_2020-09-28  \n",
       "0        -0.093731        -0.078648        -0.084994  \n",
       "1        -0.093731        -0.078648        -0.084994  \n",
       "2        -0.093731        -0.078648        -0.084994  \n",
       "3        -0.093731        -0.078648        -0.084994  \n",
       "4        -0.093731        -0.078648        11.765567  \n",
       "\n",
       "[5 rows x 40 columns]"
      ]
     },
     "execution_count": 46,
     "metadata": {},
     "output_type": "execute_result"
    }
   ],
   "source": [
    "# Convert the scaled predictor values into a dataframe\n",
    "X_standardise = pd.DataFrame(X_scaled,columns=X_ridge.columns)\n",
    "X_standardise.head()"
   ]
  },
  {
   "cell_type": "markdown",
   "metadata": {
    "id": "pGjuiOZ4xxem"
   },
   "source": [
    "Now that we've scaled our data, we can split it into a train and test set."
   ]
  },
  {
   "cell_type": "code",
   "execution_count": 47,
   "metadata": {
    "id": "Pn1Sa-8Txxem"
   },
   "outputs": [],
   "source": [
    "#Split the data into train and test, being sure to use the standardised predictors\n",
    "X_train_ridge, X_test_ridge, y_train_ridge, y_test_ridge = train_test_split(X_standardise, \n",
    "                                                    y_ridge, \n",
    "                                                    test_size=0.2, \n",
    "                                                    random_state=42)"
   ]
  },
  {
   "cell_type": "code",
   "execution_count": 48,
   "metadata": {
    "id": "LiIGpiGJxxen"
   },
   "outputs": [],
   "source": [
    "# Import the ridge regression module from sklearn\n",
    "from sklearn.linear_model import Ridge"
   ]
  },
  {
   "cell_type": "code",
   "execution_count": 49,
   "metadata": {
    "id": "BqfPHqG8xxen"
   },
   "outputs": [],
   "source": [
    "# Create ridge model\n",
    "ridge = Ridge()"
   ]
  },
  {
   "cell_type": "code",
   "execution_count": 50,
   "metadata": {
    "id": "nQxPYNFMxxeo",
    "outputId": "e29fefed-7b70-4cd7-f7ef-367edbdf0766"
   },
   "outputs": [
    {
     "data": {
      "text/plain": [
       "Ridge(alpha=1.0, copy_X=True, fit_intercept=True, max_iter=None,\n",
       "      normalize=False, random_state=None, solver='auto', tol=0.001)"
      ]
     },
     "execution_count": 50,
     "metadata": {},
     "output_type": "execute_result"
    }
   ],
   "source": [
    "# Train the model\n",
    "ridge.fit(X_train_ridge, y_train_ridge)"
   ]
  },
  {
   "cell_type": "markdown",
   "metadata": {
    "id": "wjZt4VH-xxeo"
   },
   "source": [
    "# 12. Assessing the predictive accuracy of the Ridge model \n",
    "We can make use of the `sklearn.metrics` library to assess the accuracy of our model. For comparison, we'll fit a linear model (without regularisation) to the data."
   ]
  },
  {
   "cell_type": "code",
   "execution_count": 51,
   "metadata": {
    "id": "xFif_c1hxxep",
    "outputId": "f8ae0b3f-0118-48f8-de21-522ca7f67e76"
   },
   "outputs": [
    {
     "data": {
      "text/plain": [
       "LinearRegression(copy_X=True, fit_intercept=True, n_jobs=-1, normalize=False)"
      ]
     },
     "execution_count": 51,
     "metadata": {},
     "output_type": "execute_result"
    }
   ],
   "source": [
    "# Create linear model object\n",
    "lm = LinearRegression(n_jobs=-1)\n",
    "\n",
    "# Train linear model on scaled data\n",
    "lm.fit(X_train_ridge, y_train_ridge)"
   ]
  },
  {
   "cell_type": "code",
   "execution_count": 52,
   "metadata": {
    "id": "hOV1dx4pxxep",
    "outputId": "d29bbd67-2e92-44db-bdf7-d6f60a04654d"
   },
   "outputs": [
    {
     "name": "stdout",
     "output_type": "stream",
     "text": [
      "Training RMSE\n",
      "Linear: 1.3976248265998434\n",
      "Ridge : 1.4007072116577872\n"
     ]
    }
   ],
   "source": [
    "# Check training accuracy\n",
    "train_lm = lm.predict(X_train_ridge)\n",
    "train_ridge = ridge.predict(X_train_ridge)\n",
    "\n",
    "print('Training RMSE')\n",
    "print('Linear:', np.sqrt(mean_squared_error(y_train_ridge, train_lm)))\n",
    "print('Ridge :', np.sqrt(mean_squared_error(y_train_ridge, train_ridge)))"
   ]
  },
  {
   "cell_type": "code",
   "execution_count": 53,
   "metadata": {
    "id": "CmULJPp-xxeq",
    "outputId": "728fb14b-3e5e-450f-d6ed-c1ef86746a73"
   },
   "outputs": [
    {
     "name": "stdout",
     "output_type": "stream",
     "text": [
      "Testing RMSE\n",
      "Linear: 1.4599153900250472\n",
      "Ridge : 1.461311389014758\n"
     ]
    }
   ],
   "source": [
    "test_lm = lm.predict(X_test_ridge)\n",
    "test_ridge = ridge.predict(X_test_ridge)\n",
    "\n",
    "print('Testing RMSE')\n",
    "print('Linear:', np.sqrt(mean_squared_error(y_test_ridge, test_lm)))\n",
    "print('Ridge :', np.sqrt(mean_squared_error(y_test_ridge, test_ridge)))"
   ]
  },
  {
   "cell_type": "markdown",
   "metadata": {
    "id": "cw-eF2VExxeq"
   },
   "source": [
    "There is no significant improvement in the training MSE nor testing MSE when ridge regression is applied. \n",
    "\n",
    "Let us try **Lasso Regression** to improve our model."
   ]
  },
  {
   "cell_type": "markdown",
   "metadata": {
    "id": "OyM0Sm77xxer"
   },
   "source": [
    "# 13. Lasso Regression\n",
    "\n",
    "Recall the optimisation expression for ridge regression:\n",
    "\n",
    "$$\\min_{\\beta} (RSS + \\alpha\\sum_{j=1}^pb_j^2)$$\n",
    "\n",
    "where we attempt to minimise the RSS and some penalty term. This can be rewritten:\n",
    "\n",
    "$$\\min_{\\beta} (RSS + \\alpha(L2\\_norm))$$\n",
    "\n",
    "where $L2\\_norm$ is the sum of the squares of the coefficients.\n",
    "\n",
    "In LASSO regularisation, we replace the $L2\\_norm$ with what is known as the $L1\\_norm$: the sum of the _absolute_ values of the coefficients.\n",
    "\n",
    "This is a relatively recent adaptation of ridge regression which is capable of shrinking predictors to exactly zero - effectively removing them from the model entirely and creating what we call a sparse model (one which uses some subset of all of the available predictors). In this way, LASSO achieves both shrinkage and subset selection.\n",
    "\n",
    "A LASSO model is fit under the constraint of minimizing the following equation:\n",
    "\n",
    "$$\\sum_{i=1}^n(y_i-(a+\\sum_{j=1}^pb_jx_{ij}))^2 + \\alpha\\sum_{j=1}^p|b_j|$$\n",
    "\n",
    "which can be rewritten as follows:\n",
    "\n",
    "$$\\min_{\\beta} (RSS + \\alpha\\sum_{j=1}^p|b_j|)$$\n",
    "\n",
    "or,\n",
    "\n",
    "$$\\min_{\\beta} (RSS + \\alpha(L1\\_norm))$$"
   ]
  },
  {
   "cell_type": "markdown",
   "metadata": {
    "id": "Y5mYnScrxxer"
   },
   "source": [
    "### Data Scaling\n",
    "\n",
    "Again, we will scale our data first."
   ]
  },
  {
   "cell_type": "code",
   "execution_count": 54,
   "metadata": {
    "id": "7fhVZlrQxxes"
   },
   "outputs": [],
   "source": [
    "# Split data into predictors and response\n",
    "X_feat = X_lin_best\n",
    "y_tar = y_lin"
   ]
  },
  {
   "cell_type": "code",
   "execution_count": 55,
   "metadata": {
    "id": "0jZ6HRt5xxet"
   },
   "outputs": [],
   "source": [
    "# Save standardized features into new variable\n",
    "X_scaled2 = scaler.fit_transform(X_feat)"
   ]
  },
  {
   "cell_type": "code",
   "execution_count": 56,
   "metadata": {
    "id": "_lUrf5PJxxet"
   },
   "outputs": [],
   "source": [
    "# Split dataset into train and test sets\n",
    "X_train_lasso, X_test_lasso, y_train_lasso, y_test_lasso = train_test_split(X_scaled2, \n",
    "                                                    y_tar, \n",
    "                                                    test_size=0.20,\n",
    "                                                    random_state=42)"
   ]
  },
  {
   "cell_type": "code",
   "execution_count": 57,
   "metadata": {
    "id": "-JS2ccHZxxeu"
   },
   "outputs": [],
   "source": [
    "# Import LASSO module\n",
    "from sklearn.linear_model import Lasso"
   ]
  },
  {
   "cell_type": "code",
   "execution_count": 58,
   "metadata": {
    "id": "e7PQK9n0xxeu"
   },
   "outputs": [],
   "source": [
    "# Create LASSO model object (define model), setting alpha to 0.01\n",
    "lasso = Lasso(alpha=0.01)"
   ]
  },
  {
   "cell_type": "code",
   "execution_count": 59,
   "metadata": {
    "id": "ufhwYKfxxxeu",
    "outputId": "ca93eb39-3350-4515-c1ef-c493996ce4ba"
   },
   "outputs": [
    {
     "data": {
      "text/plain": [
       "Lasso(alpha=0.01, copy_X=True, fit_intercept=True, max_iter=1000,\n",
       "      normalize=False, positive=False, precompute=False, random_state=None,\n",
       "      selection='cyclic', tol=0.0001, warm_start=False)"
      ]
     },
     "execution_count": 59,
     "metadata": {},
     "output_type": "execute_result"
    }
   ],
   "source": [
    "# Train the LASSO model\n",
    "lasso.fit(X_train_lasso, y_train_lasso)"
   ]
  },
  {
   "cell_type": "code",
   "execution_count": 60,
   "metadata": {
    "id": "ILwU23Fgxxev"
   },
   "outputs": [],
   "source": [
    "# Extract coefficient from model\n",
    "coeff = pd.DataFrame(lasso.coef_, X_feat.columns, columns=['Coefficient'])"
   ]
  },
  {
   "cell_type": "markdown",
   "metadata": {
    "id": "VWqPpTbUxxev"
   },
   "source": [
    "Lets visualize the predictors that we shrunk to zero."
   ]
  },
  {
   "cell_type": "code",
   "execution_count": 61,
   "metadata": {
    "id": "vPmh90E6xxew",
    "outputId": "2b2a5c52-2ef4-4e7d-b9b8-d3d2155c068f"
   },
   "outputs": [
    {
     "data": {
      "text/html": [
       "<div>\n",
       "<style scoped>\n",
       "    .dataframe tbody tr th:only-of-type {\n",
       "        vertical-align: middle;\n",
       "    }\n",
       "\n",
       "    .dataframe tbody tr th {\n",
       "        vertical-align: top;\n",
       "    }\n",
       "\n",
       "    .dataframe thead th {\n",
       "        text-align: right;\n",
       "    }\n",
       "</style>\n",
       "<table border=\"1\" class=\"dataframe\">\n",
       "  <thead>\n",
       "    <tr style=\"text-align: right;\">\n",
       "      <th></th>\n",
       "      <th>Coefficient</th>\n",
       "    </tr>\n",
       "  </thead>\n",
       "  <tbody>\n",
       "    <tr>\n",
       "      <th>Weight_Kg</th>\n",
       "      <td>-0.0</td>\n",
       "    </tr>\n",
       "    <tr>\n",
       "      <th>Size_Grade_1M</th>\n",
       "      <td>-0.0</td>\n",
       "    </tr>\n",
       "    <tr>\n",
       "      <th>Date_2020-07-29</th>\n",
       "      <td>-0.0</td>\n",
       "    </tr>\n",
       "    <tr>\n",
       "      <th>Date_2020-08-03</th>\n",
       "      <td>-0.0</td>\n",
       "    </tr>\n",
       "    <tr>\n",
       "      <th>Date_2020-08-13</th>\n",
       "      <td>0.0</td>\n",
       "    </tr>\n",
       "    <tr>\n",
       "      <th>Date_2020-09-28</th>\n",
       "      <td>0.0</td>\n",
       "    </tr>\n",
       "  </tbody>\n",
       "</table>\n",
       "</div>"
      ],
      "text/plain": [
       "                 Coefficient\n",
       "Weight_Kg               -0.0\n",
       "Size_Grade_1M           -0.0\n",
       "Date_2020-07-29         -0.0\n",
       "Date_2020-08-03         -0.0\n",
       "Date_2020-08-13          0.0\n",
       "Date_2020-09-28          0.0"
      ]
     },
     "execution_count": 61,
     "metadata": {},
     "output_type": "execute_result"
    }
   ],
   "source": [
    "no = coeff[coeff['Coefficient']==0]\n",
    "no"
   ]
  },
  {
   "cell_type": "code",
   "execution_count": 62,
   "metadata": {
    "id": "J42m2om9xxew",
    "outputId": "d88f009b-f84d-4f5f-fb8e-e2b372b64403"
   },
   "outputs": [
    {
     "data": {
      "text/plain": [
       "['Weight_Kg',\n",
       " 'Size_Grade_1M',\n",
       " 'Date_2020-07-29',\n",
       " 'Date_2020-08-03',\n",
       " 'Date_2020-08-13',\n",
       " 'Date_2020-09-28']"
      ]
     },
     "execution_count": 62,
     "metadata": {},
     "output_type": "execute_result"
    }
   ],
   "source": [
    "# create list of features that were shrunk to zero\n",
    "index_list = no.index.tolist()\n",
    "index_list"
   ]
  },
  {
   "cell_type": "markdown",
   "metadata": {
    "id": "l6IDc8ayxxex"
   },
   "source": [
    "# 14. Assessment of predictive accuracy\n",
    "\n",
    "Again, we'll make use of the `sklearn.metrics` library to assess the accuracy of our model. We'll fit the following models as well, in order to compare the LASSO results thoroughly:\n",
    "\n",
    "- A least squares model using all available predictors;\n",
    "- A least squares model using the predictors with non-zero coefficients from LASSO;\n",
    "- A ridge regression model using all available predictors."
   ]
  },
  {
   "cell_type": "markdown",
   "metadata": {
    "id": "-ZBU_trDxxex"
   },
   "source": [
    "First, we'll create a subset of our data set, removing all predictor variables with a coefficient of zero."
   ]
  },
  {
   "cell_type": "code",
   "execution_count": 63,
   "metadata": {
    "id": "Fr31Yt5sxxey",
    "outputId": "fbd4ac6b-34d1-4f85-b9db-4c270afe05c1"
   },
   "outputs": [
    {
     "data": {
      "text/plain": [
       "(1952, 34)"
      ]
     },
     "execution_count": 63,
     "metadata": {},
     "output_type": "execute_result"
    }
   ],
   "source": [
    "X_subset = X_feat.drop(index_list,axis=1)\n",
    "X_subset.shape"
   ]
  },
  {
   "cell_type": "code",
   "execution_count": 64,
   "metadata": {
    "id": "v4VQMTmqxxey"
   },
   "outputs": [],
   "source": [
    "# scale subset data\n",
    "X_subset_scaled = scaler.fit_transform(X_subset)\n",
    "\n",
    "# create train and test set of the subset data\n",
    "X_train2, X_test2, y_train2, y_test2 = train_test_split(X_subset_scaled, \n",
    "                                                        y_tar, \n",
    "                                                        test_size=0.20, \n",
    "                                                        random_state=1,\n",
    "                                                        shuffle=False)\n",
    "\n",
    "# Least squares using non-zero variables from LASSO\n",
    "lm_subset = LinearRegression()\n",
    "\n",
    "# Least squares using all predictors\n",
    "lm_all = LinearRegression()\n",
    "\n",
    "# Ridge using all predictors\n",
    "ridge = Ridge()"
   ]
  },
  {
   "cell_type": "code",
   "execution_count": 65,
   "metadata": {
    "id": "Gwdb0smbxxez",
    "outputId": "505f21d7-0278-4d6c-99b0-f2c5e9e7d724"
   },
   "outputs": [
    {
     "data": {
      "text/plain": [
       "Ridge(alpha=1.0, copy_X=True, fit_intercept=True, max_iter=None,\n",
       "      normalize=False, random_state=None, solver='auto', tol=0.001)"
      ]
     },
     "execution_count": 65,
     "metadata": {},
     "output_type": "execute_result"
    }
   ],
   "source": [
    "# Train the models\n",
    "lm_subset.fit(X_train2, y_train2)\n",
    "lm_all.fit(X_train_lasso, y_train_lasso)\n",
    "ridge.fit(X_train_lasso, y_train_lasso)"
   ]
  },
  {
   "cell_type": "code",
   "execution_count": 66,
   "metadata": {
    "id": "e0a9mw08xxe6"
   },
   "outputs": [],
   "source": [
    "# Make training set predictions for each model\n",
    "train_lm_subset = lm_subset.predict(X_train2)\n",
    "train_lm_all = lm_all.predict(X_train_lasso)\n",
    "train_ridge = ridge.predict(X_train_lasso)\n",
    "train_lasso = lasso.predict(X_train_lasso)\n",
    "\n",
    "train_lm_subset_rmse = np.sqrt(mean_squared_error(y_train2, train_lm_subset))\n",
    "train_lm_all_rmse = np.sqrt(mean_squared_error(y_train_lasso, train_lm_all))\n",
    "train_ridge_rmse = np.sqrt(mean_squared_error(y_train_lasso, train_ridge))\n",
    "train_lasso_rmse = np.sqrt(mean_squared_error(y_train_lasso, train_lasso))"
   ]
  },
  {
   "cell_type": "code",
   "execution_count": 67,
   "metadata": {
    "id": "mizyqbzSxxe6"
   },
   "outputs": [],
   "source": [
    "# Make test set predictions for each model\n",
    "test_lm_subset = lm_subset.predict(X_test2)\n",
    "test_lm_all = lm_all.predict(X_test_lasso)\n",
    "test_ridge = ridge.predict(X_test_lasso)\n",
    "test_lasso = lasso.predict(X_test_lasso)\n",
    "\n",
    "test_lm_subset_rmse = np.sqrt(mean_squared_error(y_test2, test_lm_subset))\n",
    "test_lm_all_rmse = np.sqrt(mean_squared_error(y_test_lasso, test_lm_all))\n",
    "test_ridge_rmse = np.sqrt(mean_squared_error(y_test_lasso, test_ridge))\n",
    "test_lasso_rmse = np.sqrt(mean_squared_error(y_test_lasso, test_lasso))"
   ]
  },
  {
   "cell_type": "code",
   "execution_count": 68,
   "metadata": {
    "id": "LUMvRX7Nxxe7"
   },
   "outputs": [],
   "source": [
    "# Dictionary of results\n",
    "results_dict = {'Training RMSE':\n",
    "                    {\n",
    "                        \"Least Squares, Subset\": np.sqrt(mean_squared_error(y_train2, train_lm_subset)),\n",
    "                        \"Least Squares, All\": np.sqrt(mean_squared_error(y_train_lasso, train_lm_all)),\n",
    "                        \"Ridge\": np.sqrt(mean_squared_error(y_train_lasso, train_ridge)),\n",
    "                        \"LASSO\": np.sqrt(mean_squared_error(y_train_lasso, train_lasso))\n",
    "                    },\n",
    "                    'Test RMSE':\n",
    "                    {\n",
    "                        \"Least Squares, Subset\": np.sqrt(mean_squared_error(y_test2, test_lm_subset)),\n",
    "                        \"Least Squares, All\": np.sqrt(mean_squared_error(y_test_lasso, test_lm_all)),\n",
    "                        \"Ridge\": np.sqrt(mean_squared_error(y_test_lasso, test_ridge)),\n",
    "                        \"LASSO\": np.sqrt(mean_squared_error(y_test_lasso, test_lasso))\n",
    "                    }\n",
    "                }"
   ]
  },
  {
   "cell_type": "code",
   "execution_count": 69,
   "metadata": {
    "id": "yN2bePl8xxe7",
    "outputId": "04db43cc-4171-458a-a4e1-25c3988dc64d"
   },
   "outputs": [
    {
     "data": {
      "text/html": [
       "<div>\n",
       "<style scoped>\n",
       "    .dataframe tbody tr th:only-of-type {\n",
       "        vertical-align: middle;\n",
       "    }\n",
       "\n",
       "    .dataframe tbody tr th {\n",
       "        vertical-align: top;\n",
       "    }\n",
       "\n",
       "    .dataframe thead th {\n",
       "        text-align: right;\n",
       "    }\n",
       "</style>\n",
       "<table border=\"1\" class=\"dataframe\">\n",
       "  <thead>\n",
       "    <tr style=\"text-align: right;\">\n",
       "      <th></th>\n",
       "      <th>Training RMSE</th>\n",
       "      <th>Test RMSE</th>\n",
       "    </tr>\n",
       "  </thead>\n",
       "  <tbody>\n",
       "    <tr>\n",
       "      <th>LASSO</th>\n",
       "      <td>1.406603</td>\n",
       "      <td>1.456826</td>\n",
       "    </tr>\n",
       "    <tr>\n",
       "      <th>Least Squares, All</th>\n",
       "      <td>1.397625</td>\n",
       "      <td>1.459915</td>\n",
       "    </tr>\n",
       "    <tr>\n",
       "      <th>Least Squares, Subset</th>\n",
       "      <td>1.409640</td>\n",
       "      <td>1.427699</td>\n",
       "    </tr>\n",
       "    <tr>\n",
       "      <th>Ridge</th>\n",
       "      <td>1.400707</td>\n",
       "      <td>1.461311</td>\n",
       "    </tr>\n",
       "  </tbody>\n",
       "</table>\n",
       "</div>"
      ],
      "text/plain": [
       "                       Training RMSE  Test RMSE\n",
       "LASSO                       1.406603   1.456826\n",
       "Least Squares, All          1.397625   1.459915\n",
       "Least Squares, Subset       1.409640   1.427699\n",
       "Ridge                       1.400707   1.461311"
      ]
     },
     "execution_count": 69,
     "metadata": {},
     "output_type": "execute_result"
    }
   ],
   "source": [
    "# Create dataframe from dictionary\n",
    "results_df = pd.DataFrame(data=results_dict)\n",
    "results_df"
   ]
  },
  {
   "cell_type": "markdown",
   "metadata": {
    "id": "KmK4aLmaxxe8"
   },
   "source": [
    "Training the linear model on the subset of data (predictor variables dropped with coefficient = 0) is not a good idea since the difference between the train and test RMSE is the highest, compared to all the other models.\n",
    "\n",
    "From the above table we can see that the training RMSE actually increased using Lasso regression, however testing RMSE actually decreased, indicating higher predictive accuracy. It seems like the use of regularisation techniques doesn't improve the performance of our model significantly.\n",
    "\n",
    "We will investigate more complex models in our quest to improve the predictive power of our model."
   ]
  },
  {
   "cell_type": "markdown",
   "metadata": {},
   "source": [
    "[<a href =\"#Table-of-Contents\">Back to table of contents</a>]"
   ]
  },
  {
   "cell_type": "markdown",
   "metadata": {
    "id": "Yn6ONmD-xxe8"
   },
   "source": [
    "# 15. Decision Trees"
   ]
  },
  {
   "cell_type": "markdown",
   "metadata": {
    "id": "iUsj4VPrxxe9"
   },
   "source": [
    "Decision Trees are tree-like (upside down) machine learning models which represent data by partitioning it into different sections based on questions asked of predictive variables in the data. "
   ]
  },
  {
   "cell_type": "code",
   "execution_count": 70,
   "metadata": {
    "id": "-hkKYkvjxxe9"
   },
   "outputs": [],
   "source": [
    "# set test size to 20 % of training data\n",
    "x_train_dt, x_test_dt, y_train_dt, y_test_dt = train_test_split(X_feat, y_tar, test_size=0.2, random_state=42)"
   ]
  },
  {
   "cell_type": "markdown",
   "metadata": {
    "id": "JgyrFIWlxxe-"
   },
   "source": [
    "### Building the Decision Tree"
   ]
  },
  {
   "cell_type": "code",
   "execution_count": 71,
   "metadata": {
    "id": "VrLYUXzAxxe-"
   },
   "outputs": [],
   "source": [
    "# import DecisionTreeRegressor\n",
    "from sklearn.tree import DecisionTreeRegressor"
   ]
  },
  {
   "cell_type": "markdown",
   "metadata": {
    "id": "-z-OfsRhxxe-"
   },
   "source": [
    "#### Decision Tree model tuning"
   ]
  },
  {
   "cell_type": "markdown",
   "metadata": {
    "id": "FPOHZN30xxe_"
   },
   "source": [
    "Tuning the hyperparamaters of the Decision Tree model is important to obtain optimal performance. Let's create a dictionary that houses a lists of values where we will choose from to tune the hyperparamaters. We will be tuning `max_depth`, `min_samples_leaf` and `min_samples_split`."
   ]
  },
  {
   "cell_type": "code",
   "execution_count": null,
   "metadata": {
    "id": "YHglX13LxxfL"
   },
   "outputs": [],
   "source": [
    "param_dist = {'max_depth':list(range(5,15,2)),'min_samples_leaf':list(range(1,5)), 'min_samples_split': list(range(5,30,5))}"
   ]
  },
  {
   "cell_type": "markdown",
   "metadata": {
    "id": "lJ9numMNxxfL"
   },
   "source": [
    "In order to find the best combination of hyperparamaters, we will import `GridSearchCV`."
   ]
  },
  {
   "cell_type": "code",
   "execution_count": 80,
   "metadata": {
    "id": "IsrA9irAxxfM"
   },
   "outputs": [],
   "source": [
    "from sklearn.model_selection import GridSearchCV"
   ]
  },
  {
   "cell_type": "code",
   "execution_count": null,
   "metadata": {
    "id": "OkeQzxH5xxfM"
   },
   "outputs": [],
   "source": [
    "regr_tree = DecisionTreeRegressor()\n",
    "grid = GridSearchCV(regr_tree,param_grid=param_dist, cv=10, n_jobs=-1)"
   ]
  },
  {
   "cell_type": "code",
   "execution_count": null,
   "metadata": {
    "id": "Jy8ScVpAxxfN",
    "outputId": "969a3983-7335-4ddf-906a-95cf051c05e1"
   },
   "outputs": [
    {
     "data": {
      "text/plain": [
       "GridSearchCV(cv=10, error_score='raise-deprecating',\n",
       "             estimator=DecisionTreeRegressor(criterion='mse', max_depth=None,\n",
       "                                             max_features=None,\n",
       "                                             max_leaf_nodes=None,\n",
       "                                             min_impurity_decrease=0.0,\n",
       "                                             min_impurity_split=None,\n",
       "                                             min_samples_leaf=1,\n",
       "                                             min_samples_split=2,\n",
       "                                             min_weight_fraction_leaf=0.0,\n",
       "                                             presort=False, random_state=None,\n",
       "                                             splitter='best'),\n",
       "             iid='warn', n_jobs=-1,\n",
       "             param_grid={'max_depth': [5, 7, 9, 11, 13],\n",
       "                         'min_samples_leaf': [1, 2, 3, 4],\n",
       "                         'min_samples_split': [5, 10, 15, 20, 25]},\n",
       "             pre_dispatch='2*n_jobs', refit=True, return_train_score=False,\n",
       "             scoring=None, verbose=0)"
      ]
     },
     "execution_count": 93,
     "metadata": {
      "tags": []
     },
     "output_type": "execute_result"
    }
   ],
   "source": [
    "# fit the grid to the train set in order to find best combination of hyperparamters\n",
    "grid.fit(x_train_dt,y_train_dt)"
   ]
  },
  {
   "cell_type": "code",
   "execution_count": null,
   "metadata": {
    "id": "yEnwmJ5OxxfN",
    "outputId": "a29dcb5e-0d04-4ef4-a2f1-c438acfc0131"
   },
   "outputs": [
    {
     "data": {
      "text/plain": [
       "DecisionTreeRegressor(criterion='mse', max_depth=9, max_features=None,\n",
       "                      max_leaf_nodes=None, min_impurity_decrease=0.0,\n",
       "                      min_impurity_split=None, min_samples_leaf=4,\n",
       "                      min_samples_split=10, min_weight_fraction_leaf=0.0,\n",
       "                      presort=False, random_state=None, splitter='best')"
      ]
     },
     "execution_count": 94,
     "metadata": {
      "tags": []
     },
     "output_type": "execute_result"
    }
   ],
   "source": [
    "# show hyperparamters of DecisionTreeRegressor\n",
    "grid.best_estimator_"
   ]
  },
  {
   "cell_type": "code",
   "execution_count": null,
   "metadata": {
    "id": "44bu2deCxxfO",
    "outputId": "f5ff1160-196d-46a0-decd-53e92b84bc9f"
   },
   "outputs": [
    {
     "data": {
      "text/plain": [
       "0.8882430259725895"
      ]
     },
     "execution_count": 95,
     "metadata": {
      "tags": []
     },
     "output_type": "execute_result"
    }
   ],
   "source": [
    "# show best r^2 value from combinations available\n",
    "grid.best_score_"
   ]
  },
  {
   "cell_type": "code",
   "execution_count": null,
   "metadata": {
    "id": "s4rm59FaxxfO",
    "outputId": "e21b902a-4095-4ce3-f3d9-563ef7661dce"
   },
   "outputs": [
    {
     "data": {
      "text/plain": [
       "{'max_depth': 9, 'min_samples_leaf': 4, 'min_samples_split': 10}"
      ]
     },
     "execution_count": 96,
     "metadata": {
      "tags": []
     },
     "output_type": "execute_result"
    }
   ],
   "source": [
    "# show best combination of values for hyperparamaters that were investigated\n",
    "grid.best_params_"
   ]
  },
  {
   "cell_type": "markdown",
   "metadata": {
    "id": "crJgrxurxxfP"
   },
   "source": [
    "Now, lets apply these optimal hyperparamaters to our **DecisionTreeRegressor**."
   ]
  },
  {
   "cell_type": "code",
   "execution_count": 72,
   "metadata": {
    "id": "8IzM7LffxxfP"
   },
   "outputs": [],
   "source": [
    "# Instantiate regression tree model\n",
    "regr_tree = DecisionTreeRegressor(max_depth=9,min_samples_leaf=4,min_samples_split=10,random_state=42)"
   ]
  },
  {
   "cell_type": "code",
   "execution_count": 73,
   "metadata": {
    "id": "_FFkch8PxxfQ",
    "outputId": "c90b1d66-1880-4c22-928d-b90e9cf50096"
   },
   "outputs": [
    {
     "data": {
      "text/plain": [
       "DecisionTreeRegressor(criterion='mse', max_depth=9, max_features=None,\n",
       "                      max_leaf_nodes=None, min_impurity_decrease=0.0,\n",
       "                      min_impurity_split=None, min_samples_leaf=4,\n",
       "                      min_samples_split=10, min_weight_fraction_leaf=0.0,\n",
       "                      presort=False, random_state=42, splitter='best')"
      ]
     },
     "execution_count": 73,
     "metadata": {},
     "output_type": "execute_result"
    }
   ],
   "source": [
    "# fit and train model\n",
    "regr_tree.fit(x_train_dt,y_train_dt)"
   ]
  },
  {
   "cell_type": "code",
   "execution_count": 74,
   "metadata": {
    "id": "uLpNna38xxfQ",
    "outputId": "97019a9d-8d7e-49d8-a153-3c4f7926a2ce"
   },
   "outputs": [
    {
     "name": "stdout",
     "output_type": "stream",
     "text": [
      "Regression Decision Tree model RMSE train is: 0.5266811073163471\n",
      "Regression Decision Tree model RMSE test is: 0.7420393395800684\n"
     ]
    }
   ],
   "source": [
    "# get predictions for train and test data\n",
    "y_pred_train_dt = regr_tree.predict(x_train_dt)\n",
    "y_pred_test_dt = regr_tree.predict(x_test_dt)\n",
    "\n",
    "# calculate MSE\n",
    "rmse_train_dt = np.sqrt(mean_squared_error(y_pred_train_dt, y_train_dt))\n",
    "rmse_test_dt = np.sqrt(mean_squared_error(y_pred_test_dt,y_test_dt))\n",
    "\n",
    "# Report RMSE\n",
    "print(\"Regression Decision Tree model RMSE train is:\",rmse_train_dt)\n",
    "print(\"Regression Decision Tree model RMSE test is:\",rmse_test_dt)"
   ]
  },
  {
   "cell_type": "markdown",
   "metadata": {
    "id": "zEuG6XQzxxfR"
   },
   "source": [
    "The RMSE for the train and test set improved significantly for the Decision Tree model, however we would like to improve the RMSE even further. Thus, let's enter the Random Forest... "
   ]
  },
  {
   "cell_type": "markdown",
   "metadata": {
    "id": "H8X9oH3kxxfR"
   },
   "source": [
    "# 16. Random Forest"
   ]
  },
  {
   "cell_type": "markdown",
   "metadata": {
    "id": "cpMOUWknxxfR"
   },
   "source": [
    "A random forest is a powerful non-parametric algorithm and as mentioned is an example of an **ensemble** method built on decision trees, meaning that it relies on aggregating the results of an ensemble of decision trees. The ensembled trees are randomized and the output is mean prediction of the individual trees."
   ]
  },
  {
   "cell_type": "code",
   "execution_count": 75,
   "metadata": {
    "id": "D3Vx3WG0xxfS"
   },
   "outputs": [],
   "source": [
    "# set test size to 20 % of training data\n",
    "x_train_random, x_test_random, y_train_random, y_test_random = train_test_split(X_feat, y_tar, test_size=0.2, random_state=42)"
   ]
  },
  {
   "cell_type": "code",
   "execution_count": 76,
   "metadata": {
    "id": "4acr8IuTxxfS"
   },
   "outputs": [],
   "source": [
    "# import RandomForesRegressor\n",
    "from sklearn.ensemble import RandomForestRegressor"
   ]
  },
  {
   "cell_type": "code",
   "execution_count": 77,
   "metadata": {
    "id": "wxdQ5fALxxfT"
   },
   "outputs": [],
   "source": [
    "RF = RandomForestRegressor()"
   ]
  },
  {
   "cell_type": "markdown",
   "metadata": {
    "id": "5kvesvVExxfT"
   },
   "source": [
    "#### Model Tuning for Random Forest"
   ]
  },
  {
   "cell_type": "code",
   "execution_count": 83,
   "metadata": {
    "id": "_mo1lrESxxfT"
   },
   "outputs": [],
   "source": [
    "# dictionary containing list of values for getting optimal hyperparamaters\n",
    "param_dist_rf = {'n_estimators': [100],'max_features': list(range(15,25,3)),'max_depth': list(range(8,18,3)),'min_samples_split':list(range(5,15,3))}"
   ]
  },
  {
   "cell_type": "code",
   "execution_count": 84,
   "metadata": {
    "id": "9ZRp8jQBxxfU"
   },
   "outputs": [],
   "source": [
    "# define grid\n",
    "grid_rf = GridSearchCV(RF,param_grid=param_dist_rf, cv=10, n_jobs=-1)"
   ]
  },
  {
   "cell_type": "code",
   "execution_count": 85,
   "metadata": {
    "id": "o9VxpsqUxxfU",
    "outputId": "461bfc74-47f8-416e-9d2b-d29497393194"
   },
   "outputs": [
    {
     "data": {
      "text/plain": [
       "GridSearchCV(cv=10, error_score='raise-deprecating',\n",
       "             estimator=RandomForestRegressor(bootstrap=True, criterion='mse',\n",
       "                                             max_depth=None,\n",
       "                                             max_features='auto',\n",
       "                                             max_leaf_nodes=None,\n",
       "                                             min_impurity_decrease=0.0,\n",
       "                                             min_impurity_split=None,\n",
       "                                             min_samples_leaf=1,\n",
       "                                             min_samples_split=2,\n",
       "                                             min_weight_fraction_leaf=0.0,\n",
       "                                             n_estimators='warn', n_jobs=None,\n",
       "                                             oob_score=False, random_state=None,\n",
       "                                             verbose=0, warm_start=False),\n",
       "             iid='warn', n_jobs=-1,\n",
       "             param_grid={'max_depth': [8, 11, 14, 17],\n",
       "                         'max_features': [15, 18, 21, 24],\n",
       "                         'min_samples_split': [5, 8, 11, 14],\n",
       "                         'n_estimators': [100]},\n",
       "             pre_dispatch='2*n_jobs', refit=True, return_train_score=False,\n",
       "             scoring=None, verbose=0)"
      ]
     },
     "execution_count": 85,
     "metadata": {},
     "output_type": "execute_result"
    }
   ],
   "source": [
    "# fit and train grid\n",
    "grid_rf.fit(x_train_random,y_train_random)"
   ]
  },
  {
   "cell_type": "code",
   "execution_count": 86,
   "metadata": {
    "id": "5yT74v0xxxfV",
    "outputId": "00a59d86-49e0-4a5a-fec4-49aaaee4eb23"
   },
   "outputs": [
    {
     "data": {
      "text/plain": [
       "0.9186925032745878"
      ]
     },
     "execution_count": 86,
     "metadata": {},
     "output_type": "execute_result"
    }
   ],
   "source": [
    "# return best r^2 value for optimal combination of hyperparamaters\n",
    "grid_rf.best_score_"
   ]
  },
  {
   "cell_type": "code",
   "execution_count": 87,
   "metadata": {
    "id": "wltMwQSsxxfV",
    "outputId": "c3413013-b109-455b-c182-c4174e07b361"
   },
   "outputs": [
    {
     "data": {
      "text/plain": [
       "{'max_depth': 14,\n",
       " 'max_features': 21,\n",
       " 'min_samples_split': 5,\n",
       " 'n_estimators': 100}"
      ]
     },
     "execution_count": 87,
     "metadata": {},
     "output_type": "execute_result"
    }
   ],
   "source": [
    "# get best combination of hyperparamaters that was tuned\n",
    "grid_rf.best_params_"
   ]
  },
  {
   "cell_type": "markdown",
   "metadata": {
    "id": "WGbUDVQaxxfW"
   },
   "source": [
    "Now, lets apply these optimal hyperparamaters to our **RandomForestRegressor**."
   ]
  },
  {
   "cell_type": "code",
   "execution_count": 88,
   "metadata": {
    "id": "_eihXfufxxfW"
   },
   "outputs": [],
   "source": [
    "# Instantiate Random Forest model with optimal hyperparamters\n",
    "RF = RandomForestRegressor(n_estimators=100, max_features = 21, max_depth=14, min_samples_split=5, min_samples_leaf=3, random_state=1)"
   ]
  },
  {
   "cell_type": "code",
   "execution_count": 89,
   "metadata": {
    "id": "AJ608iNExxfW",
    "outputId": "537ac3fb-7797-42c1-c7b8-c89a7c8d0a43"
   },
   "outputs": [
    {
     "data": {
      "text/plain": [
       "RandomForestRegressor(bootstrap=True, criterion='mse', max_depth=14,\n",
       "                      max_features=21, max_leaf_nodes=None,\n",
       "                      min_impurity_decrease=0.0, min_impurity_split=None,\n",
       "                      min_samples_leaf=3, min_samples_split=5,\n",
       "                      min_weight_fraction_leaf=0.0, n_estimators=100,\n",
       "                      n_jobs=None, oob_score=False, random_state=1, verbose=0,\n",
       "                      warm_start=False)"
      ]
     },
     "execution_count": 89,
     "metadata": {},
     "output_type": "execute_result"
    }
   ],
   "source": [
    "# fit and train model\n",
    "RF.fit(x_train_random,y_train_random)"
   ]
  },
  {
   "cell_type": "code",
   "execution_count": 90,
   "metadata": {
    "id": "gphkpBeYxxfX",
    "outputId": "8910444a-03eb-4e42-aa06-9f2e513ab673"
   },
   "outputs": [
    {
     "name": "stdout",
     "output_type": "stream",
     "text": [
      "RMSE 0.4503952942834693\n"
     ]
    }
   ],
   "source": [
    "# training set predictions\n",
    "train_rf = RF.predict(x_train_random)\n",
    "train_rf_rmse = np.sqrt(mean_squared_error(y_train_random, train_rf))\n",
    "\n",
    "# Compute RMSE on train set\n",
    "print('RMSE',np.sqrt(mean_squared_error(y_train_random, train_rf)))"
   ]
  },
  {
   "cell_type": "code",
   "execution_count": 91,
   "metadata": {
    "id": "12cLGA1qxxfX",
    "outputId": "291b8796-a6a1-4fcb-aa57-d67fa06c1beb"
   },
   "outputs": [
    {
     "name": "stdout",
     "output_type": "stream",
     "text": [
      "RMSE: 0.5377039473434502\n"
     ]
    }
   ],
   "source": [
    "# Get predictions\n",
    "test_rf = RF.predict(x_test_random)\n",
    "test_rf_rmse = np.sqrt(mean_squared_error(y_test_random,test_rf))\n",
    "\n",
    "# Compute RMSE\n",
    "print(\"RMSE:\",np.sqrt(mean_squared_error(y_test_random,test_rf)))"
   ]
  },
  {
   "cell_type": "code",
   "execution_count": 92,
   "metadata": {
    "id": "bAxlOIwdxxfY",
    "outputId": "2f64ca40-1c28-428a-dbb4-72c8f4e4e571"
   },
   "outputs": [
    {
     "data": {
      "image/png": "[encoded data removed]",
      "text/plain": [
       "<Figure size 432x288 with 1 Axes>"
      ]
     },
     "metadata": {
      "needs_background": "light"
     },
     "output_type": "display_data"
    }
   ],
   "source": [
    "fig, ax = plt.subplots()\n",
    "train_rmse = [train_rmse_best, train_ridge_rmse, train_lasso_rmse, rmse_train_dt, train_rf_rmse]\n",
    "models = ['Linear', 'Ridge', 'Lasso','Decision Tree', 'Random Forest']\n",
    "\n",
    "ax.barh(models, train_rmse, color='red')\n",
    "ax.set_yticks(models)\n",
    "ax.set_yticklabels(models)\n",
    "ax.set_xlabel('RMSE on train set')\n",
    "ax.set_title('RMSE values for train set')\n",
    "\n",
    "plt.show()"
   ]
  },
  {
   "cell_type": "markdown",
   "metadata": {
    "id": "rddctF4XxxfZ"
   },
   "source": [
    "From the above graph we can see that the training RMSE improved significantly with the Decision Tree and Random Forest model."
   ]
  },
  {
   "cell_type": "code",
   "execution_count": 93,
   "metadata": {
    "id": "3A3gC3ecxxfZ",
    "outputId": "680b448b-4bed-4328-f677-009700706931"
   },
   "outputs": [
    {
     "data": {
      "image/png": "[encoded data removed]",
      "text/plain": [
       "<Figure size 432x288 with 1 Axes>"
      ]
     },
     "metadata": {
      "needs_background": "light"
     },
     "output_type": "display_data"
    }
   ],
   "source": [
    "fig, ax = plt.subplots()\n",
    "train_rmse = [test_rmse_best, test_ridge_rmse, test_lasso_rmse, rmse_test_dt, test_rf_rmse]\n",
    "models = ['Linear', 'Ridge', 'Lasso','Decision Tree', 'Random Forest']\n",
    "\n",
    "ax.barh(models, train_rmse)\n",
    "ax.set_yticks(models)\n",
    "ax.set_yticklabels(models)\n",
    "ax.set_xlabel('RMSE on train set')\n",
    "ax.set_title('RMSE values for train set')\n",
    "\n",
    "plt.show()"
   ]
  },
  {
   "cell_type": "markdown",
   "metadata": {
    "id": "WT5YkG0Lxxfa"
   },
   "source": [
    "From the RMSE of the test set, confirms that the Random Forest model performed the best on data."
   ]
  },
  {
   "cell_type": "code",
   "execution_count": null,
   "metadata": {
    "id": "lxOsOlR4xxfa"
   },
   "outputs": [],
   "source": []
  },
  {
   "cell_type": "markdown",
   "metadata": {
    "id": "uRqOrqX0xxfc"
   },
   "source": [
    "# 17. Feature Importance"
   ]
  },
  {
   "cell_type": "markdown",
   "metadata": {
    "id": "8wWDrzMXxxfc"
   },
   "source": [
    "Feature importance describes which features are relevant. Feature importance can sometimes help with model improvements by implementing the feature selection. The Random Forest algorithm has a built in feature importance method.\n",
    "\n",
    "The more accurate the model is, the more trustworthy the computed importances are. The computed importances describe how important features are for the machine learning model. It is an approximation of how important features are in the data."
   ]
  },
  {
   "cell_type": "code",
   "execution_count": null,
   "metadata": {
    "id": "utcPiogHxxfd",
    "outputId": "47e6510b-fb62-4bf7-bdcf-bd08ff4b404b"
   },
   "outputs": [
    {
     "data": {
      "text/html": [
       "<div>\n",
       "<style scoped>\n",
       "    .dataframe tbody tr th:only-of-type {\n",
       "        vertical-align: middle;\n",
       "    }\n",
       "\n",
       "    .dataframe tbody tr th {\n",
       "        vertical-align: top;\n",
       "    }\n",
       "\n",
       "    .dataframe thead th {\n",
       "        text-align: right;\n",
       "    }\n",
       "</style>\n",
       "<table border=\"1\" class=\"dataframe\">\n",
       "  <thead>\n",
       "    <tr style=\"text-align: right;\">\n",
       "      <th></th>\n",
       "      <th>Feature Importance</th>\n",
       "    </tr>\n",
       "  </thead>\n",
       "  <tbody>\n",
       "    <tr>\n",
       "      <th>Low_Price</th>\n",
       "      <td>0.346567</td>\n",
       "    </tr>\n",
       "    <tr>\n",
       "      <th>High_Price</th>\n",
       "      <td>0.279337</td>\n",
       "    </tr>\n",
       "    <tr>\n",
       "      <th>Weight_Kg</th>\n",
       "      <td>0.126857</td>\n",
       "    </tr>\n",
       "    <tr>\n",
       "      <th>Container_IA400</th>\n",
       "      <td>0.077318</td>\n",
       "    </tr>\n",
       "    <tr>\n",
       "      <th>Container_M4183</th>\n",
       "      <td>0.031796</td>\n",
       "    </tr>\n",
       "    <tr>\n",
       "      <th>Sales_Total</th>\n",
       "      <td>0.030286</td>\n",
       "    </tr>\n",
       "    <tr>\n",
       "      <th>Province_NATAL</th>\n",
       "      <td>0.019831</td>\n",
       "    </tr>\n",
       "    <tr>\n",
       "      <th>Stock_On_Hand</th>\n",
       "      <td>0.018502</td>\n",
       "    </tr>\n",
       "    <tr>\n",
       "      <th>Total_Kg_Sold</th>\n",
       "      <td>0.016722</td>\n",
       "    </tr>\n",
       "    <tr>\n",
       "      <th>Total_Qty_Sold</th>\n",
       "      <td>0.013664</td>\n",
       "    </tr>\n",
       "    <tr>\n",
       "      <th>Container_EC120</th>\n",
       "      <td>0.008847</td>\n",
       "    </tr>\n",
       "    <tr>\n",
       "      <th>Container_JE090</th>\n",
       "      <td>0.007210</td>\n",
       "    </tr>\n",
       "    <tr>\n",
       "      <th>Size_Grade_2S</th>\n",
       "      <td>0.004651</td>\n",
       "    </tr>\n",
       "    <tr>\n",
       "      <th>Province_W.CAPE-BERGRIVER ETC</th>\n",
       "      <td>0.004079</td>\n",
       "    </tr>\n",
       "    <tr>\n",
       "      <th>Size_Grade_1S</th>\n",
       "      <td>0.003515</td>\n",
       "    </tr>\n",
       "    <tr>\n",
       "      <th>Province_EASTERN CAPE</th>\n",
       "      <td>0.003016</td>\n",
       "    </tr>\n",
       "    <tr>\n",
       "      <th>Size_Grade_1M</th>\n",
       "      <td>0.001831</td>\n",
       "    </tr>\n",
       "    <tr>\n",
       "      <th>Container_JG110</th>\n",
       "      <td>0.001087</td>\n",
       "    </tr>\n",
       "    <tr>\n",
       "      <th>Size_Grade_1X</th>\n",
       "      <td>0.001062</td>\n",
       "    </tr>\n",
       "    <tr>\n",
       "      <th>Size_Grade_2M</th>\n",
       "      <td>0.000961</td>\n",
       "    </tr>\n",
       "    <tr>\n",
       "      <th>Container_EF120</th>\n",
       "      <td>0.000872</td>\n",
       "    </tr>\n",
       "    <tr>\n",
       "      <th>Date_2019-12-12</th>\n",
       "      <td>0.000360</td>\n",
       "    </tr>\n",
       "    <tr>\n",
       "      <th>Date_2019-12-14</th>\n",
       "      <td>0.000337</td>\n",
       "    </tr>\n",
       "    <tr>\n",
       "      <th>Province_WEST COAST</th>\n",
       "      <td>0.000322</td>\n",
       "    </tr>\n",
       "    <tr>\n",
       "      <th>Size_Grade_2L</th>\n",
       "      <td>0.000191</td>\n",
       "    </tr>\n",
       "    <tr>\n",
       "      <th>Date_2020-04-17</th>\n",
       "      <td>0.000101</td>\n",
       "    </tr>\n",
       "    <tr>\n",
       "      <th>Province_TRANSVAAL</th>\n",
       "      <td>0.000093</td>\n",
       "    </tr>\n",
       "    <tr>\n",
       "      <th>Date_2020-02-01</th>\n",
       "      <td>0.000086</td>\n",
       "    </tr>\n",
       "    <tr>\n",
       "      <th>Date_2020-06-09</th>\n",
       "      <td>0.000062</td>\n",
       "    </tr>\n",
       "    <tr>\n",
       "      <th>Size_Grade_2U</th>\n",
       "      <td>0.000056</td>\n",
       "    </tr>\n",
       "    <tr>\n",
       "      <th>...</th>\n",
       "      <td>...</td>\n",
       "    </tr>\n",
       "    <tr>\n",
       "      <th>Date_2020-06-17</th>\n",
       "      <td>0.000000</td>\n",
       "    </tr>\n",
       "    <tr>\n",
       "      <th>Date_2020-06-19</th>\n",
       "      <td>0.000000</td>\n",
       "    </tr>\n",
       "    <tr>\n",
       "      <th>Date_2020-04-22</th>\n",
       "      <td>0.000000</td>\n",
       "    </tr>\n",
       "    <tr>\n",
       "      <th>Date_2020-02-15</th>\n",
       "      <td>0.000000</td>\n",
       "    </tr>\n",
       "    <tr>\n",
       "      <th>Date_2020-03-13</th>\n",
       "      <td>0.000000</td>\n",
       "    </tr>\n",
       "    <tr>\n",
       "      <th>Date_2020-03-16</th>\n",
       "      <td>0.000000</td>\n",
       "    </tr>\n",
       "    <tr>\n",
       "      <th>Date_2020-02-11</th>\n",
       "      <td>0.000000</td>\n",
       "    </tr>\n",
       "    <tr>\n",
       "      <th>Date_2020-02-10</th>\n",
       "      <td>0.000000</td>\n",
       "    </tr>\n",
       "    <tr>\n",
       "      <th>Date_2020-02-03</th>\n",
       "      <td>0.000000</td>\n",
       "    </tr>\n",
       "    <tr>\n",
       "      <th>Date_2020-04-07</th>\n",
       "      <td>0.000000</td>\n",
       "    </tr>\n",
       "    <tr>\n",
       "      <th>Date_2020-04-14</th>\n",
       "      <td>0.000000</td>\n",
       "    </tr>\n",
       "    <tr>\n",
       "      <th>Date_2020-04-15</th>\n",
       "      <td>0.000000</td>\n",
       "    </tr>\n",
       "    <tr>\n",
       "      <th>Date_2020-04-16</th>\n",
       "      <td>0.000000</td>\n",
       "    </tr>\n",
       "    <tr>\n",
       "      <th>Date_2020-01-30</th>\n",
       "      <td>0.000000</td>\n",
       "    </tr>\n",
       "    <tr>\n",
       "      <th>Date_2020-01-28</th>\n",
       "      <td>0.000000</td>\n",
       "    </tr>\n",
       "    <tr>\n",
       "      <th>Date_2020-04-23</th>\n",
       "      <td>0.000000</td>\n",
       "    </tr>\n",
       "    <tr>\n",
       "      <th>Date_2020-02-21</th>\n",
       "      <td>0.000000</td>\n",
       "    </tr>\n",
       "    <tr>\n",
       "      <th>Date_2020-04-28</th>\n",
       "      <td>0.000000</td>\n",
       "    </tr>\n",
       "    <tr>\n",
       "      <th>Date_2020-05-06</th>\n",
       "      <td>0.000000</td>\n",
       "    </tr>\n",
       "    <tr>\n",
       "      <th>Date_2020-05-14</th>\n",
       "      <td>0.000000</td>\n",
       "    </tr>\n",
       "    <tr>\n",
       "      <th>Date_2020-05-18</th>\n",
       "      <td>0.000000</td>\n",
       "    </tr>\n",
       "    <tr>\n",
       "      <th>Date_2020-05-19</th>\n",
       "      <td>0.000000</td>\n",
       "    </tr>\n",
       "    <tr>\n",
       "      <th>Date_2020-05-22</th>\n",
       "      <td>0.000000</td>\n",
       "    </tr>\n",
       "    <tr>\n",
       "      <th>Date_2020-05-25</th>\n",
       "      <td>0.000000</td>\n",
       "    </tr>\n",
       "    <tr>\n",
       "      <th>Date_2020-05-29</th>\n",
       "      <td>0.000000</td>\n",
       "    </tr>\n",
       "    <tr>\n",
       "      <th>Date_2020-06-02</th>\n",
       "      <td>0.000000</td>\n",
       "    </tr>\n",
       "    <tr>\n",
       "      <th>Date_2020-06-03</th>\n",
       "      <td>0.000000</td>\n",
       "    </tr>\n",
       "    <tr>\n",
       "      <th>Date_2020-01-24</th>\n",
       "      <td>0.000000</td>\n",
       "    </tr>\n",
       "    <tr>\n",
       "      <th>Date_2020-01-20</th>\n",
       "      <td>0.000000</td>\n",
       "    </tr>\n",
       "    <tr>\n",
       "      <th>Date_2020-09-28</th>\n",
       "      <td>0.000000</td>\n",
       "    </tr>\n",
       "  </tbody>\n",
       "</table>\n",
       "<p>111 rows × 1 columns</p>\n",
       "</div>"
      ],
      "text/plain": [
       "                               Feature Importance\n",
       "Low_Price                                0.346567\n",
       "High_Price                               0.279337\n",
       "Weight_Kg                                0.126857\n",
       "Container_IA400                          0.077318\n",
       "Container_M4183                          0.031796\n",
       "Sales_Total                              0.030286\n",
       "Province_NATAL                           0.019831\n",
       "Stock_On_Hand                            0.018502\n",
       "Total_Kg_Sold                            0.016722\n",
       "Total_Qty_Sold                           0.013664\n",
       "Container_EC120                          0.008847\n",
       "Container_JE090                          0.007210\n",
       "Size_Grade_2S                            0.004651\n",
       "Province_W.CAPE-BERGRIVER ETC            0.004079\n",
       "Size_Grade_1S                            0.003515\n",
       "Province_EASTERN CAPE                    0.003016\n",
       "Size_Grade_1M                            0.001831\n",
       "Container_JG110                          0.001087\n",
       "Size_Grade_1X                            0.001062\n",
       "Size_Grade_2M                            0.000961\n",
       "Container_EF120                          0.000872\n",
       "Date_2019-12-12                          0.000360\n",
       "Date_2019-12-14                          0.000337\n",
       "Province_WEST COAST                      0.000322\n",
       "Size_Grade_2L                            0.000191\n",
       "Date_2020-04-17                          0.000101\n",
       "Province_TRANSVAAL                       0.000093\n",
       "Date_2020-02-01                          0.000086\n",
       "Date_2020-06-09                          0.000062\n",
       "Size_Grade_2U                            0.000056\n",
       "...                                           ...\n",
       "Date_2020-06-17                          0.000000\n",
       "Date_2020-06-19                          0.000000\n",
       "Date_2020-04-22                          0.000000\n",
       "Date_2020-02-15                          0.000000\n",
       "Date_2020-03-13                          0.000000\n",
       "Date_2020-03-16                          0.000000\n",
       "Date_2020-02-11                          0.000000\n",
       "Date_2020-02-10                          0.000000\n",
       "Date_2020-02-03                          0.000000\n",
       "Date_2020-04-07                          0.000000\n",
       "Date_2020-04-14                          0.000000\n",
       "Date_2020-04-15                          0.000000\n",
       "Date_2020-04-16                          0.000000\n",
       "Date_2020-01-30                          0.000000\n",
       "Date_2020-01-28                          0.000000\n",
       "Date_2020-04-23                          0.000000\n",
       "Date_2020-02-21                          0.000000\n",
       "Date_2020-04-28                          0.000000\n",
       "Date_2020-05-06                          0.000000\n",
       "Date_2020-05-14                          0.000000\n",
       "Date_2020-05-18                          0.000000\n",
       "Date_2020-05-19                          0.000000\n",
       "Date_2020-05-22                          0.000000\n",
       "Date_2020-05-25                          0.000000\n",
       "Date_2020-05-29                          0.000000\n",
       "Date_2020-06-02                          0.000000\n",
       "Date_2020-06-03                          0.000000\n",
       "Date_2020-01-24                          0.000000\n",
       "Date_2020-01-20                          0.000000\n",
       "Date_2020-09-28                          0.000000\n",
       "\n",
       "[111 rows x 1 columns]"
      ]
     },
     "execution_count": 142,
     "metadata": {
      "tags": []
     },
     "output_type": "execute_result"
    }
   ],
   "source": [
    "# apply feature importance\n",
    "feat_imp = RF.feature_importances_\n",
    "df = pd.DataFrame(feat_imp, index=[X_feat.columns], columns=['Feature Importance'])\n",
    "df.sort_values('Feature Importance',ascending=False)"
   ]
  },
  {
   "cell_type": "markdown",
   "metadata": {
    "id": "1GHzRmCkxxfd"
   },
   "source": [
    "# 18. Log Transformation\n",
    "\n",
    "Log transformations are known to help model performance, especially when the target variable is skewed to the right. When we checked the skewness of the numeric features we saw the target variable wasn't highly skewed. However, all the predictor variables were highly skewed to the right. So let's apply log transformation to these predictor variables."
   ]
  },
  {
   "cell_type": "code",
   "execution_count": 94,
   "metadata": {
    "id": "-JzwHkg6xxfd"
   },
   "outputs": [],
   "source": [
    "# Define features and target variable\n",
    "new_x = train_data.copy()\n",
    "new_y = new_x.pop('avg_price_per_kg')"
   ]
  },
  {
   "cell_type": "code",
   "execution_count": 95,
   "metadata": {
    "id": "3d9SjlTVxxfe"
   },
   "outputs": [],
   "source": [
    "# Transforming skewed variables distribution\n",
    "for column in ['Total_Qty_Sold', 'High_Price', 'Sales_Total', 'Stock_On_Hand', 'Weight_Kg', 'Total_Kg_Sold', 'Low_Price']:\n",
    "  new_x[column] = np.log1p(new_x[column])"
   ]
  },
  {
   "cell_type": "code",
   "execution_count": 96,
   "metadata": {
    "id": "TTcccJzIxxfe",
    "outputId": "fd298651-6bbb-4d72-db13-c0ce5c70b8bb"
   },
   "outputs": [
    {
     "data": {
      "text/plain": [
       "Weight_Kg         2.720130\n",
       "Low_Price         1.224452\n",
       "High_Price        1.158174\n",
       "Sales_Total      -0.469726\n",
       "Total_Qty_Sold   -0.188170\n",
       "Total_Kg_Sold    -0.382352\n",
       "Stock_On_Hand    -0.518823\n",
       "dtype: float64"
      ]
     },
     "execution_count": 96,
     "metadata": {},
     "output_type": "execute_result"
    }
   ],
   "source": [
    "# check skewness of numeric features after log transformation\n",
    "new_x.skew()"
   ]
  },
  {
   "cell_type": "code",
   "execution_count": 97,
   "metadata": {
    "id": "uVXH7djdxxff",
    "outputId": "30c40b82-1d3f-458d-e7d7-a4fdcc4aaef5"
   },
   "outputs": [
    {
     "data": {
      "text/html": [
       "<div>\n",
       "<style scoped>\n",
       "    .dataframe tbody tr th:only-of-type {\n",
       "        vertical-align: middle;\n",
       "    }\n",
       "\n",
       "    .dataframe tbody tr th {\n",
       "        vertical-align: top;\n",
       "    }\n",
       "\n",
       "    .dataframe thead th {\n",
       "        text-align: right;\n",
       "    }\n",
       "</style>\n",
       "<table border=\"1\" class=\"dataframe\">\n",
       "  <thead>\n",
       "    <tr style=\"text-align: right;\">\n",
       "      <th></th>\n",
       "      <th>Weight_Kg</th>\n",
       "      <th>Low_Price</th>\n",
       "      <th>High_Price</th>\n",
       "      <th>Sales_Total</th>\n",
       "      <th>Total_Qty_Sold</th>\n",
       "      <th>Total_Kg_Sold</th>\n",
       "      <th>Stock_On_Hand</th>\n",
       "      <th>Province_EASTERN CAPE</th>\n",
       "      <th>Province_NATAL</th>\n",
       "      <th>Province_ORANGE FREE STATE</th>\n",
       "      <th>...</th>\n",
       "      <th>Date_2020-09-07</th>\n",
       "      <th>Date_2020-09-09</th>\n",
       "      <th>Date_2020-09-16</th>\n",
       "      <th>Date_2020-09-17</th>\n",
       "      <th>Date_2020-09-19</th>\n",
       "      <th>Date_2020-09-21</th>\n",
       "      <th>Date_2020-09-23</th>\n",
       "      <th>Date_2020-09-28</th>\n",
       "      <th>Date_2020-10-01</th>\n",
       "      <th>Date_2020-10-03</th>\n",
       "    </tr>\n",
       "  </thead>\n",
       "  <tbody>\n",
       "    <tr>\n",
       "      <th>1</th>\n",
       "      <td>2.960105</td>\n",
       "      <td>5.017280</td>\n",
       "      <td>5.141664</td>\n",
       "      <td>10.853426</td>\n",
       "      <td>5.808142</td>\n",
       "      <td>8.712201</td>\n",
       "      <td>6.712956</td>\n",
       "      <td>0</td>\n",
       "      <td>0</td>\n",
       "      <td>0</td>\n",
       "      <td>...</td>\n",
       "      <td>0</td>\n",
       "      <td>1</td>\n",
       "      <td>0</td>\n",
       "      <td>0</td>\n",
       "      <td>0</td>\n",
       "      <td>0</td>\n",
       "      <td>0</td>\n",
       "      <td>0</td>\n",
       "      <td>0</td>\n",
       "      <td>0</td>\n",
       "    </tr>\n",
       "    <tr>\n",
       "      <th>7</th>\n",
       "      <td>2.484907</td>\n",
       "      <td>3.931826</td>\n",
       "      <td>3.931826</td>\n",
       "      <td>9.680406</td>\n",
       "      <td>5.771441</td>\n",
       "      <td>8.166500</td>\n",
       "      <td>0.000000</td>\n",
       "      <td>0</td>\n",
       "      <td>0</td>\n",
       "      <td>0</td>\n",
       "      <td>...</td>\n",
       "      <td>0</td>\n",
       "      <td>0</td>\n",
       "      <td>0</td>\n",
       "      <td>0</td>\n",
       "      <td>0</td>\n",
       "      <td>0</td>\n",
       "      <td>0</td>\n",
       "      <td>0</td>\n",
       "      <td>0</td>\n",
       "      <td>0</td>\n",
       "    </tr>\n",
       "    <tr>\n",
       "      <th>24</th>\n",
       "      <td>2.302585</td>\n",
       "      <td>4.025352</td>\n",
       "      <td>4.025352</td>\n",
       "      <td>6.898715</td>\n",
       "      <td>2.944439</td>\n",
       "      <td>5.093750</td>\n",
       "      <td>7.317876</td>\n",
       "      <td>0</td>\n",
       "      <td>0</td>\n",
       "      <td>0</td>\n",
       "      <td>...</td>\n",
       "      <td>0</td>\n",
       "      <td>0</td>\n",
       "      <td>0</td>\n",
       "      <td>0</td>\n",
       "      <td>0</td>\n",
       "      <td>0</td>\n",
       "      <td>0</td>\n",
       "      <td>0</td>\n",
       "      <td>0</td>\n",
       "      <td>0</td>\n",
       "    </tr>\n",
       "    <tr>\n",
       "      <th>40</th>\n",
       "      <td>2.960105</td>\n",
       "      <td>4.394449</td>\n",
       "      <td>4.795791</td>\n",
       "      <td>10.374147</td>\n",
       "      <td>5.963579</td>\n",
       "      <td>8.868047</td>\n",
       "      <td>6.095825</td>\n",
       "      <td>0</td>\n",
       "      <td>0</td>\n",
       "      <td>0</td>\n",
       "      <td>...</td>\n",
       "      <td>0</td>\n",
       "      <td>0</td>\n",
       "      <td>0</td>\n",
       "      <td>0</td>\n",
       "      <td>0</td>\n",
       "      <td>0</td>\n",
       "      <td>0</td>\n",
       "      <td>0</td>\n",
       "      <td>0</td>\n",
       "      <td>0</td>\n",
       "    </tr>\n",
       "    <tr>\n",
       "      <th>69</th>\n",
       "      <td>5.993961</td>\n",
       "      <td>7.496097</td>\n",
       "      <td>7.496097</td>\n",
       "      <td>7.496097</td>\n",
       "      <td>0.693147</td>\n",
       "      <td>5.993961</td>\n",
       "      <td>1.098612</td>\n",
       "      <td>1</td>\n",
       "      <td>0</td>\n",
       "      <td>0</td>\n",
       "      <td>...</td>\n",
       "      <td>0</td>\n",
       "      <td>0</td>\n",
       "      <td>0</td>\n",
       "      <td>0</td>\n",
       "      <td>0</td>\n",
       "      <td>0</td>\n",
       "      <td>0</td>\n",
       "      <td>1</td>\n",
       "      <td>0</td>\n",
       "      <td>0</td>\n",
       "    </tr>\n",
       "  </tbody>\n",
       "</table>\n",
       "<p>5 rows × 178 columns</p>\n",
       "</div>"
      ],
      "text/plain": [
       "    Weight_Kg  Low_Price  High_Price  Sales_Total  Total_Qty_Sold  \\\n",
       "1    2.960105   5.017280    5.141664    10.853426        5.808142   \n",
       "7    2.484907   3.931826    3.931826     9.680406        5.771441   \n",
       "24   2.302585   4.025352    4.025352     6.898715        2.944439   \n",
       "40   2.960105   4.394449    4.795791    10.374147        5.963579   \n",
       "69   5.993961   7.496097    7.496097     7.496097        0.693147   \n",
       "\n",
       "    Total_Kg_Sold  Stock_On_Hand  Province_EASTERN CAPE  Province_NATAL  \\\n",
       "1        8.712201       6.712956                      0               0   \n",
       "7        8.166500       0.000000                      0               0   \n",
       "24       5.093750       7.317876                      0               0   \n",
       "40       8.868047       6.095825                      0               0   \n",
       "69       5.993961       1.098612                      1               0   \n",
       "\n",
       "    Province_ORANGE FREE STATE  ...  Date_2020-09-07  Date_2020-09-09  \\\n",
       "1                            0  ...                0                1   \n",
       "7                            0  ...                0                0   \n",
       "24                           0  ...                0                0   \n",
       "40                           0  ...                0                0   \n",
       "69                           0  ...                0                0   \n",
       "\n",
       "    Date_2020-09-16  Date_2020-09-17  Date_2020-09-19  Date_2020-09-21  \\\n",
       "1                 0                0                0                0   \n",
       "7                 0                0                0                0   \n",
       "24                0                0                0                0   \n",
       "40                0                0                0                0   \n",
       "69                0                0                0                0   \n",
       "\n",
       "    Date_2020-09-23  Date_2020-09-28  Date_2020-10-01  Date_2020-10-03  \n",
       "1                 0                0                0                0  \n",
       "7                 0                0                0                0  \n",
       "24                0                0                0                0  \n",
       "40                0                0                0                0  \n",
       "69                0                1                0                0  \n",
       "\n",
       "[5 rows x 178 columns]"
      ]
     },
     "execution_count": 97,
     "metadata": {},
     "output_type": "execute_result"
    }
   ],
   "source": [
    "# perform dummy variable encoding\n",
    "dummy_df2 = pd.get_dummies(new_x, drop_first = True)\n",
    "dummy_df2.head()"
   ]
  },
  {
   "cell_type": "code",
   "execution_count": 98,
   "metadata": {
    "id": "Sd5W8U7Hxxff",
    "outputId": "c95c3171-7a71-43e2-d1cf-efcf6545594b"
   },
   "outputs": [
    {
     "data": {
      "text/plain": [
       "(1952, 40)"
      ]
     },
     "execution_count": 98,
     "metadata": {},
     "output_type": "execute_result"
    }
   ],
   "source": [
    "# define new features after dummy variable encoding, define target variable\n",
    "x_lin_log = dummy_df2[kbest_features]\n",
    "y_lin_log = new_y\n",
    "x_lin_log.shape"
   ]
  },
  {
   "cell_type": "code",
   "execution_count": 99,
   "metadata": {},
   "outputs": [],
   "source": [
    "# create linear model\n",
    "lm_log = LinearRegression()"
   ]
  },
  {
   "cell_type": "code",
   "execution_count": 100,
   "metadata": {
    "id": "6yW2XclExxfg"
   },
   "outputs": [],
   "source": [
    "# Split the data into train and test sets\n",
    "x_train_log, x_test_log, y_train_log, y_test_log = train_test_split(x_lin_log, y_lin_log, test_size = 0.2,random_state=42)"
   ]
  },
  {
   "cell_type": "code",
   "execution_count": 101,
   "metadata": {
    "id": "jB_DTVA_xxfg",
    "outputId": "4aab7b2e-0882-47a9-8328-5cf5eac54dca"
   },
   "outputs": [
    {
     "data": {
      "text/plain": [
       "LinearRegression(copy_X=True, fit_intercept=True, n_jobs=None, normalize=False)"
      ]
     },
     "execution_count": 101,
     "metadata": {},
     "output_type": "execute_result"
    }
   ],
   "source": [
    "# Train the linear model\n",
    "lm_log.fit(x_train_log, y_train_log)"
   ]
  },
  {
   "cell_type": "code",
   "execution_count": 102,
   "metadata": {
    "id": "KzGrOM7Rxxfh",
    "outputId": "2104f1ea-2cc8-4c51-f7db-206871423e22"
   },
   "outputs": [
    {
     "name": "stdout",
     "output_type": "stream",
     "text": [
      "train RMSE: 14.767949609337501\n",
      "test RMSE: 13.829536822666375\n"
     ]
    }
   ],
   "source": [
    "# Make predictions\n",
    "train_pred_log = lm_best.predict(x_train_log)\n",
    "test_pred_log = lm_best.predict(x_test_log)\n",
    "\n",
    "train_rmse_log = np.sqrt(mean_squared_error(y_train_log, train_pred_log))\n",
    "test_rmse_log = np.sqrt(mean_squared_error(y_test_log, test_pred_log))\n",
    "\n",
    "print('train RMSE:', train_rmse_log)\n",
    "print('test RMSE:', test_rmse_log)"
   ]
  },
  {
   "cell_type": "markdown",
   "metadata": {},
   "source": [
    "Applying log transform on the skew predictors, had a very negative impact the RMSE. The RMSE increase by 10 fold."
   ]
  },
  {
   "cell_type": "markdown",
   "metadata": {
    "id": "LPkqnksjxxfh"
   },
   "source": [
    "Now, let's see how a **Random Forest model** will be affected by transformation."
   ]
  },
  {
   "cell_type": "code",
   "execution_count": 103,
   "metadata": {
    "id": "qL2tlHZwxxfh",
    "outputId": "75952185-f78b-4aca-c21a-16fda76c80b7"
   },
   "outputs": [
    {
     "data": {
      "text/plain": [
       "(1952, 40)"
      ]
     },
     "execution_count": 103,
     "metadata": {},
     "output_type": "execute_result"
    }
   ],
   "source": [
    "# Define predictors and target variable\n",
    "x_rf_log = dummy_df2[kbest_features]\n",
    "y_rf_log = new_y\n",
    "x_rf_log.shape"
   ]
  },
  {
   "cell_type": "code",
   "execution_count": 104,
   "metadata": {
    "id": "YhgJ2-u3xxfi"
   },
   "outputs": [],
   "source": [
    "# Split the data into train and test sets\n",
    "x_train_rflog, x_test_rflog, y_train_rflog, y_test_rflog = train_test_split(x_rf_log, y_rf_log, test_size = 0.2,random_state=42)"
   ]
  },
  {
   "cell_type": "code",
   "execution_count": 105,
   "metadata": {
    "id": "0VvU3j_0xxfi"
   },
   "outputs": [],
   "source": [
    "# Instantiate Random Forest model with optimal hyperparamters\n",
    "RF_log = RandomForestRegressor(n_estimators=120, max_features = 15, max_depth=12, min_samples_split=10, min_samples_leaf=2, random_state=1)"
   ]
  },
  {
   "cell_type": "code",
   "execution_count": 106,
   "metadata": {
    "id": "bASFyfAvxxfj",
    "outputId": "1e4982fe-266d-462d-8919-42e1b7c8a51e"
   },
   "outputs": [
    {
     "data": {
      "text/plain": [
       "RandomForestRegressor(bootstrap=True, criterion='mse', max_depth=12,\n",
       "                      max_features=15, max_leaf_nodes=None,\n",
       "                      min_impurity_decrease=0.0, min_impurity_split=None,\n",
       "                      min_samples_leaf=2, min_samples_split=10,\n",
       "                      min_weight_fraction_leaf=0.0, n_estimators=120,\n",
       "                      n_jobs=None, oob_score=False, random_state=1, verbose=0,\n",
       "                      warm_start=False)"
      ]
     },
     "execution_count": 106,
     "metadata": {},
     "output_type": "execute_result"
    }
   ],
   "source": [
    "# fit and train model\n",
    "RF_log.fit(x_train_rflog,y_train_rflog)"
   ]
  },
  {
   "cell_type": "code",
   "execution_count": 107,
   "metadata": {
    "id": "IQXiU8aKxxfj",
    "outputId": "fc3385ad-4197-46a3-d5b0-a3ea1342f8b0"
   },
   "outputs": [
    {
     "name": "stdout",
     "output_type": "stream",
     "text": [
      "RMSE 0.48562738584374027\n"
     ]
    }
   ],
   "source": [
    "# training set predictions\n",
    "train_rflog = RF_log.predict(x_train_rflog)\n",
    "# Compute RMSE on train set\n",
    "print('RMSE',np.sqrt(mean_squared_error(y_train_rflog, train_rflog)))"
   ]
  },
  {
   "cell_type": "code",
   "execution_count": 108,
   "metadata": {
    "id": "74A1oWqSxxfk",
    "outputId": "b9687007-a528-4d70-bf97-5b62a5dd76ae"
   },
   "outputs": [
    {
     "name": "stdout",
     "output_type": "stream",
     "text": [
      "RMSE: 0.577985660972797\n"
     ]
    }
   ],
   "source": [
    "# Get predictions\n",
    "test_rflog = RF_log.predict(x_test_rflog)\n",
    "\n",
    "# Compute RMSE\n",
    "print(\"RMSE:\",np.sqrt(mean_squared_error(y_test_rflog,test_rflog)))"
   ]
  },
  {
   "cell_type": "code",
   "execution_count": 109,
   "metadata": {},
   "outputs": [
    {
     "name": "stdout",
     "output_type": "stream",
     "text": [
      "RF model train RMSE no transformation 0.4503952942834693\n",
      "RF model test RMSE no transformation 0.5377039473434502\n"
     ]
    }
   ],
   "source": [
    "# printing out RMSE values for the RF model on the train and test set with no transformation\n",
    "print('RF model train RMSE no transformation',train_rf_rmse)\n",
    "print('RF model test RMSE no transformation', test_rf_rmse)"
   ]
  },
  {
   "cell_type": "markdown",
   "metadata": {},
   "source": [
    "When comparing the RMSE's obtained from the RF model with no transformed data, to the RMSE's obtained with transformed data, we see they are quite similar."
   ]
  },
  {
   "cell_type": "markdown",
   "metadata": {
    "id": "I1BcE--xxxfk"
   },
   "source": [
    "# 19. Comparing models when outliers are removed"
   ]
  },
  {
   "cell_type": "code",
   "execution_count": null,
   "metadata": {
    "id": "BYqXUFtAxxfl"
   },
   "outputs": [],
   "source": [
    "outliers = train_data.copy()"
   ]
  },
  {
   "cell_type": "markdown",
   "metadata": {
    "id": "DwfJqG8uxxfl"
   },
   "source": [
    "Now it's time to remove further missing data and outliers. We will use quantiles of 1% or/and 99% for outliers detection. We consider this method more appropriate than IQR score this time as IQR method would not work well for data concerning apple products. 25% and 75% quantiles differ only by one unit."
   ]
  },
  {
   "cell_type": "code",
   "execution_count": null,
   "metadata": {
    "id": "iZvdcHYhxxfl",
    "outputId": "94911e14-fd7c-4793-a65d-4686355904da"
   },
   "outputs": [
    {
     "name": "stdout",
     "output_type": "stream",
     "text": [
      "99% of observations in Low_Price are lower than 2000.0\n"
     ]
    }
   ],
   "source": [
    "print(f'99% of observations in Low_Price are lower than {outliers[\"Low_Price\"].quantile(0.99)}')"
   ]
  },
  {
   "cell_type": "code",
   "execution_count": null,
   "metadata": {
    "id": "LbUkwBYuxxfm"
   },
   "outputs": [],
   "source": [
    "# Removing outliers\n",
    "outliers = outliers.query('Low_Price < 2000')"
   ]
  },
  {
   "cell_type": "code",
   "execution_count": null,
   "metadata": {
    "id": "X4WK4RH_xxfn",
    "outputId": "1ed08ddc-f59e-4daa-e818-8c9d304694fb"
   },
   "outputs": [
    {
     "name": "stdout",
     "output_type": "stream",
     "text": [
      "99% of observations in Sales_Total are higher than 20.0 and lower than 194376.8\n"
     ]
    }
   ],
   "source": [
    "print(f'99% of observations in Sales_Total are higher than {outliers[\"Sales_Total\"].quantile(0.01)} \\\n",
    "and lower than {outliers[\"Sales_Total\"].quantile(0.99)}')"
   ]
  },
  {
   "cell_type": "code",
   "execution_count": null,
   "metadata": {
    "id": "iafMV9ecxxfn"
   },
   "outputs": [],
   "source": [
    "# Removing outliers\n",
    "outliers = outliers.query('(Sales_Total > 20.0) & (Sales_Total < 194376.8)')"
   ]
  },
  {
   "cell_type": "code",
   "execution_count": null,
   "metadata": {
    "id": "KR5I6GIxxxfo",
    "outputId": "5aff774e-8f42-4ae0-aa03-9c688ba503ba"
   },
   "outputs": [
    {
     "name": "stdout",
     "output_type": "stream",
     "text": [
      "99% of observations in Total_Kg_Sold are higher than 9.0 and lower than 19668.787999999993\n"
     ]
    }
   ],
   "source": [
    "print(f'99% of observations in Total_Kg_Sold are higher than {outliers[\"Total_Kg_Sold\"].quantile(0.01)} \\\n",
    "and lower than {outliers[\"Total_Kg_Sold\"].quantile(0.99)}')"
   ]
  },
  {
   "cell_type": "code",
   "execution_count": null,
   "metadata": {
    "id": "erWkYrSSxxfo"
   },
   "outputs": [],
   "source": [
    "# Removing outliers\n",
    "outliers = outliers.query('(Total_Kg_Sold > 9.0) & (Total_Kg_Sold < 19668.787999999993)')"
   ]
  },
  {
   "cell_type": "code",
   "execution_count": null,
   "metadata": {
    "id": "7lc6cuBHxxfp",
    "outputId": "3f1a8e5e-e3b3-4191-fbc4-e73edbb84275"
   },
   "outputs": [
    {
     "name": "stdout",
     "output_type": "stream",
     "text": [
      "99% of observations in Stock_On_Hand are higher than 0.0 and lower than 3535.1999999999994\n"
     ]
    }
   ],
   "source": [
    "print(f'99% of observations in Stock_On_Hand are higher than {outliers[\"Stock_On_Hand\"].quantile(0.01)} \\\n",
    "and lower than {outliers[\"Stock_On_Hand\"].quantile(0.99)}')"
   ]
  },
  {
   "cell_type": "code",
   "execution_count": null,
   "metadata": {},
   "outputs": [],
   "source": [
    "train_data.kurtosis()"
   ]
  },
  {
   "cell_type": "code",
   "execution_count": null,
   "metadata": {},
   "outputs": [],
   "source": [
    "train_data.shape"
   ]
  },
  {
   "cell_type": "code",
   "execution_count": null,
   "metadata": {},
   "outputs": [],
   "source": [
    "outliers.kurtosis()"
   ]
  },
  {
   "cell_type": "code",
   "execution_count": null,
   "metadata": {},
   "outputs": [],
   "source": [
    "outliers.shape"
   ]
  },
  {
   "cell_type": "markdown",
   "metadata": {},
   "source": [
    "Our dataset has been significantly reduced."
   ]
  },
  {
   "cell_type": "code",
   "execution_count": null,
   "metadata": {},
   "outputs": [],
   "source": [
    "x_outliers = outliers.copy()\n",
    "y_outliers = x_outliers.pop('avg_price_per_kg')"
   ]
  },
  {
   "cell_type": "code",
   "execution_count": null,
   "metadata": {},
   "outputs": [],
   "source": [
    "dummy_out = pd.get_dummies(x_outliers, drop_first=True)\n",
    "dummy_out.shape"
   ]
  },
  {
   "cell_type": "code",
   "execution_count": null,
   "metadata": {},
   "outputs": [],
   "source": [
    "kbest_out_df = pd.DataFrame(data=dummy_out, columns=kbest_features)\n",
    "kbest_out_df.head()"
   ]
  },
  {
   "cell_type": "markdown",
   "metadata": {},
   "source": [
    "We'll start to prepare to fit our linear model to the new data, where the outliers are removed."
   ]
  },
  {
   "cell_type": "code",
   "execution_count": null,
   "metadata": {},
   "outputs": [],
   "source": [
    "x_lin_out = kbest_out_df\n",
    "y_lin_out = y_outliers"
   ]
  },
  {
   "cell_type": "code",
   "execution_count": null,
   "metadata": {},
   "outputs": [],
   "source": [
    "# split train and test data\n",
    "x_train_out, x_test_out, y_train_out, y_test_out = train_test_split(x_lin_out, y_lin_out, test_size=0.2, random_state=42)"
   ]
  },
  {
   "cell_type": "code",
   "execution_count": null,
   "metadata": {},
   "outputs": [],
   "source": [
    "# define model\n",
    "lm_out = LinearRegression(n_jobs=-1)"
   ]
  },
  {
   "cell_type": "code",
   "execution_count": null,
   "metadata": {},
   "outputs": [],
   "source": [
    "# train model\n",
    "lm_out.fit(x_train_out, y_train_out)"
   ]
  },
  {
   "cell_type": "code",
   "execution_count": null,
   "metadata": {},
   "outputs": [],
   "source": [
    "# make predictions\n",
    "train_pred_out = lm_out.predict(x_train_out)\n",
    "test_pred_out = lm_out.predict(x_test_out)\n",
    "\n",
    "train_rmse_out = np.sqrt(mean_squared_error(train_pred_out, y_train_out))\n",
    "test_rmse_out = np.sqrt(mean_squared_error(test_pred_out, y_test_out))"
   ]
  },
  {
   "cell_type": "code",
   "execution_count": null,
   "metadata": {},
   "outputs": [],
   "source": [
    "print('RMSE train outliers removed:', train_rmse_out)\n",
    "print('RMSE test outliers removed:', test_rmse_out)\n",
    "\n",
    "print('RMSE train:', train_rmse_best)\n",
    "print('RMSE test:', test_rmse_best)"
   ]
  },
  {
   "cell_type": "markdown",
   "metadata": {},
   "source": [
    "We see that the RMSE has decreased for the linear model after the outliers have been removed, as expected. The RMSE is also still relatively close to one another for the train and set, not overfitting too much.\n",
    "\n",
    "Let's compare the affect of outliers removed with a **Random Forest model**."
   ]
  },
  {
   "cell_type": "code",
   "execution_count": null,
   "metadata": {},
   "outputs": [],
   "source": [
    "# set test size to 20 % of training data\n",
    "x_train_rfout, x_test_rfout, y_train_rfout, y_test_rfout = train_test_split(x_lin_out, y_lin_out, test_size=0.2, random_state=42)"
   ]
  },
  {
   "cell_type": "code",
   "execution_count": null,
   "metadata": {},
   "outputs": [],
   "source": [
    "# Instantiate Random Forest model with optimal hyperparamters\n",
    "RF_out = RandomForestRegressor(n_estimators=90, max_features = 15, max_depth=14, min_samples_split=5, min_samples_leaf=3, random_state=1)"
   ]
  },
  {
   "cell_type": "code",
   "execution_count": null,
   "metadata": {},
   "outputs": [],
   "source": [
    "# fit and train model\n",
    "RF_out.fit(x_train_rfout,y_train_rfout)"
   ]
  },
  {
   "cell_type": "code",
   "execution_count": null,
   "metadata": {},
   "outputs": [],
   "source": [
    "# training set predictions\n",
    "train_rfout = RF_out.predict(x_train_rfout)\n",
    "train_rfout_rmse = np.sqrt(mean_squared_error(y_train_rfout, train_rfout))\n",
    "\n",
    "test_rfout = RF_out.predict(x_test_rfout)\n",
    "test_rfout_rmse = np.sqrt(mean_squared_error(y_test_rfout, test_rfout))\n",
    "\n",
    "# Compute RMSE on train set\n",
    "print('RMSE train outliers removed',train_rfout_rmse)\n",
    "print('RMSE test outliers removed',test_rfout_rmse)\n",
    "print('RMSE train',train_rf_rmse)\n",
    "print('RMSE test',test_rf_rmse)"
   ]
  },
  {
   "cell_type": "markdown",
   "metadata": {},
   "source": [
    "When we removed the outliers, the RMSE actually increased slightly for the Random Forest model. Also, the difference between the train and test set RMSE is larger, indicating more overfitting.\n",
    "\n",
    "We suspect that when we remove the outliers we actually loose valuable data from which the model could learn from. Since this data is very different from the rest of the data, the model is less likely to overfit on tha training data and it would improve the model's performance on unseen data."
   ]
  },
  {
   "cell_type": "markdown",
   "metadata": {
    "id": "8v2oVA8BzUbg"
   },
   "source": [
    "# 20. Model Evaluation"
   ]
  },
  {
   "cell_type": "code",
   "execution_count": null,
   "metadata": {
    "id": "ziU41nD7zT6n"
   },
   "outputs": [],
   "source": []
  },
  {
   "cell_type": "markdown",
   "metadata": {
    "id": "vkH0bsA7zm6H"
   },
   "source": [
    "# 21.Best Model Validation\n",
    "\n"
   ]
  },
  {
   "cell_type": "code",
   "execution_count": null,
   "metadata": {
    "id": "ibedGW8uz0-G"
   },
   "outputs": [],
   "source": []
  },
  {
   "cell_type": "markdown",
   "metadata": {
    "id": "pDkktlkbxxfq"
   },
   "source": [
    "# 22. Predicting on the Test Data"
   ]
  },
  {
   "cell_type": "markdown",
   "metadata": {
    "id": "PWTb__U1xxfr"
   },
   "source": [
    "### Preprocessing"
   ]
  },
  {
   "cell_type": "markdown",
   "metadata": {
    "id": "uccr_qnUxxfr"
   },
   "source": [
    "Let us load the test set."
   ]
  },
  {
   "cell_type": "code",
   "execution_count": null,
   "metadata": {
    "id": "WQ3X4fmUxxfr"
   },
   "outputs": [],
   "source": [
    "test = pd.read_csv(r'https://raw.githubusercontent.com/CPNMorgan/sharing-github/main/df-test_set.csv')"
   ]
  },
  {
   "cell_type": "code",
   "execution_count": null,
   "metadata": {
    "id": "s4VyztVnxxfs",
    "outputId": "96750637-d304-4593-8617-76ec3e28bc62"
   },
   "outputs": [
    {
     "data": {
      "text/html": [
       "<div>\n",
       "<style scoped>\n",
       "    .dataframe tbody tr th:only-of-type {\n",
       "        vertical-align: middle;\n",
       "    }\n",
       "\n",
       "    .dataframe tbody tr th {\n",
       "        vertical-align: top;\n",
       "    }\n",
       "\n",
       "    .dataframe thead th {\n",
       "        text-align: right;\n",
       "    }\n",
       "</style>\n",
       "<table border=\"1\" class=\"dataframe\">\n",
       "  <thead>\n",
       "    <tr style=\"text-align: right;\">\n",
       "      <th></th>\n",
       "      <th>Index</th>\n",
       "      <th>Province</th>\n",
       "      <th>Container</th>\n",
       "      <th>Size_Grade</th>\n",
       "      <th>Weight_Kg</th>\n",
       "      <th>Commodities</th>\n",
       "      <th>Date</th>\n",
       "      <th>Low_Price</th>\n",
       "      <th>High_Price</th>\n",
       "      <th>Sales_Total</th>\n",
       "      <th>Total_Qty_Sold</th>\n",
       "      <th>Total_Kg_Sold</th>\n",
       "      <th>Stock_On_Hand</th>\n",
       "    </tr>\n",
       "  </thead>\n",
       "  <tbody>\n",
       "    <tr>\n",
       "      <th>0</th>\n",
       "      <td>1</td>\n",
       "      <td>W.CAPE-BERGRIVER ETC</td>\n",
       "      <td>EC120</td>\n",
       "      <td>1M</td>\n",
       "      <td>12.0</td>\n",
       "      <td>APPLE GOLDEN DELICIOUS</td>\n",
       "      <td>2020-07-09</td>\n",
       "      <td>128.0</td>\n",
       "      <td>136.0</td>\n",
       "      <td>5008.0</td>\n",
       "      <td>38</td>\n",
       "      <td>456.0</td>\n",
       "      <td>0</td>\n",
       "    </tr>\n",
       "    <tr>\n",
       "      <th>1</th>\n",
       "      <td>2</td>\n",
       "      <td>W.CAPE-BERGRIVER ETC</td>\n",
       "      <td>M4183</td>\n",
       "      <td>1X</td>\n",
       "      <td>18.3</td>\n",
       "      <td>APPLE GOLDEN DELICIOUS</td>\n",
       "      <td>2020-01-20</td>\n",
       "      <td>220.0</td>\n",
       "      <td>220.0</td>\n",
       "      <td>1760.0</td>\n",
       "      <td>8</td>\n",
       "      <td>146.4</td>\n",
       "      <td>2</td>\n",
       "    </tr>\n",
       "    <tr>\n",
       "      <th>2</th>\n",
       "      <td>3</td>\n",
       "      <td>W.CAPE-BERGRIVER ETC</td>\n",
       "      <td>EC120</td>\n",
       "      <td>1S</td>\n",
       "      <td>12.0</td>\n",
       "      <td>APPLE GOLDEN DELICIOUS</td>\n",
       "      <td>2020-08-19</td>\n",
       "      <td>120.0</td>\n",
       "      <td>120.0</td>\n",
       "      <td>720.0</td>\n",
       "      <td>6</td>\n",
       "      <td>72.0</td>\n",
       "      <td>45</td>\n",
       "    </tr>\n",
       "    <tr>\n",
       "      <th>3</th>\n",
       "      <td>4</td>\n",
       "      <td>W.CAPE-BERGRIVER ETC</td>\n",
       "      <td>M4183</td>\n",
       "      <td>1M</td>\n",
       "      <td>18.3</td>\n",
       "      <td>APPLE GOLDEN DELICIOUS</td>\n",
       "      <td>2020-05-06</td>\n",
       "      <td>160.0</td>\n",
       "      <td>160.0</td>\n",
       "      <td>160.0</td>\n",
       "      <td>1</td>\n",
       "      <td>18.3</td>\n",
       "      <td>8</td>\n",
       "    </tr>\n",
       "    <tr>\n",
       "      <th>4</th>\n",
       "      <td>5</td>\n",
       "      <td>W.CAPE-BERGRIVER ETC</td>\n",
       "      <td>M4183</td>\n",
       "      <td>1L</td>\n",
       "      <td>18.3</td>\n",
       "      <td>APPLE GOLDEN DELICIOUS</td>\n",
       "      <td>2020-05-04</td>\n",
       "      <td>140.0</td>\n",
       "      <td>160.0</td>\n",
       "      <td>14140.0</td>\n",
       "      <td>100</td>\n",
       "      <td>1830.0</td>\n",
       "      <td>19</td>\n",
       "    </tr>\n",
       "  </tbody>\n",
       "</table>\n",
       "</div>"
      ],
      "text/plain": [
       "   Index              Province Container Size_Grade  Weight_Kg  \\\n",
       "0      1  W.CAPE-BERGRIVER ETC     EC120         1M       12.0   \n",
       "1      2  W.CAPE-BERGRIVER ETC     M4183         1X       18.3   \n",
       "2      3  W.CAPE-BERGRIVER ETC     EC120         1S       12.0   \n",
       "3      4  W.CAPE-BERGRIVER ETC     M4183         1M       18.3   \n",
       "4      5  W.CAPE-BERGRIVER ETC     M4183         1L       18.3   \n",
       "\n",
       "              Commodities        Date  Low_Price  High_Price  Sales_Total  \\\n",
       "0  APPLE GOLDEN DELICIOUS  2020-07-09      128.0       136.0       5008.0   \n",
       "1  APPLE GOLDEN DELICIOUS  2020-01-20      220.0       220.0       1760.0   \n",
       "2  APPLE GOLDEN DELICIOUS  2020-08-19      120.0       120.0        720.0   \n",
       "3  APPLE GOLDEN DELICIOUS  2020-05-06      160.0       160.0        160.0   \n",
       "4  APPLE GOLDEN DELICIOUS  2020-05-04      140.0       160.0      14140.0   \n",
       "\n",
       "   Total_Qty_Sold  Total_Kg_Sold  Stock_On_Hand  \n",
       "0              38          456.0              0  \n",
       "1               8          146.4              2  \n",
       "2               6           72.0             45  \n",
       "3               1           18.3              8  \n",
       "4             100         1830.0             19  "
      ]
     },
     "execution_count": 167,
     "metadata": {
      "tags": []
     },
     "output_type": "execute_result"
    }
   ],
   "source": [
    "test.head()"
   ]
  },
  {
   "cell_type": "code",
   "execution_count": null,
   "metadata": {
    "id": "oRgsNYQhxxfs"
   },
   "outputs": [],
   "source": [
    "test_index = test['Index'] # create dataframe just with Index column, will use this column in submission\n",
    "test = test.drop(['Commodities','Index'], axis=1)"
   ]
  },
  {
   "cell_type": "code",
   "execution_count": null,
   "metadata": {
    "id": "Rv8tuJEdxxft",
    "outputId": "ee206031-91a4-4596-bf88-4dba7e1a398a"
   },
   "outputs": [
    {
     "data": {
      "text/html": [
       "<div>\n",
       "<style scoped>\n",
       "    .dataframe tbody tr th:only-of-type {\n",
       "        vertical-align: middle;\n",
       "    }\n",
       "\n",
       "    .dataframe tbody tr th {\n",
       "        vertical-align: top;\n",
       "    }\n",
       "\n",
       "    .dataframe thead th {\n",
       "        text-align: right;\n",
       "    }\n",
       "</style>\n",
       "<table border=\"1\" class=\"dataframe\">\n",
       "  <thead>\n",
       "    <tr style=\"text-align: right;\">\n",
       "      <th></th>\n",
       "      <th>Province</th>\n",
       "      <th>Container</th>\n",
       "      <th>Size_Grade</th>\n",
       "      <th>Weight_Kg</th>\n",
       "      <th>Date</th>\n",
       "      <th>Low_Price</th>\n",
       "      <th>High_Price</th>\n",
       "      <th>Sales_Total</th>\n",
       "      <th>Total_Qty_Sold</th>\n",
       "      <th>Total_Kg_Sold</th>\n",
       "      <th>Stock_On_Hand</th>\n",
       "    </tr>\n",
       "  </thead>\n",
       "  <tbody>\n",
       "    <tr>\n",
       "      <th>0</th>\n",
       "      <td>W.CAPE-BERGRIVER ETC</td>\n",
       "      <td>EC120</td>\n",
       "      <td>1M</td>\n",
       "      <td>12.0</td>\n",
       "      <td>2020-07-09</td>\n",
       "      <td>128.0</td>\n",
       "      <td>136.0</td>\n",
       "      <td>5008.0</td>\n",
       "      <td>38</td>\n",
       "      <td>456.0</td>\n",
       "      <td>0</td>\n",
       "    </tr>\n",
       "    <tr>\n",
       "      <th>1</th>\n",
       "      <td>W.CAPE-BERGRIVER ETC</td>\n",
       "      <td>M4183</td>\n",
       "      <td>1X</td>\n",
       "      <td>18.3</td>\n",
       "      <td>2020-01-20</td>\n",
       "      <td>220.0</td>\n",
       "      <td>220.0</td>\n",
       "      <td>1760.0</td>\n",
       "      <td>8</td>\n",
       "      <td>146.4</td>\n",
       "      <td>2</td>\n",
       "    </tr>\n",
       "    <tr>\n",
       "      <th>2</th>\n",
       "      <td>W.CAPE-BERGRIVER ETC</td>\n",
       "      <td>EC120</td>\n",
       "      <td>1S</td>\n",
       "      <td>12.0</td>\n",
       "      <td>2020-08-19</td>\n",
       "      <td>120.0</td>\n",
       "      <td>120.0</td>\n",
       "      <td>720.0</td>\n",
       "      <td>6</td>\n",
       "      <td>72.0</td>\n",
       "      <td>45</td>\n",
       "    </tr>\n",
       "    <tr>\n",
       "      <th>3</th>\n",
       "      <td>W.CAPE-BERGRIVER ETC</td>\n",
       "      <td>M4183</td>\n",
       "      <td>1M</td>\n",
       "      <td>18.3</td>\n",
       "      <td>2020-05-06</td>\n",
       "      <td>160.0</td>\n",
       "      <td>160.0</td>\n",
       "      <td>160.0</td>\n",
       "      <td>1</td>\n",
       "      <td>18.3</td>\n",
       "      <td>8</td>\n",
       "    </tr>\n",
       "    <tr>\n",
       "      <th>4</th>\n",
       "      <td>W.CAPE-BERGRIVER ETC</td>\n",
       "      <td>M4183</td>\n",
       "      <td>1L</td>\n",
       "      <td>18.3</td>\n",
       "      <td>2020-05-04</td>\n",
       "      <td>140.0</td>\n",
       "      <td>160.0</td>\n",
       "      <td>14140.0</td>\n",
       "      <td>100</td>\n",
       "      <td>1830.0</td>\n",
       "      <td>19</td>\n",
       "    </tr>\n",
       "  </tbody>\n",
       "</table>\n",
       "</div>"
      ],
      "text/plain": [
       "               Province Container Size_Grade  Weight_Kg        Date  \\\n",
       "0  W.CAPE-BERGRIVER ETC     EC120         1M       12.0  2020-07-09   \n",
       "1  W.CAPE-BERGRIVER ETC     M4183         1X       18.3  2020-01-20   \n",
       "2  W.CAPE-BERGRIVER ETC     EC120         1S       12.0  2020-08-19   \n",
       "3  W.CAPE-BERGRIVER ETC     M4183         1M       18.3  2020-05-06   \n",
       "4  W.CAPE-BERGRIVER ETC     M4183         1L       18.3  2020-05-04   \n",
       "\n",
       "   Low_Price  High_Price  Sales_Total  Total_Qty_Sold  Total_Kg_Sold  \\\n",
       "0      128.0       136.0       5008.0              38          456.0   \n",
       "1      220.0       220.0       1760.0               8          146.4   \n",
       "2      120.0       120.0        720.0               6           72.0   \n",
       "3      160.0       160.0        160.0               1           18.3   \n",
       "4      140.0       160.0      14140.0             100         1830.0   \n",
       "\n",
       "   Stock_On_Hand  \n",
       "0              0  \n",
       "1              2  \n",
       "2             45  \n",
       "3              8  \n",
       "4             19  "
      ]
     },
     "execution_count": 169,
     "metadata": {
      "tags": []
     },
     "output_type": "execute_result"
    }
   ],
   "source": [
    "test.head()"
   ]
  },
  {
   "cell_type": "code",
   "execution_count": null,
   "metadata": {
    "id": "v6QHPjBdxxft",
    "outputId": "b2211073-b9c6-41fb-cc32-b447e0d62aa9"
   },
   "outputs": [
    {
     "data": {
      "text/plain": [
       "(685, 11)"
      ]
     },
     "execution_count": 170,
     "metadata": {
      "tags": []
     },
     "output_type": "execute_result"
    }
   ],
   "source": [
    "test.shape"
   ]
  },
  {
   "cell_type": "code",
   "execution_count": null,
   "metadata": {
    "id": "2LNmIiulxxfu",
    "outputId": "900b4eb0-33e6-4114-a24d-39e89568ad6d"
   },
   "outputs": [
    {
     "name": "stdout",
     "output_type": "stream",
     "text": [
      "<class 'pandas.core.frame.DataFrame'>\n",
      "RangeIndex: 685 entries, 0 to 684\n",
      "Data columns (total 11 columns):\n",
      "Province          685 non-null object\n",
      "Container         685 non-null object\n",
      "Size_Grade        685 non-null object\n",
      "Weight_Kg         685 non-null float64\n",
      "Date              685 non-null object\n",
      "Low_Price         685 non-null float64\n",
      "High_Price        685 non-null float64\n",
      "Sales_Total       685 non-null float64\n",
      "Total_Qty_Sold    685 non-null int64\n",
      "Total_Kg_Sold     685 non-null float64\n",
      "Stock_On_Hand     685 non-null int64\n",
      "dtypes: float64(5), int64(2), object(4)\n",
      "memory usage: 58.9+ KB\n"
     ]
    }
   ],
   "source": [
    "test.info()"
   ]
  },
  {
   "cell_type": "code",
   "execution_count": null,
   "metadata": {
    "id": "lD2fBEYexxfu",
    "outputId": "355cf3d6-8e8a-44b6-ddea-e1b35186a78f"
   },
   "outputs": [
    {
     "data": {
      "text/html": [
       "<div>\n",
       "<style scoped>\n",
       "    .dataframe tbody tr th:only-of-type {\n",
       "        vertical-align: middle;\n",
       "    }\n",
       "\n",
       "    .dataframe tbody tr th {\n",
       "        vertical-align: top;\n",
       "    }\n",
       "\n",
       "    .dataframe thead th {\n",
       "        text-align: right;\n",
       "    }\n",
       "</style>\n",
       "<table border=\"1\" class=\"dataframe\">\n",
       "  <thead>\n",
       "    <tr style=\"text-align: right;\">\n",
       "      <th></th>\n",
       "      <th>Province</th>\n",
       "      <th>Container</th>\n",
       "      <th>Size_Grade</th>\n",
       "      <th>Weight_Kg</th>\n",
       "      <th>Date</th>\n",
       "      <th>Low_Price</th>\n",
       "      <th>High_Price</th>\n",
       "      <th>Sales_Total</th>\n",
       "      <th>Total_Qty_Sold</th>\n",
       "      <th>Total_Kg_Sold</th>\n",
       "      <th>Stock_On_Hand</th>\n",
       "    </tr>\n",
       "  </thead>\n",
       "  <tbody>\n",
       "    <tr>\n",
       "      <th>1</th>\n",
       "      <td>CAPE</td>\n",
       "      <td>M4183</td>\n",
       "      <td>1L</td>\n",
       "      <td>18.3</td>\n",
       "      <td>2020-09-09</td>\n",
       "      <td>150.0</td>\n",
       "      <td>170.0</td>\n",
       "      <td>51710.0</td>\n",
       "      <td>332</td>\n",
       "      <td>6075.6</td>\n",
       "      <td>822</td>\n",
       "    </tr>\n",
       "    <tr>\n",
       "      <th>7</th>\n",
       "      <td>CAPE</td>\n",
       "      <td>JG110</td>\n",
       "      <td>2M</td>\n",
       "      <td>11.0</td>\n",
       "      <td>2020-04-14</td>\n",
       "      <td>50.0</td>\n",
       "      <td>50.0</td>\n",
       "      <td>16000.0</td>\n",
       "      <td>320</td>\n",
       "      <td>3520.0</td>\n",
       "      <td>0</td>\n",
       "    </tr>\n",
       "    <tr>\n",
       "      <th>24</th>\n",
       "      <td>W.CAPE-BERGRIVER ETC</td>\n",
       "      <td>JE090</td>\n",
       "      <td>2S</td>\n",
       "      <td>9.0</td>\n",
       "      <td>2020-04-16</td>\n",
       "      <td>55.0</td>\n",
       "      <td>55.0</td>\n",
       "      <td>990.0</td>\n",
       "      <td>18</td>\n",
       "      <td>162.0</td>\n",
       "      <td>1506</td>\n",
       "    </tr>\n",
       "    <tr>\n",
       "      <th>40</th>\n",
       "      <td>CAPE</td>\n",
       "      <td>M4183</td>\n",
       "      <td>1S</td>\n",
       "      <td>18.3</td>\n",
       "      <td>2020-05-04</td>\n",
       "      <td>80.0</td>\n",
       "      <td>120.0</td>\n",
       "      <td>32020.0</td>\n",
       "      <td>388</td>\n",
       "      <td>7100.4</td>\n",
       "      <td>443</td>\n",
       "    </tr>\n",
       "    <tr>\n",
       "      <th>69</th>\n",
       "      <td>EASTERN CAPE</td>\n",
       "      <td>IA400</td>\n",
       "      <td>1S</td>\n",
       "      <td>400.0</td>\n",
       "      <td>2020-09-28</td>\n",
       "      <td>1800.0</td>\n",
       "      <td>1800.0</td>\n",
       "      <td>1800.0</td>\n",
       "      <td>1</td>\n",
       "      <td>400.0</td>\n",
       "      <td>2</td>\n",
       "    </tr>\n",
       "  </tbody>\n",
       "</table>\n",
       "</div>"
      ],
      "text/plain": [
       "                Province Container Size_Grade  Weight_Kg        Date  \\\n",
       "1                   CAPE     M4183         1L       18.3  2020-09-09   \n",
       "7                   CAPE     JG110         2M       11.0  2020-04-14   \n",
       "24  W.CAPE-BERGRIVER ETC     JE090         2S        9.0  2020-04-16   \n",
       "40                  CAPE     M4183         1S       18.3  2020-05-04   \n",
       "69          EASTERN CAPE     IA400         1S      400.0  2020-09-28   \n",
       "\n",
       "    Low_Price  High_Price  Sales_Total  Total_Qty_Sold  Total_Kg_Sold  \\\n",
       "1       150.0       170.0      51710.0             332         6075.6   \n",
       "7        50.0        50.0      16000.0             320         3520.0   \n",
       "24       55.0        55.0        990.0              18          162.0   \n",
       "40       80.0       120.0      32020.0             388         7100.4   \n",
       "69     1800.0      1800.0       1800.0               1          400.0   \n",
       "\n",
       "    Stock_On_Hand  \n",
       "1             822  \n",
       "7               0  \n",
       "24           1506  \n",
       "40            443  \n",
       "69              2  "
      ]
     },
     "execution_count": 172,
     "metadata": {
      "tags": []
     },
     "output_type": "execute_result"
    }
   ],
   "source": [
    "new_train = train_data.drop('avg_price_per_kg',axis=1)\n",
    "new_train.head()"
   ]
  },
  {
   "cell_type": "code",
   "execution_count": null,
   "metadata": {
    "id": "Su-j0vH0xxfv",
    "outputId": "f104693a-1ee2-4ddf-ee69-d40bc5feba9a"
   },
   "outputs": [
    {
     "name": "stdout",
     "output_type": "stream",
     "text": [
      "<class 'pandas.core.frame.DataFrame'>\n",
      "Int64Index: 1952 entries, 1 to 64310\n",
      "Data columns (total 11 columns):\n",
      "Province          1952 non-null object\n",
      "Container         1952 non-null object\n",
      "Size_Grade        1952 non-null object\n",
      "Weight_Kg         1952 non-null float64\n",
      "Date              1952 non-null object\n",
      "Low_Price         1952 non-null float64\n",
      "High_Price        1952 non-null float64\n",
      "Sales_Total       1952 non-null float64\n",
      "Total_Qty_Sold    1952 non-null int64\n",
      "Total_Kg_Sold     1952 non-null float64\n",
      "Stock_On_Hand     1952 non-null int64\n",
      "dtypes: float64(5), int64(2), object(4)\n",
      "memory usage: 183.0+ KB\n"
     ]
    }
   ],
   "source": [
    "new_train.info()"
   ]
  },
  {
   "cell_type": "code",
   "execution_count": null,
   "metadata": {
    "id": "jVZQrg2Cxxfv",
    "outputId": "cb500100-abf1-473a-8775-5a6ffe065f67"
   },
   "outputs": [
    {
     "name": "stdout",
     "output_type": "stream",
     "text": [
      "<class 'pandas.core.frame.DataFrame'>\n",
      "Int64Index: 2637 entries, 1 to 684\n",
      "Data columns (total 11 columns):\n",
      "Province          2637 non-null object\n",
      "Container         2637 non-null object\n",
      "Size_Grade        2637 non-null object\n",
      "Weight_Kg         2637 non-null float64\n",
      "Date              2637 non-null object\n",
      "Low_Price         2637 non-null float64\n",
      "High_Price        2637 non-null float64\n",
      "Sales_Total       2637 non-null float64\n",
      "Total_Qty_Sold    2637 non-null int64\n",
      "Total_Kg_Sold     2637 non-null float64\n",
      "Stock_On_Hand     2637 non-null int64\n",
      "dtypes: float64(5), int64(2), object(4)\n",
      "memory usage: 247.2+ KB\n"
     ]
    }
   ],
   "source": [
    "# stacking the train set on top of test set, so that the same number of dummy variables is created (avoid dimension problem)\n",
    "vertical_stack = pd.concat([new_train,test],axis=0)\n",
    "vertical_stack.info()"
   ]
  },
  {
   "cell_type": "code",
   "execution_count": null,
   "metadata": {
    "id": "QKvZeBDPxxfw",
    "outputId": "2beb4b61-ad2b-4511-9de7-782b8d512e05"
   },
   "outputs": [
    {
     "data": {
      "text/html": [
       "<div>\n",
       "<style scoped>\n",
       "    .dataframe tbody tr th:only-of-type {\n",
       "        vertical-align: middle;\n",
       "    }\n",
       "\n",
       "    .dataframe tbody tr th {\n",
       "        vertical-align: top;\n",
       "    }\n",
       "\n",
       "    .dataframe thead th {\n",
       "        text-align: right;\n",
       "    }\n",
       "</style>\n",
       "<table border=\"1\" class=\"dataframe\">\n",
       "  <thead>\n",
       "    <tr style=\"text-align: right;\">\n",
       "      <th></th>\n",
       "      <th>Province</th>\n",
       "      <th>Container</th>\n",
       "      <th>Size_Grade</th>\n",
       "      <th>Weight_Kg</th>\n",
       "      <th>Date</th>\n",
       "      <th>Low_Price</th>\n",
       "      <th>High_Price</th>\n",
       "      <th>Sales_Total</th>\n",
       "      <th>Total_Qty_Sold</th>\n",
       "      <th>Total_Kg_Sold</th>\n",
       "      <th>Stock_On_Hand</th>\n",
       "    </tr>\n",
       "  </thead>\n",
       "  <tbody>\n",
       "    <tr>\n",
       "      <th>1</th>\n",
       "      <td>CAPE</td>\n",
       "      <td>M4183</td>\n",
       "      <td>1L</td>\n",
       "      <td>18.3</td>\n",
       "      <td>2020-09-09</td>\n",
       "      <td>150.0</td>\n",
       "      <td>170.0</td>\n",
       "      <td>51710.0</td>\n",
       "      <td>332</td>\n",
       "      <td>6075.6</td>\n",
       "      <td>822</td>\n",
       "    </tr>\n",
       "    <tr>\n",
       "      <th>7</th>\n",
       "      <td>CAPE</td>\n",
       "      <td>JG110</td>\n",
       "      <td>2M</td>\n",
       "      <td>11.0</td>\n",
       "      <td>2020-04-14</td>\n",
       "      <td>50.0</td>\n",
       "      <td>50.0</td>\n",
       "      <td>16000.0</td>\n",
       "      <td>320</td>\n",
       "      <td>3520.0</td>\n",
       "      <td>0</td>\n",
       "    </tr>\n",
       "    <tr>\n",
       "      <th>24</th>\n",
       "      <td>W.CAPE-BERGRIVER ETC</td>\n",
       "      <td>JE090</td>\n",
       "      <td>2S</td>\n",
       "      <td>9.0</td>\n",
       "      <td>2020-04-16</td>\n",
       "      <td>55.0</td>\n",
       "      <td>55.0</td>\n",
       "      <td>990.0</td>\n",
       "      <td>18</td>\n",
       "      <td>162.0</td>\n",
       "      <td>1506</td>\n",
       "    </tr>\n",
       "    <tr>\n",
       "      <th>40</th>\n",
       "      <td>CAPE</td>\n",
       "      <td>M4183</td>\n",
       "      <td>1S</td>\n",
       "      <td>18.3</td>\n",
       "      <td>2020-05-04</td>\n",
       "      <td>80.0</td>\n",
       "      <td>120.0</td>\n",
       "      <td>32020.0</td>\n",
       "      <td>388</td>\n",
       "      <td>7100.4</td>\n",
       "      <td>443</td>\n",
       "    </tr>\n",
       "    <tr>\n",
       "      <th>69</th>\n",
       "      <td>EASTERN CAPE</td>\n",
       "      <td>IA400</td>\n",
       "      <td>1S</td>\n",
       "      <td>400.0</td>\n",
       "      <td>2020-09-28</td>\n",
       "      <td>1800.0</td>\n",
       "      <td>1800.0</td>\n",
       "      <td>1800.0</td>\n",
       "      <td>1</td>\n",
       "      <td>400.0</td>\n",
       "      <td>2</td>\n",
       "    </tr>\n",
       "  </tbody>\n",
       "</table>\n",
       "</div>"
      ],
      "text/plain": [
       "                Province Container Size_Grade  Weight_Kg        Date  \\\n",
       "1                   CAPE     M4183         1L       18.3  2020-09-09   \n",
       "7                   CAPE     JG110         2M       11.0  2020-04-14   \n",
       "24  W.CAPE-BERGRIVER ETC     JE090         2S        9.0  2020-04-16   \n",
       "40                  CAPE     M4183         1S       18.3  2020-05-04   \n",
       "69          EASTERN CAPE     IA400         1S      400.0  2020-09-28   \n",
       "\n",
       "    Low_Price  High_Price  Sales_Total  Total_Qty_Sold  Total_Kg_Sold  \\\n",
       "1       150.0       170.0      51710.0             332         6075.6   \n",
       "7        50.0        50.0      16000.0             320         3520.0   \n",
       "24       55.0        55.0        990.0              18          162.0   \n",
       "40       80.0       120.0      32020.0             388         7100.4   \n",
       "69     1800.0      1800.0       1800.0               1          400.0   \n",
       "\n",
       "    Stock_On_Hand  \n",
       "1             822  \n",
       "7               0  \n",
       "24           1506  \n",
       "40            443  \n",
       "69              2  "
      ]
     },
     "execution_count": 175,
     "metadata": {
      "tags": []
     },
     "output_type": "execute_result"
    }
   ],
   "source": [
    "vertical_stack.head()"
   ]
  },
  {
   "cell_type": "code",
   "execution_count": null,
   "metadata": {
    "id": "01Nr0MKLxxfw",
    "outputId": "a6c70c86-ff13-4d3e-a0f1-335905ed7769"
   },
   "outputs": [
    {
     "data": {
      "text/plain": [
       "(2637, 178)"
      ]
     },
     "execution_count": 176,
     "metadata": {
      "tags": []
     },
     "output_type": "execute_result"
    }
   ],
   "source": [
    "X_real = pd.get_dummies(vertical_stack,drop_first=True)\n",
    "X_real.shape"
   ]
  },
  {
   "cell_type": "code",
   "execution_count": null,
   "metadata": {
    "id": "O1Y277YNxxfx",
    "outputId": "32f1d5b1-d029-45a5-d4bc-bf164ac5100c"
   },
   "outputs": [
    {
     "data": {
      "text/plain": [
       "(685, 178)"
      ]
     },
     "execution_count": 177,
     "metadata": {
      "tags": []
     },
     "output_type": "execute_result"
    }
   ],
   "source": [
    "df_test = X_real.iloc[1952:,:]\n",
    "df_test.shape"
   ]
  },
  {
   "cell_type": "code",
   "execution_count": null,
   "metadata": {
    "id": "tongYxbHxxfx",
    "outputId": "33bb235b-a3db-4230-e8ef-805045c05487"
   },
   "outputs": [
    {
     "data": {
      "text/html": [
       "<div>\n",
       "<style scoped>\n",
       "    .dataframe tbody tr th:only-of-type {\n",
       "        vertical-align: middle;\n",
       "    }\n",
       "\n",
       "    .dataframe tbody tr th {\n",
       "        vertical-align: top;\n",
       "    }\n",
       "\n",
       "    .dataframe thead th {\n",
       "        text-align: right;\n",
       "    }\n",
       "</style>\n",
       "<table border=\"1\" class=\"dataframe\">\n",
       "  <thead>\n",
       "    <tr style=\"text-align: right;\">\n",
       "      <th></th>\n",
       "      <th>Weight_Kg</th>\n",
       "      <th>Low_Price</th>\n",
       "      <th>High_Price</th>\n",
       "      <th>Sales_Total</th>\n",
       "      <th>Total_Qty_Sold</th>\n",
       "      <th>Total_Kg_Sold</th>\n",
       "      <th>Stock_On_Hand</th>\n",
       "      <th>Province_EASTERN CAPE</th>\n",
       "      <th>Province_NATAL</th>\n",
       "      <th>Province_ORANGE FREE STATE</th>\n",
       "      <th>...</th>\n",
       "      <th>Date_2020-09-07</th>\n",
       "      <th>Date_2020-09-09</th>\n",
       "      <th>Date_2020-09-16</th>\n",
       "      <th>Date_2020-09-17</th>\n",
       "      <th>Date_2020-09-19</th>\n",
       "      <th>Date_2020-09-21</th>\n",
       "      <th>Date_2020-09-23</th>\n",
       "      <th>Date_2020-09-28</th>\n",
       "      <th>Date_2020-10-01</th>\n",
       "      <th>Date_2020-10-03</th>\n",
       "    </tr>\n",
       "  </thead>\n",
       "  <tbody>\n",
       "    <tr>\n",
       "      <th>0</th>\n",
       "      <td>12.0</td>\n",
       "      <td>128.0</td>\n",
       "      <td>136.0</td>\n",
       "      <td>5008.0</td>\n",
       "      <td>38</td>\n",
       "      <td>456.0</td>\n",
       "      <td>0</td>\n",
       "      <td>0</td>\n",
       "      <td>0</td>\n",
       "      <td>0</td>\n",
       "      <td>...</td>\n",
       "      <td>0</td>\n",
       "      <td>0</td>\n",
       "      <td>0</td>\n",
       "      <td>0</td>\n",
       "      <td>0</td>\n",
       "      <td>0</td>\n",
       "      <td>0</td>\n",
       "      <td>0</td>\n",
       "      <td>0</td>\n",
       "      <td>0</td>\n",
       "    </tr>\n",
       "    <tr>\n",
       "      <th>1</th>\n",
       "      <td>18.3</td>\n",
       "      <td>220.0</td>\n",
       "      <td>220.0</td>\n",
       "      <td>1760.0</td>\n",
       "      <td>8</td>\n",
       "      <td>146.4</td>\n",
       "      <td>2</td>\n",
       "      <td>0</td>\n",
       "      <td>0</td>\n",
       "      <td>0</td>\n",
       "      <td>...</td>\n",
       "      <td>0</td>\n",
       "      <td>0</td>\n",
       "      <td>0</td>\n",
       "      <td>0</td>\n",
       "      <td>0</td>\n",
       "      <td>0</td>\n",
       "      <td>0</td>\n",
       "      <td>0</td>\n",
       "      <td>0</td>\n",
       "      <td>0</td>\n",
       "    </tr>\n",
       "    <tr>\n",
       "      <th>2</th>\n",
       "      <td>12.0</td>\n",
       "      <td>120.0</td>\n",
       "      <td>120.0</td>\n",
       "      <td>720.0</td>\n",
       "      <td>6</td>\n",
       "      <td>72.0</td>\n",
       "      <td>45</td>\n",
       "      <td>0</td>\n",
       "      <td>0</td>\n",
       "      <td>0</td>\n",
       "      <td>...</td>\n",
       "      <td>0</td>\n",
       "      <td>0</td>\n",
       "      <td>0</td>\n",
       "      <td>0</td>\n",
       "      <td>0</td>\n",
       "      <td>0</td>\n",
       "      <td>0</td>\n",
       "      <td>0</td>\n",
       "      <td>0</td>\n",
       "      <td>0</td>\n",
       "    </tr>\n",
       "    <tr>\n",
       "      <th>3</th>\n",
       "      <td>18.3</td>\n",
       "      <td>160.0</td>\n",
       "      <td>160.0</td>\n",
       "      <td>160.0</td>\n",
       "      <td>1</td>\n",
       "      <td>18.3</td>\n",
       "      <td>8</td>\n",
       "      <td>0</td>\n",
       "      <td>0</td>\n",
       "      <td>0</td>\n",
       "      <td>...</td>\n",
       "      <td>0</td>\n",
       "      <td>0</td>\n",
       "      <td>0</td>\n",
       "      <td>0</td>\n",
       "      <td>0</td>\n",
       "      <td>0</td>\n",
       "      <td>0</td>\n",
       "      <td>0</td>\n",
       "      <td>0</td>\n",
       "      <td>0</td>\n",
       "    </tr>\n",
       "    <tr>\n",
       "      <th>4</th>\n",
       "      <td>18.3</td>\n",
       "      <td>140.0</td>\n",
       "      <td>160.0</td>\n",
       "      <td>14140.0</td>\n",
       "      <td>100</td>\n",
       "      <td>1830.0</td>\n",
       "      <td>19</td>\n",
       "      <td>0</td>\n",
       "      <td>0</td>\n",
       "      <td>0</td>\n",
       "      <td>...</td>\n",
       "      <td>0</td>\n",
       "      <td>0</td>\n",
       "      <td>0</td>\n",
       "      <td>0</td>\n",
       "      <td>0</td>\n",
       "      <td>0</td>\n",
       "      <td>0</td>\n",
       "      <td>0</td>\n",
       "      <td>0</td>\n",
       "      <td>0</td>\n",
       "    </tr>\n",
       "  </tbody>\n",
       "</table>\n",
       "<p>5 rows × 178 columns</p>\n",
       "</div>"
      ],
      "text/plain": [
       "   Weight_Kg  Low_Price  High_Price  Sales_Total  Total_Qty_Sold  \\\n",
       "0       12.0      128.0       136.0       5008.0              38   \n",
       "1       18.3      220.0       220.0       1760.0               8   \n",
       "2       12.0      120.0       120.0        720.0               6   \n",
       "3       18.3      160.0       160.0        160.0               1   \n",
       "4       18.3      140.0       160.0      14140.0             100   \n",
       "\n",
       "   Total_Kg_Sold  Stock_On_Hand  Province_EASTERN CAPE  Province_NATAL  \\\n",
       "0          456.0              0                      0               0   \n",
       "1          146.4              2                      0               0   \n",
       "2           72.0             45                      0               0   \n",
       "3           18.3              8                      0               0   \n",
       "4         1830.0             19                      0               0   \n",
       "\n",
       "   Province_ORANGE FREE STATE  ...  Date_2020-09-07  Date_2020-09-09  \\\n",
       "0                           0  ...                0                0   \n",
       "1                           0  ...                0                0   \n",
       "2                           0  ...                0                0   \n",
       "3                           0  ...                0                0   \n",
       "4                           0  ...                0                0   \n",
       "\n",
       "   Date_2020-09-16  Date_2020-09-17  Date_2020-09-19  Date_2020-09-21  \\\n",
       "0                0                0                0                0   \n",
       "1                0                0                0                0   \n",
       "2                0                0                0                0   \n",
       "3                0                0                0                0   \n",
       "4                0                0                0                0   \n",
       "\n",
       "   Date_2020-09-23  Date_2020-09-28  Date_2020-10-01  Date_2020-10-03  \n",
       "0                0                0                0                0  \n",
       "1                0                0                0                0  \n",
       "2                0                0                0                0  \n",
       "3                0                0                0                0  \n",
       "4                0                0                0                0  \n",
       "\n",
       "[5 rows x 178 columns]"
      ]
     },
     "execution_count": 178,
     "metadata": {
      "tags": []
     },
     "output_type": "execute_result"
    }
   ],
   "source": [
    "df_test.head()"
   ]
  },
  {
   "cell_type": "markdown",
   "metadata": {
    "id": "LyvjzQ_2xxfy"
   },
   "source": [
    "Make dataframe consisting of kbest columns"
   ]
  },
  {
   "cell_type": "code",
   "execution_count": null,
   "metadata": {
    "id": "_71vJzG3xxf6"
   },
   "outputs": [],
   "source": [
    "test_kbest = pd.DataFrame(data = df_test, columns=kbest_features)"
   ]
  },
  {
   "cell_type": "code",
   "execution_count": null,
   "metadata": {
    "id": "giZjLLNpxxf7",
    "outputId": "9ecefea2-85ef-4965-8bd3-614374f3b341"
   },
   "outputs": [
    {
     "data": {
      "text/plain": [
       "(685, 40)"
      ]
     },
     "execution_count": 185,
     "metadata": {
      "tags": []
     },
     "output_type": "execute_result"
    }
   ],
   "source": [
    "# check the shape of the dataframe\n",
    "test_kbest.shape"
   ]
  },
  {
   "cell_type": "markdown",
   "metadata": {
    "id": "3NX9b8qoxxf7"
   },
   "source": [
    "Let's also create a scaled dataset for models that were trained on scaled dataframes."
   ]
  },
  {
   "cell_type": "code",
   "execution_count": null,
   "metadata": {
    "id": "3C3B5TXfxxf8"
   },
   "outputs": [],
   "source": [
    "test_kbest_scaled = scaler.fit_transform(test_kbest)"
   ]
  },
  {
   "cell_type": "markdown",
   "metadata": {
    "id": "jR8aiJ-Qxxf8"
   },
   "source": [
    "# 23. Predictions and Submission file"
   ]
  },
  {
   "cell_type": "code",
   "execution_count": null,
   "metadata": {
    "id": "P2Y3J9wyxxf8",
    "outputId": "f3331584-d639-449f-a36b-06cab7145045"
   },
   "outputs": [
    {
     "data": {
      "text/plain": [
       "array([ 8.68654665,  8.99306919,  8.1795764 ,  8.21993699,  8.30640808,\n",
       "        4.79707923,  5.0879002 ,  7.88450325,  8.56202652,  8.87487681,\n",
       "        6.36705989,  6.28989038,  8.37046465,  6.36159675,  1.99369265,\n",
       "        6.76308221,  7.68302309,  6.25431757,  9.24005016,  5.98786643,\n",
       "        5.10268272,  4.23923178,  6.14860662,  6.66799104,  4.98995233,\n",
       "        6.71158165,  7.60049633,  8.20814456,  8.29486789,  7.79536554,\n",
       "        8.77733696,  4.86085235,  9.0551211 ,  7.81255082,  3.04825905,\n",
       "        8.39786838,  8.03471207,  9.32503479,  5.8297587 ,  6.82673047,\n",
       "        8.55174281,  8.19460635,  8.66108752,  5.06710948,  5.89885106,\n",
       "        6.134236  ,  4.88861223,  6.25023065,  5.84586544,  2.33322192,\n",
       "       -0.94453687,  5.06329098,  8.78130078,  8.53486035,  7.73593739,\n",
       "        7.11660196,  8.2397435 ,  8.860412  ,  8.91399861,  8.4569163 ,\n",
       "        8.64973627,  9.33062329,  4.81921987,  8.12625819,  7.5431112 ,\n",
       "        5.70454496,  4.76866554,  4.62732938,  5.92626396,  6.3464389 ,\n",
       "        7.37854588,  6.21110359,  6.49502757,  6.32243156,  5.52854471,\n",
       "        5.31780748,  5.50260756,  9.23086421,  8.40134512,  6.15227991,\n",
       "        8.34389253,  4.58591631,  5.62655681,  5.87994539,  2.52098821,\n",
       "        5.73559698,  7.49142513,  9.74032182,  3.96022302,  6.04706418,\n",
       "        8.59608259,  8.94025387,  7.6897452 ,  5.60462237,  6.6367993 ,\n",
       "        5.88507085,  7.67154988,  8.41215178,  4.7944921 ,  6.58947077,\n",
       "        7.92056415,  6.36573357,  4.81992538,  8.17847541,  7.34648994,\n",
       "        8.35340519,  8.36402051,  5.69188135,  7.69928061,  4.51078842,\n",
       "        6.33989914,  5.09842112,  5.21811426,  6.1519022 ,  7.3298896 ,\n",
       "        8.18095781,  6.21750761,  8.55955529,  5.6735268 ,  7.4333792 ,\n",
       "        6.36767712,  6.18687516,  8.22596262,  4.84905214,  8.46175656,\n",
       "        7.42281525,  5.29618201,  7.96015795,  8.30128998,  6.85002053,\n",
       "        6.97466993,  6.56678952,  9.08436217,  8.09396139, -1.05015732,\n",
       "        6.37088353,  6.43108594,  8.81389745,  8.00888006,  5.72558089,\n",
       "        8.21565406,  5.41624937,  8.2190328 ,  4.99863279,  8.39840899,\n",
       "        6.1531112 ,  6.22165121,  8.60218794,  7.58899298,  8.37661659,\n",
       "        8.07541828,  7.89324376,  5.08591242,  8.00475871,  8.13684531,\n",
       "        8.88861457,  7.04260231,  5.64115053,  6.64282994,  6.16255203,\n",
       "        8.59657375,  8.95533274,  7.17677044,  8.89210428,  7.81758196,\n",
       "        8.3807485 ,  5.08911583,  7.55956703,  6.83152313,  7.44692156,\n",
       "        8.07285776,  8.28474269,  6.62065239,  8.64106531,  4.82150285,\n",
       "        4.24868563,  8.40346924,  5.88869297,  5.95825001,  5.99964616,\n",
       "        6.78764428, -2.49457071,  9.08780634,  7.93757801,  6.55144667,\n",
       "       -2.69706025,  5.18171337,  8.26388205,  7.60857718,  7.70750977,\n",
       "        6.11637206,  8.51903072,  5.40560807,  1.94258573,  8.07477173,\n",
       "       10.40734829,  6.37040504,  4.52787565,  5.67443397,  7.95494921,\n",
       "        5.09438266,  3.200367  ,  7.57198101,  2.28123143,  6.6625102 ,\n",
       "        4.11109707,  8.04560725,  6.66799104,  7.14494514,  8.17304531,\n",
       "        7.82499117,  9.38309243,  6.24973001,  8.20791735,  8.62082439,\n",
       "        5.42080727,  5.9899841 ,  6.61731694,  4.96408853,  8.07175249,\n",
       "        4.48375039,  5.02018692,  8.19953106,  8.93546422,  9.11213849,\n",
       "        5.38395033,  5.67703979,  5.0808936 ,  6.34957649,  6.11890109,\n",
       "        6.21157252,  8.27235717,  8.19345355,  5.14532877,  5.51417331,\n",
       "        5.94500606,  9.01503843,  8.23145349,  5.10584584,  5.89715864,\n",
       "        5.98096134,  6.24224017,  7.42722989,  8.08047996,  8.30714041,\n",
       "        6.66456189,  3.90569096,  6.9689619 ,  6.22108812,  8.59698473,\n",
       "        8.26415134,  8.89288258,  5.97271132,  7.47232434,  6.17349982,\n",
       "        4.51138737,  8.00083621,  7.83393464,  8.30035225,  7.74070654,\n",
       "        4.95935178,  8.19407497,  6.43667986,  6.02015293,  3.78639714,\n",
       "        6.82087313,  4.72087444,  5.73148726,  6.17956653,  6.64954063,\n",
       "        8.48274266,  6.06873291,  8.69422134,  2.05408279,  8.32179308,\n",
       "        8.4610971 ,  5.04957744,  5.7830984 ,  5.71840715,  7.92736858,\n",
       "        6.83811745,  6.6030222 ,  5.26323207,  3.50388698,  7.82761156,\n",
       "        4.30821641,  5.98101129,  5.86576189,  7.50149552,  8.91664885,\n",
       "        5.86024666,  5.23050168,  5.91679082,  1.52535421,  7.65960724,\n",
       "        8.14578282,  8.50220974,  8.24461856,  7.51763526,  5.11529555,\n",
       "        6.00290622,  4.83449435,  4.80940406,  6.94131608,  8.04683863,\n",
       "        8.50137229,  5.90703177,  3.83083032,  8.13246695,  5.09794535,\n",
       "        7.01424623,  7.49851994,  6.01024557,  8.10432512,  8.19701583,\n",
       "        7.41064573,  5.80690122,  6.29569738,  6.23560337,  6.07754263,\n",
       "        6.3378506 ,  6.29874484,  6.08444029,  7.59700032,  5.41922958,\n",
       "        5.17149693,  7.72760926,  6.37599109,  8.52664561,  7.46830687,\n",
       "        6.38405206,  4.91594185,  7.7979449 ,  7.11701549,  7.50383321,\n",
       "        8.01338618,  7.92313541,  4.83818994,  8.02015737,  5.72402061,\n",
       "        7.39697668,  6.62973396,  8.63253352,  6.25228058,  8.55707853,\n",
       "        7.93150541,  8.21527214,  6.21869839,  7.63368231,  8.16868976,\n",
       "        7.54900654,  8.38211876,  7.48570846,  8.26216993,  8.32236993,\n",
       "        6.54803218,  5.85318642,  8.0846063 ,  8.46836391,  8.01949661,\n",
       "        8.19511851,  6.60972795,  8.35664302,  8.39056307,  7.56288462,\n",
       "        6.71783476,  8.01433794,  8.05051716,  7.31627914,  7.67744834,\n",
       "        5.24574247,  5.06600734,  6.69997165,  8.16227523,  5.02866138,\n",
       "        7.42749596,  4.69554195,  5.09008433,  7.48570846,  4.8139218 ,\n",
       "        7.53855135,  7.29672915,  7.55871772,  7.39644367,  6.35425971,\n",
       "        7.66216134,  6.13363184,  7.46893652,  6.07638883,  7.89522931,\n",
       "        8.12046347,  6.6387146 ,  9.44226761,  6.34545627,  0.38793432,\n",
       "        8.03232148,  5.36890692,  6.90148232,  7.71972645,  7.05166103,\n",
       "        6.11970592,  6.01010577,  8.65741384,  5.01265862,  5.49176218,\n",
       "        8.23876644,  6.09457464,  6.76964302,  4.28478841,  8.58637081,\n",
       "        8.48448955,  6.1519022 ,  6.19000288,  7.76092044,  7.60994974,\n",
       "        6.237309  ,  7.76476843,  6.17317933,  8.87934948,  4.94611049,\n",
       "        7.41863613,  4.31225853,  7.50467827,  5.11002996,  6.3117012 ,\n",
       "        6.91998955,  8.03624363,  6.57740942,  7.43572808,  6.74606169,\n",
       "        8.47746072,  6.75888544,  7.94620415,  8.65569495,  6.07012648,\n",
       "        7.80287335,  4.86239775,  6.35265881,  6.09338135,  6.37780756,\n",
       "        8.71026993,  7.88159801,  8.58801317,  8.18728461,  8.6573887 ,\n",
       "        8.9954497 ,  5.33611708,  7.63470925,  8.24761308,  8.45456338,\n",
       "        8.187098  ,  6.27167566,  7.79214287,  6.77842181,  7.67001762,\n",
       "        8.12472395,  8.22157767,  8.24645796,  3.85983865,  7.30718711,\n",
       "        6.04702043,  8.33608625,  6.38099779,  4.0467053 ,  9.05687927,\n",
       "        4.50013458,  4.11896051,  8.05373914,  5.26570444,  8.19230653,\n",
       "        7.38811768,  8.51955427,  5.85412634,  5.55332098,  4.04974795,\n",
       "        7.87269474,  8.42011735,  5.04422111,  6.13200186,  6.14393318,\n",
       "        5.40224844,  8.18604218,  8.40728814,  6.19344722,  8.85553763,\n",
       "        7.39897389,  8.88918273,  6.63357865,  8.13654027,  5.04429741,\n",
       "        4.48329217,  6.33340618,  6.39468753,  8.05051228,  8.8969741 ,\n",
       "        6.59488392,  6.08732072,  7.97356904,  8.11157919,  7.87009143,\n",
       "        8.58873978,  5.57451897,  8.50387213,  8.26339823,  8.12268602,\n",
       "        8.19711737,  8.01114988,  4.45415552,  8.03113203,  6.18575965,\n",
       "        8.35340519,  6.94751287,  6.1488733 ,  5.91242053,  7.96231586,\n",
       "        8.55500614,  8.41366765,  6.30155478,  7.10338814,  6.17615497,\n",
       "        8.13021224,  6.71731701,  6.96637542,  5.58773536,  7.76325909,\n",
       "        6.50656695,  8.19345355,  3.20296122,  3.85983865,  8.61476152,\n",
       "        8.39321109,  5.71881057,  8.33976514,  8.70622964,  8.45123345,\n",
       "        8.35340519,  7.34482398,  7.11026971,  4.93602468,  7.86714178,\n",
       "        8.50237986,  3.88435772,  7.66799766,  8.25501238,  6.8498251 ,\n",
       "        4.67177437,  8.21319792,  5.85081762,  8.16619761,  7.65834398,\n",
       "        4.62281043,  6.25936452,  6.13399281,  4.58012524,  6.01448052,\n",
       "        2.78612548,  8.63346798,  8.19874575,  4.09284669,  5.65551798,\n",
       "        8.85121168,  3.94542485,  4.94844883,  4.89314063,  7.78375375,\n",
       "        7.30583782,  8.03338149,  5.09438266,  8.53989013,  8.45154308,\n",
       "        4.30821641,  5.52059425,  8.36375906,  8.12826546,  6.59939482,\n",
       "        5.97292952,  5.90477891,  5.49059351,  7.80731382,  8.31174764,\n",
       "        5.98132251,  7.02976997,  5.30472584,  7.50213678,  8.98489741,\n",
       "        7.35093227,  6.97025092,  9.00691835,  6.27274741,  6.33262267,\n",
       "        8.78637336,  6.94696611,  5.28859008,  5.10952156,  8.17880393,\n",
       "        6.40123457,  7.1064473 ,  5.52449276,  7.0593086 ,  3.24779541,\n",
       "        6.31616153,  6.17565062,  8.82738215,  5.14985883,  8.45548627,\n",
       "        2.56436479,  8.20488894,  1.70195058,  8.30830701,  8.36388181,\n",
       "        8.52467978,  8.18193473,  7.71376146,  5.34078651,  8.56179887,\n",
       "        6.76001328,  6.15590251,  8.28102838,  4.1965599 ,  8.75563461,\n",
       "        7.63554969,  8.83039279,  6.41939608,  6.37952015,  6.51537966,\n",
       "        8.66108752,  6.15919146,  5.07661924,  7.52674683,  7.62175821,\n",
       "        4.81280633,  6.3563723 ,  5.29119934,  5.83771562,  6.42901628,\n",
       "        6.02691612,  8.64499127,  5.80048791,  4.00997025,  4.74301925,\n",
       "        5.62101642,  4.7714722 ,  8.85553763,  4.92767792,  7.95765707,\n",
       "        4.57726513,  7.62886356,  5.36524642,  8.96849609,  8.39991893,\n",
       "        5.59006092,  7.27782859,  6.34745645,  8.19885182,  5.02208872,\n",
       "        8.01433794,  6.17389963,  6.2757861 ,  7.01522982,  8.05979976,\n",
       "        5.62792725,  6.71391302,  5.46152423,  2.76022461,  8.85769842,\n",
       "        7.34975988,  8.04392464,  3.56712791,  9.32503479,  6.64711902,\n",
       "        8.86594513,  5.80466754,  4.53434377,  6.18781849, 10.39173032,\n",
       "        8.09207037,  2.68174268,  7.71788623,  7.42465977,  6.12108818,\n",
       "        5.76364154,  8.13660768,  5.90012317,  7.47288   ,  7.90538386])"
      ]
     },
     "execution_count": 187,
     "metadata": {
      "tags": []
     },
     "output_type": "execute_result"
    }
   ],
   "source": [
    "# lasso model used for this prediction\n",
    "# lasso model was trained on kbest features, dim = 40\n",
    "# need to use scaled test dataframe, since the model was trained on a scaled data set\n",
    "predict_lasso = lasso.predict(test_kbest_scaled)\n",
    "predict_lasso"
   ]
  },
  {
   "cell_type": "code",
   "execution_count": null,
   "metadata": {
    "id": "3aD-6qk-xxf9"
   },
   "outputs": [],
   "source": [
    "submission_lasso = pd.DataFrame(\n",
    "    {'Index': test_index,\n",
    "     'avg_price_per_kg': predict_lasso\n",
    "    })"
   ]
  },
  {
   "cell_type": "code",
   "execution_count": null,
   "metadata": {
    "id": "JPCnfqThxxf9"
   },
   "outputs": [],
   "source": [
    "# save DataFrame to csv file for submission\n",
    "submission_lasso.to_csv(\"TS5_lasso_predictions.csv\", index=False)"
   ]
  },
  {
   "cell_type": "code",
   "execution_count": null,
   "metadata": {
    "id": "twPMXZlxxxf-",
    "outputId": "e313766e-7cc6-4daf-c2ec-69905f8fee8c"
   },
   "outputs": [
    {
     "data": {
      "text/plain": [
       "array([10.62027725, 11.92413626, 10.05725861,  8.61060525,  8.01178812,\n",
       "        4.50972149,  3.8303216 ,  7.36109371,  8.64727097,  9.415911  ,\n",
       "        4.89063042,  5.4176303 ,  8.81779491,  4.26446966,  4.54183578,\n",
       "        6.09249418,  7.48811579,  4.50189163, 10.74631464,  6.11085234,\n",
       "        5.46048979,  4.71969678,  5.36878454,  7.83935726,  5.59832328,\n",
       "        6.16742026,  7.6001629 ,  7.93485334,  7.58150643,  7.09153663,\n",
       "        7.91203949,  5.60724401,  9.75214683,  7.68582015,  4.7519798 ,\n",
       "        9.91155795, 11.04459744, 11.26105583,  6.24936847,  6.39735086,\n",
       "        8.10559458,  7.870372  ,  5.62791393,  6.31310975,  5.56557099,\n",
       "        5.17326915,  4.9897247 ,  5.54330144,  6.1174195 ,  4.57667623,\n",
       "        1.46869027,  6.30999112,  6.36641694, 12.99047956,  8.43516516,\n",
       "        6.06707559, 10.73991444,  8.9918373 ,  8.20683958,  6.27253784,\n",
       "        7.39931067, 11.018899  ,  6.19514718,  9.07892793,  6.43015354,\n",
       "        6.08954008,  6.87395918,  5.18952139,  5.38834665,  7.16956052,\n",
       "        5.63482701,  4.56688087,  3.74544495,  7.83242584,  6.72982953,\n",
       "        4.91791363,  6.10802581,  9.21128456, 10.88190823,  6.15933007,\n",
       "        6.8170504 ,  4.9897247 ,  6.02189114,  5.55682618,  1.34566782,\n",
       "        6.41925027,  7.28344113, 11.06465837,  4.85070513,  6.89251755,\n",
       "        9.50266664,  9.59136155,  7.29734659,  5.9001267 ,  5.93132041,\n",
       "        6.42406972,  8.30790427,  8.91651589,  6.94454247,  5.58630225,\n",
       "       10.96389853,  6.34012306,  5.42890898,  7.82493208,  7.21066769,\n",
       "        8.53212628,  7.81852651,  3.19250157,  9.89481909,  4.98454536,\n",
       "        4.17124193,  7.72992726,  6.07081802,  4.1307579 ,  6.86999617,\n",
       "        9.99051998,  5.34580238,  9.21805198,  4.4550087 ,  6.65858945,\n",
       "        6.03255947,  4.32701963,  9.70793508,  4.45372701,  8.81020653,\n",
       "        7.46357512,  4.32538414,  9.10617076,  9.87496761,  5.82613839,\n",
       "        7.69011283,  5.71451889,  9.26220432,  8.41170758,  1.30103831,\n",
       "        6.13362019,  7.91455367,  7.20006273,  7.7092141 ,  5.280496  ,\n",
       "        7.94081553,  5.50582667,  9.03209409,  4.8956039 ,  9.09829535,\n",
       "        6.70372303,  5.46107567,  7.54773612,  5.67316035,  7.91413292,\n",
       "        9.88460485,  8.28416367,  4.80565463,  8.21831423,  7.17812466,\n",
       "       11.14754466,  5.86748529,  4.43486105,  6.14257179,  6.05948474,\n",
       "        8.0597963 ,  9.83766824,  7.1249326 ,  8.605112  ,  7.16234649,\n",
       "        8.2651416 ,  7.7231567 ,  7.31301256,  5.05808722,  7.58975952,\n",
       "        8.47246058,  6.74241842,  5.11575154, 10.81552332,  6.0362238 ,\n",
       "        5.09353704,  7.28843222,  5.60653611,  5.96734301,  7.07059391,\n",
       "        5.11077347,  2.35749726, 10.26268194,  7.48777228,  7.24192915,\n",
       "        2.35919766,  4.13762222,  9.89251695,  7.0824936 ,  6.18291761,\n",
       "        5.51316235,  9.02108069,  5.17042153,  4.54135704,  9.88323294,\n",
       "        7.32621438,  8.85767881,  6.71391486,  5.99566164,  8.12138928,\n",
       "        7.60997583,  2.97879049,  8.08220993,  1.5617649 ,  6.4019373 ,\n",
       "        4.37826802,  8.16511026,  7.83935726,  7.39136728,  8.33713359,\n",
       "        7.46260636, 12.30975   ,  5.5525425 ,  6.46433915,  9.51948826,\n",
       "        5.56194852,  5.84118268,  5.4322074 , 10.10094482,  7.58487555,\n",
       "        5.58149433,  5.17839791,  8.30274725, 10.85858761, 11.40428996,\n",
       "        6.6528958 ,  5.68705074,  5.43798042,  8.77751438,  5.58873492,\n",
       "        4.9710017 , 10.05001859,  7.73278195,  5.60891425,  6.68758101,\n",
       "        6.10284854,  8.73153989,  8.74841244,  4.20783006,  5.41463485,\n",
       "        4.46855072,  5.33256515,  6.64988468,  7.99995543, 11.01566361,\n",
       "        6.85123312,  5.56165573,  7.63348495,  5.30225552,  9.36400133,\n",
       "        8.26797999,  9.62490905,  5.18736511,  5.08064472,  6.64471683,\n",
       "        4.50449933,  7.08108507,  8.93618608,  8.8930669 ,  8.39332658,\n",
       "       10.09339482, 10.35433669,  6.2376475 ,  6.04070388,  4.93866236,\n",
       "        7.45260948,  5.19550128,  6.37358021,  5.15372076,  6.66094537,\n",
       "        8.6732918 ,  6.63287615, 10.6714844 ,  2.49473933,  7.96879348,\n",
       "        9.85851355,  4.95504943,  6.70970694,  6.00189157,  7.86196775,\n",
       "        5.16480512,  6.87699373,  5.3416712 ,  4.39312219,  9.41736364,\n",
       "        4.56992787,  5.99645043,  5.59271468,  8.12037371,  8.4092862 ,\n",
       "        5.9110452 ,  5.86496644,  5.72532907,  1.35108653,  6.99137269,\n",
       "        6.96162851,  9.00430113,  7.73432787,  8.1135863 ,  6.34925987,\n",
       "        5.45620741,  6.01661491,  4.39736415,  6.28527394,  8.70223299,\n",
       "        8.87549206,  5.42843379,  4.01027425,  8.30377912,  6.18002154,\n",
       "        6.52031531,  7.22070885,  5.4373921 ,  8.36398992, 10.45754009,\n",
       "        8.33598967,  6.14237282,  5.31787397,  5.78769498,  6.68727218,\n",
       "        6.1882378 ,  6.67477498,  4.87432549,  7.84433711,  5.00970454,\n",
       "        3.88884061,  7.24995748,  6.05949422, 10.35385092,  7.62225878,\n",
       "        5.39469659,  5.22450203,  8.82581071,  6.5728665 ,  8.16172417,\n",
       "        7.79302563,  8.65221148,  6.81780112,  7.64082865,  4.57531868,\n",
       "        6.77096836,  5.49201281,  8.78215967,  6.88705668,  9.52645804,\n",
       "        6.8096458 ,  8.66628758,  5.18787769,  7.94484182,  8.23795907,\n",
       "        7.24082498,  9.681797  ,  7.70987142,  9.62733866,  6.70783237,\n",
       "        6.69099689,  5.90202223,  8.73632978,  8.5888871 ,  8.11301138,\n",
       "        7.10370035,  6.24393118,  7.7013241 ,  9.69307626,  6.08682275,\n",
       "        6.76722303,  7.48322686,  7.69029884,  5.88258646, 10.06360469,\n",
       "        4.59992883,  6.88916631,  6.18743042,  9.03905221,  6.63408229,\n",
       "        7.35084104,  4.8959767 ,  6.34460229,  7.70987142,  6.85969005,\n",
       "        6.67073571,  7.03667428,  7.0148658 ,  7.06397076,  3.13330737,\n",
       "        7.93114879,  6.02200394,  7.96119884,  3.51620651,  8.90118106,\n",
       "        6.91988258,  6.12099499,  9.26778617,  8.72681645,  1.7997156 ,\n",
       "        8.167777  ,  6.64204191,  7.21174478,  7.49947972,  6.60158272,\n",
       "        5.897474  ,  3.28356785, 10.23255256,  5.47748401,  6.02799493,\n",
       "        9.42417502,  5.03920849,  7.32710873,  4.56301478,  9.77684735,\n",
       "        9.96311708,  4.1307579 ,  6.06028628,  8.26599031,  9.02515921,\n",
       "        4.84704559,  9.26012056,  5.32173541, 10.00158089,  6.73037874,\n",
       "        4.57906655,  4.96314714,  7.51628029,  5.24401079,  6.42962976,\n",
       "        8.84603992,  8.26237737,  7.87962454,  8.78549385,  6.59607357,\n",
       "       10.25131803,  7.70779614,  7.32411936,  9.91509314,  6.75068603,\n",
       "        7.75208125,  4.67322952,  5.55235626,  6.52819025,  6.06872993,\n",
       "        7.67633581,  6.05746831, 10.01598145,  9.82392695,  8.70901848,\n",
       "       10.17991692,  7.25121507,  8.27286932,  8.28964287,  8.34739497,\n",
       "        9.9672862 ,  7.19784918,  9.71352081,  7.85849242,  6.18859949,\n",
       "        7.98180962,  8.00155103,  8.65202165,  4.40576624,  7.39503239,\n",
       "        4.97082565,  8.71289892,  5.51841359,  6.22552856,  7.78900424,\n",
       "        4.1356569 ,  4.91811539,  7.53846819,  5.60830173,  8.3099883 ,\n",
       "        7.85250806,  9.00913725,  5.64471047,  4.67227039,  5.62139348,\n",
       "        9.86494472, 10.03773887,  4.11197508,  6.6438546 ,  5.54406661,\n",
       "        5.12502811,  7.77930064,  4.86973497,  4.99636265,  8.06117763,\n",
       "        6.35699586,  8.46605351,  3.82292767,  5.07195131,  4.10092508,\n",
       "        5.47320041,  6.90195458,  7.37110803,  7.81483144, 10.08102469,\n",
       "        6.68757273,  4.79321138,  8.33802501,  8.16874013,  8.82174859,\n",
       "        9.66899342,  9.41441178,  8.78508925,  9.09928501,  8.16076884,\n",
       "        9.98541553,  7.43098264,  6.91468498,  7.7038199 ,  5.22192903,\n",
       "        8.53212628,  7.27124621,  6.03668777,  4.45330099,  7.85742855,\n",
       "        8.62486036,  7.98743922,  6.72858328,  7.57754285,  4.90892023,\n",
       "        9.12340345,  5.08865903,  6.47919524,  6.61467158,  7.23006894,\n",
       "        8.14581874,  7.73278195,  2.94431827,  4.40576624,  9.64157829,\n",
       "        9.88112329,  5.47291905,  8.49728215,  7.55212751,  9.12170487,\n",
       "        8.53212628,  7.08921482,  6.00923633,  6.19605372,  8.57631369,\n",
       "        8.12645857,  4.8949494 ,  7.60989952,  8.84171704,  7.52497197,\n",
       "        6.251689  ,  7.88082955,  6.30317788,  5.42273356,  7.02490076,\n",
       "        5.17663302,  5.98789242,  6.14652602,  4.67082378,  5.28948118,\n",
       "        5.65903342,  9.90017013,  7.13550996,  4.95818649,  5.86364827,\n",
       "        8.63682705,  4.55422274,  5.59517274,  5.40304318,  7.17010481,\n",
       "        5.13195137,  9.4435225 ,  7.60997583,  9.14274546,  8.86808981,\n",
       "        4.56992787,  6.03259737,  9.03839168,  7.95060478,  5.13106043,\n",
       "        5.83286857,  6.21908312,  3.95260626,  7.55275852, 10.98452935,\n",
       "        5.55601543,  5.21924854,  3.69141903,  6.27103971,  8.57209455,\n",
       "        8.10084202,  6.66914118, 10.90513353,  6.5286348 ,  7.10137413,\n",
       "        8.24493698,  7.04591498,  6.15853901,  6.23619773,  7.33088891,\n",
       "        6.10788212,  6.38460694,  6.67812691,  7.09985923,  5.61579302,\n",
       "        6.80866177,  7.25186183, 10.37606321,  8.43115403,  7.25755998,\n",
       "        2.22308776,  7.9540066 ,  4.02017987,  8.44033573,  9.02162115,\n",
       "        8.82727989,  8.21526   ,  7.47108867,  4.66713427, 10.48199386,\n",
       "        5.54139798,  6.43502519, 10.78826199,  5.59852178,  7.71192848,\n",
       "        5.35706379, 10.13698528,  8.29280911,  5.54783488,  6.09690549,\n",
       "        5.62791393,  6.10357075,  4.60931915,  7.11967497,  6.29371431,\n",
       "        5.68234243,  6.9506454 ,  5.36186968,  5.72671947,  7.11998297,\n",
       "        6.039299  ,  9.09940758,  5.83462763,  4.44767251,  7.97811721,\n",
       "        6.25074631,  4.9692575 ,  8.06117763,  4.54674878, 10.84442516,\n",
       "        6.77950537,  6.99158292,  4.55032481,  9.46499303,  7.86269002,\n",
       "        5.60731204,  7.16176574,  6.51413191,  8.62835783,  4.51144018,\n",
       "        7.48322686,  4.84572278,  4.5410212 ,  6.13390024,  9.34415508,\n",
       "        6.11388119,  6.68341298,  6.10957419,  1.58487379, 10.4205962 ,\n",
       "        8.05402432,  7.44915026,  4.82046646, 11.26105583,  6.94628146,\n",
       "        9.88010985,  5.5373673 ,  5.08732399,  6.92510501, 10.89623785,\n",
       "       10.06672214,  3.25254081,  6.97288422,  7.76224484,  2.82911529,\n",
       "        3.65057789,  8.45564765,  6.04593879,  7.21629217,  7.23999504])"
      ]
     },
     "execution_count": 188,
     "metadata": {
      "tags": []
     },
     "output_type": "execute_result"
    }
   ],
   "source": [
    "# Random Forest (RF) model used for this prediction\n",
    "# RF model was trained on kbest features, dim = 40\n",
    "# no scaling was used to train this model\n",
    "predict_rf = RF.predict(test_kbest)\n",
    "predict_rf"
   ]
  },
  {
   "cell_type": "code",
   "execution_count": null,
   "metadata": {
    "id": "lBxVNOjcxxf-"
   },
   "outputs": [],
   "source": [
    "submission_rf = pd.DataFrame(\n",
    "    {'Index': test_index,\n",
    "     'avg_price_per_kg': predict_rf\n",
    "    })"
   ]
  },
  {
   "cell_type": "code",
   "execution_count": null,
   "metadata": {
    "id": "Q-2WFzP-xxf_"
   },
   "outputs": [],
   "source": [
    "# save DataFrame to csv file for submission\n",
    "submission_rf.to_csv(\"TS5_rf_predictions.csv\", index=False)"
   ]
  },
  {
   "cell_type": "markdown",
   "metadata": {
    "id": "BvXXr0KmxxgA"
   },
   "source": [
    "# 24. Conclusion"
   ]
  },
  {
   "cell_type": "markdown",
   "metadata": {},
   "source": [
    "We've investigated several different models in order to predict the price of GOLDEN DELICIOUS APPLES apples. Firstly, we trained a model using Linear Regression to fit our data. We also applied regularisation techniques such as Ridge and Lasso Regression. The regulararisation techniques offered only a slight improvement in our model's predictive accuracy.\n",
    "\n",
    "In order to improve our predictions, we trained a Decision Tree (DT) model on our data. The DT model improved the RMSE significantly. However, the decision tree seems be suffering from overfitting. We see this when looking at the difference between the train and test RMSE. Thus, we want to improve our results even further by implementing a Random Forest (RF) model. Not only did the RF model lower the RMSE between the actual and predicted values, the difference between the train and test set RMSE was also smaller.\n",
    "\n",
    "We can conclude that the Random Forest model is the best model (from the models invesitigated) to predict the average price of apples per kg.\n",
    "\n",
    "We also investigated the effect of feature selection on the model performance. The selection of features were done via the SelecKBest method. It was found, that training the model on all the features was not a good idea. Training the model on the most important features (determined through SelectKBest) showed less overfitting present, compared to training the model on all availble features.\n",
    "\n",
    "Log transformation was applied to features that were highly skewed to the right. After applying log transformation, our linear model performance was affected negatively. The RMSE increased significantly. However, the transformed data did not have a significant affect on the performance of the RF model. \n",
    "\n",
    "The effect of outliers was also taken into account. We trained a linear model on the dataset with outliers removed and compared it to the performance of a linear model trained on a dataset with no outliers removed. It was found that the linear model performed better on the dataset with outliers removed. Which is as expected, since linear models are sensitive to the presence of outliers. However, the performance of the Random Forest model decreased when outliers were removed. The presence of outliers makes the RF model less prone to overfit our data."
   ]
  },
  {
   "cell_type": "markdown",
   "metadata": {},
   "source": [
    "[<a href =\"#Table-of-Contents\">Back to table of contents</a>]"
   ]
  },
  {
   "cell_type": "markdown",
   "metadata": {
    "id": "ZW1bfqtu0XbX"
   },
   "source": []
  }
 ],
 "metadata": {
  "colab": {
   "include_colab_link": true,
   "name": "Team_TS5_Regression.ipynb",
   "provenance": [],
   "toc_visible": true
  },
  "kernelspec": {
   "display_name": "Python 3",
   "language": "python",
   "name": "python3"
  },
  "language_info": {
   "codemirror_mode": {
    "name": "ipython",
    "version": 3
   },
   "file_extension": ".py",
   "mimetype": "text/x-python",
   "name": "python",
   "nbconvert_exporter": "python",
   "pygments_lexer": "ipython3",
   "version": "3.7.3"
  }
 },
 "nbformat": 4,
 "nbformat_minor": 1
}
