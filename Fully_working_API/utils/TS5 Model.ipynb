{
 "cells": [
  {
   "cell_type": "code",
   "execution_count": 1,
   "metadata": {},
   "outputs": [
    {
     "name": "stdout",
     "output_type": "stream",
     "text": [
      "Training Model...\n",
      "Training completed. Saving model to: ../assets/trained-models/TS5_Model.pkl\n"
     ]
    }
   ],
   "source": [
    "\"\"\"\n",
    "    Simple file to create a Sklearn model for deployment in our API\n",
    "\n",
    "    Author: Explore Data Science Academy\n",
    "\n",
    "    Description: This script is responsible for training a simple linear\n",
    "    regression model which is used within the API for initial demonstration\n",
    "    purposes.\n",
    "\n",
    "\"\"\"\n",
    "\n",
    "# Dependencies\n",
    "import pandas as pd\n",
    "import pickle\n",
    "from sklearn.linear_model import LinearRegression\n",
    "\n",
    "# Fetch training data and preprocess for modeling\n",
    "train = pd.read_csv('data/train_data.csv')\n",
    "\n",
    "train = train[(train['Commodities'] == 'APPLE GOLDEN DELICIOUS')]\n",
    "\n",
    "y_train = train['avg_price_per_kg']\n",
    "X_train = train[['High_Price','Total_Kg_Sold','Total_Qty_Sold','Weight_Kg','Low_Price','Sales_Total','Stock_On_Hand']]\n",
    "\n",
    "# Fit model\n",
    "lm_regression = LinearRegression(normalize=True)\n",
    "print (\"Training Model...\")\n",
    "lm_regression.fit(X_train, y_train)\n",
    "\n",
    "# Pickle model for use within our API\n",
    "save_path = '../assets/trained-models/TS5_Model.pkl'\n",
    "print (f\"Training completed. Saving model to: {save_path}\")\n",
    "pickle.dump(lm_regression, open(save_path,'wb'))"
   ]
  },
  {
   "cell_type": "code",
   "execution_count": null,
   "metadata": {},
   "outputs": [],
   "source": []
  }
 ],
 "metadata": {
  "kernelspec": {
   "display_name": "Python 3",
   "language": "python",
   "name": "python3"
  },
  "language_info": {
   "codemirror_mode": {
    "name": "ipython",
    "version": 3
   },
   "file_extension": ".py",
   "mimetype": "text/x-python",
   "name": "python",
   "nbconvert_exporter": "python",
   "pygments_lexer": "ipython3",
   "version": "3.8.5"
  }
 },
 "nbformat": 4,
 "nbformat_minor": 4
}
